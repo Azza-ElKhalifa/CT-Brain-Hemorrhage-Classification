{
 "cells": [
  {
   "cell_type": "markdown",
   "metadata": {},
   "source": [
    "# Intercranial Hemorrhage (ICH) Subtypes Detection Project\n",
    "\n",
    "**Notebook Content**\n",
    "\n",
    "1. [Summary](#Summary)\n",
    "2. [Import Libraries](#Import-Libraries)\n",
    "3. [Set Seed](#Set-Seed)\n",
    "4. [Data Handling](#Data-Handling)\n",
    "    - 4.1 [Declearing Data Paths](#Declaring-Data-Paths)\n",
    "    - 4.2 [Reading Data](#Reading-Data)\n",
    "    - 4.3 [Check Duplicates](#Check-Duplicates)\n",
    "    - 4.4 [Data Reformatting](#Data-Reformatting)\n",
    "5. [Configuration](#Configuration)\n",
    "6. [Data Split](#Data-Split)\n",
    "    - 6.1 [Train Test Split](#Train-Test-Split)\n",
    "    - 6.2 [Test Validation Split](#Test-Validation-Split)\n",
    "    - 6.3 [Concat each dataset with its labels](#Concat-Dataset)\n",
    "7. [Preprocessing](#Preprocessing)\n",
    "    - 7.1 [Transforms](#Transforms)\n",
    "        - 7.1.1 [LoadDcm](#LoadDcm)\n",
    "        - 7.1.2 [Correcting Window](#Correcting-Window)\n",
    "        - 7.1.3 [Denoise Image](#Denoise-Image)\n",
    "        - 7.1.4 [Crop Image](#Crop-Image)\n",
    "    - 7.2 [Preprocessing Pipeline](#Preprocessing-Pipeline)\n",
    "        - 7.2.1 [Training Pipeline](#Training-Pipeline)\n",
    "        - 7.2.3 [Testing Pipeline](#Testing-Pipeline)\n",
    "8. [Custom Dataset and DataLoader](#Custom-Dataset-Data-Loader)\n",
    "    - 8.1 [Custom Dataset](#Custom-Dataset)\n",
    "    - 8.2 [Data Loader](#Data-Loader)\n",
    "        - 8.2.1 [Train Data Loader](#Train-Data-Loader)\n",
    "        - 8.2.2 [Val Data Loader](#Val-Data-Loader)\n",
    "        - 8.2.3 [Test Data Loader](#Test-Data-Loader)\n",
    "9. [Modeling](#Modeling)\n",
    "   - 9.1 [Training](#Training)\n",
    "       - 9.1.1 [Configure Model CheckPoint Callback](#Configure-Model-CheckPoint-Callback)\n",
    "       - 9.1.2 [Loss Functions](#Loss-Functions)\n",
    "           - 9.1.2.1 [BCE Loss](#BCE-Loss)\n",
    "           - 9.1.2.1 [Focal Loss](#Focal-Loss)\n",
    "       - 9.1.3 [Model Experiments](#Model-Experiments)\n",
    "            - Changing Loss function on the same architecture\n",
    "                - 9.1.3.1 [DenseNet201 Model with BCEWithLogits Loss](#DenseNet201-Model-with-BCEWithLogits-Loss)\n",
    "                - 9.1.3.2 [DenseNet201 Model with Focal Loss](#DenseNet201-Model-with-Focal-Loss)\n",
    "            - Changing Model Architecture with the winner loss function\n",
    "                - 9.1.3.3 [EfficientNetB0 Model with Focal Loss](#EfficientNetB0-Model-with-Focal-Loss)\n",
    "                - 9.1.3.4 [EfficientNetB3 Model with Focal Loss](#EfficientNetB3-Model-with-Focal-Loss)\n",
    "            - Changing in Preprocessing with the winner architecture\n",
    "                - 9.1.3.5 [DenseNet201 with Focal Loss and 3 channels](#DenseNet201-with-Focal-Loss-and-3-channels)\n",
    "         - 9.1.4 [The Winner Model](#The-Winner-Model)\n",
    "   - 9.2 [Evaluation](#Evaluation)\n",
    "   - 9.3 [Error Analysis](#Error-Analysis)"
   ]
  },
  {
   "cell_type": "markdown",
   "metadata": {
    "collapsed": false,
    "jupyter": {
     "outputs_hidden": false
    }
   },
   "source": [
    "## **1. Summary** <a id='Summary'></a>\n",
    "\n",
    "During the project, we aimed to develop a robust model for detecting intracranial hemorrhages from medical images. The initial analysis of the train DataFrame revealed a significant class imbalance, with 644,870 normal exams and 107,933 abnormal exams comprising five subtypes: epidural, intraparenchymal, intraventricular, subarachnoid, and subdural.\n",
    "\n",
    "To address the class imbalance, we decided to balance the number of normal and abnormal exams during the training process. Additionally, we employed weighted loss for the subtypes to tackle the imbalance issue effectively. The test set and validation set were set to 10% each.\n",
    "\n",
    "In the preprocessing phase, custom classes were created to work seamlessly with Monai transforms. These included LoadDcm to read DICOM paths, CorrectingWindow to apply specific window level and width, DenoiseImage to remove noise, and CropScaleImage to crop the brain area and scale the image.\n",
    "\n",
    "Two preprocessing pipelines were defined:\n",
    "\n",
    "train_transform: Comprising the four custom stages alongside resizing the image to (224, 224) and applying Random Zoom and RandAffine with rotate and translate ranges for data augmentation.\n",
    "test_transform: Similar to train_transform but without Random Zoom and RandAffine, used for validation and test sets to ensure consistent evaluation.\n",
    "A custom Dataset was implemented to return transformed images and their labels for the DataLoader. To handle corrupted images, None was returned for those instances. Additionally, a custom collate_fn was created to filter out None values, ensuring smooth data loading during training. DataLoaders were set up for each dataset with a batch size of 32.\n",
    "\n",
    "For the modeling phase, several experiments were conducted:\n",
    "\n",
    "Model Checkpoint Callback: A callback was created to save the best model checkpoint during training.\n",
    "Loss Functions: Binary Cross Entropy with Logits and Focal Loss were used, with appropriate class weights to address the imbalance.\n",
    "Model Architecture Experiments:\n",
    "\n",
    "3.1 **Changing loss function on the same model architecture**\n",
    "    - DenseNet201: BCEWithLogits achieved an F1-score of 78.4%, and Focal Loss achieved 82%.\n",
    "\n",
    "3.2 **Changing Model Architecture with the winner loss function**\n",
    "    - EfficientNetB0 and EfficientNetB3: EfficientNetB0 achieved a score of 79%, while EfficientNetB3 reached 81.6%.\n",
    "\n",
    "3.3 **Preprocessing Enahncement with the winner architecture**\n",
    "    - Preprocessing Enhancement: A 3-channel image was created by stacking brain window, subdural window, and bone window together, achieving a score of 79%.\n",
    "\n",
    "The combination of Densenet201 and Focal Loss stood out as the best-performing architecture and loss function, achieving an impressive F1-score of 82% on test set."
   ]
  },
  {
   "cell_type": "markdown",
   "metadata": {},
   "source": [
    "## **2. Import Libraries** <a id='Import-Libraries'></a>"
   ]
  },
  {
   "cell_type": "code",
   "execution_count": 1,
   "metadata": {
    "ExecuteTime": {
     "end_time": "2023-07-24T01:00:17.563099426Z",
     "start_time": "2023-07-24T00:47:58.149032089Z"
    },
    "collapsed": false,
    "jupyter": {
     "outputs_hidden": false
    }
   },
   "outputs": [
    {
     "name": "stdout",
     "output_type": "stream",
     "text": [
      "Looking in indexes: https://download.pytorch.org/whl/cu118\r\n",
      "Collecting torch\r\n",
      "  Downloading https://download.pytorch.org/whl/cu118/torch-2.0.1%2Bcu118-cp310-cp310-linux_x86_64.whl (2267.3 MB)\r\n",
      "\u001b[2K     \u001b[90m━━━━━━━━━━━━━━━━━━━━━━━━━━━━━━━━━━━━━━━━\u001b[0m \u001b[32m2.3/2.3 GB\u001b[0m \u001b[31m1.0 MB/s\u001b[0m eta \u001b[36m0:00:00\u001b[0m00:01\u001b[0m00:17\u001b[0m\r\n",
      "\u001b[?25hCollecting torchvision\r\n",
      "  Downloading https://download.pytorch.org/whl/cu118/torchvision-0.15.2%2Bcu118-cp310-cp310-linux_x86_64.whl (6.1 MB)\r\n",
      "\u001b[2K     \u001b[90m━━━━━━━━━━━━━━━━━━━━━━━━━━━━━━━━━━━━━━━━\u001b[0m \u001b[32m6.1/6.1 MB\u001b[0m \u001b[31m3.8 MB/s\u001b[0m eta \u001b[36m0:00:00\u001b[0m00:01\u001b[0m00:01\u001b[0m\r\n",
      "\u001b[?25hCollecting torchaudio\r\n",
      "  Downloading https://download.pytorch.org/whl/cu118/torchaudio-2.0.2%2Bcu118-cp310-cp310-linux_x86_64.whl (4.4 MB)\r\n",
      "\u001b[2K     \u001b[90m━━━━━━━━━━━━━━━━━━━━━━━━━━━━━━━━━━━━━━━━\u001b[0m \u001b[32m4.4/4.4 MB\u001b[0m \u001b[31m3.2 MB/s\u001b[0m eta \u001b[36m0:00:00\u001b[0m00:01\u001b[0m00:01\u001b[0m0m\r\n",
      "\u001b[?25hCollecting networkx\r\n",
      "  Using cached https://download.pytorch.org/whl/networkx-3.0-py3-none-any.whl (2.0 MB)\r\n",
      "Collecting triton==2.0.0\r\n",
      "  Downloading https://download.pytorch.org/whl/triton-2.0.0-1-cp310-cp310-manylinux2014_x86_64.manylinux_2_17_x86_64.whl (63.3 MB)\r\n",
      "\u001b[2K     \u001b[90m━━━━━━━━━━━━━━━━━━━━━━━━━━━━━━━━━━━━━━━━\u001b[0m \u001b[32m63.3/63.3 MB\u001b[0m \u001b[31m3.3 MB/s\u001b[0m eta \u001b[36m0:00:00\u001b[0m00:01\u001b[0m00:01\u001b[0m\r\n",
      "\u001b[?25hCollecting sympy\r\n",
      "  Using cached https://download.pytorch.org/whl/sympy-1.11.1-py3-none-any.whl (6.5 MB)\r\n",
      "Requirement already satisfied: jinja2 in ./venv/lib/python3.10/site-packages (from torch) (3.1.2)\r\n",
      "Requirement already satisfied: typing-extensions in ./venv/lib/python3.10/site-packages (from torch) (4.7.1)\r\n",
      "Collecting filelock\r\n",
      "  Using cached https://download.pytorch.org/whl/filelock-3.9.0-py3-none-any.whl (9.7 kB)\r\n",
      "Collecting cmake\r\n",
      "  Using cached https://download.pytorch.org/whl/cmake-3.25.0-py2.py3-none-manylinux_2_17_x86_64.manylinux2014_x86_64.whl (23.7 MB)\r\n",
      "Collecting lit\r\n",
      "  Using cached https://download.pytorch.org/whl/lit-15.0.7.tar.gz (132 kB)\r\n",
      "  Preparing metadata (setup.py) ... \u001b[?25ldone\r\n",
      "\u001b[?25hCollecting pillow!=8.3.*,>=5.3.0\r\n",
      "  Downloading https://download.pytorch.org/whl/Pillow-9.3.0-cp310-cp310-manylinux_2_17_x86_64.manylinux2014_x86_64.whl (3.2 MB)\r\n",
      "\u001b[2K     \u001b[90m━━━━━━━━━━━━━━━━━━━━━━━━━━━━━━━━━━━━━━━━\u001b[0m \u001b[32m3.2/3.2 MB\u001b[0m \u001b[31m3.7 MB/s\u001b[0m eta \u001b[36m0:00:00\u001b[0m00:01\u001b[0m00:01\u001b[0m\r\n",
      "\u001b[?25hCollecting numpy\r\n",
      "  Downloading https://download.pytorch.org/whl/numpy-1.24.1-cp310-cp310-manylinux_2_17_x86_64.manylinux2014_x86_64.whl (17.3 MB)\r\n",
      "\u001b[2K     \u001b[90m━━━━━━━━━━━━━━━━━━━━━━━━━━━━━━━━━━━━━━━━\u001b[0m \u001b[32m17.3/17.3 MB\u001b[0m \u001b[31m3.5 MB/s\u001b[0m eta \u001b[36m0:00:00\u001b[0m00:01\u001b[0m00:01\u001b[0m\r\n",
      "\u001b[?25hRequirement already satisfied: requests in ./venv/lib/python3.10/site-packages (from torchvision) (2.31.0)\r\n",
      "Requirement already satisfied: MarkupSafe>=2.0 in ./venv/lib/python3.10/site-packages (from jinja2->torch) (2.1.3)\r\n",
      "Requirement already satisfied: idna<4,>=2.5 in ./venv/lib/python3.10/site-packages (from requests->torchvision) (3.4)\r\n",
      "Requirement already satisfied: certifi>=2017.4.17 in ./venv/lib/python3.10/site-packages (from requests->torchvision) (2023.7.22)\r\n",
      "Requirement already satisfied: urllib3<3,>=1.21.1 in ./venv/lib/python3.10/site-packages (from requests->torchvision) (2.0.4)\r\n",
      "Requirement already satisfied: charset-normalizer<4,>=2 in ./venv/lib/python3.10/site-packages (from requests->torchvision) (3.2.0)\r\n",
      "Collecting mpmath>=0.19\r\n",
      "  Using cached https://download.pytorch.org/whl/mpmath-1.2.1-py3-none-any.whl (532 kB)\r\n",
      "Building wheels for collected packages: lit\r\n",
      "  Building wheel for lit (setup.py) ... \u001b[?25ldone\r\n",
      "\u001b[?25h  Created wheel for lit: filename=lit-15.0.7-py3-none-any.whl size=89987 sha256=a35618d139b97417f7fe4ddcd27f739175d94c664b2520d27df7a21528673518\r\n",
      "  Stored in directory: /home/kyrillos/.cache/pip/wheels/bf/62/0d/01218f13f6a8051e982a7ce31d12b7bfd725dc69bd227ae104\r\n",
      "Successfully built lit\r\n",
      "Installing collected packages: mpmath, lit, cmake, sympy, pillow, numpy, networkx, filelock, triton, torch, torchvision, torchaudio\r\n",
      "Successfully installed cmake-3.25.0 filelock-3.9.0 lit-15.0.7 mpmath-1.2.1 networkx-3.0 numpy-1.24.1 pillow-9.3.0 sympy-1.11.1 torch-2.0.1+cu118 torchaudio-2.0.2+cu118 torchvision-0.15.2+cu118 triton-2.0.0\r\n",
      "\r\n",
      "\u001b[1m[\u001b[0m\u001b[34;49mnotice\u001b[0m\u001b[1;39;49m]\u001b[0m\u001b[39;49m A new release of pip available: \u001b[0m\u001b[31;49m22.3.1\u001b[0m\u001b[39;49m -> \u001b[0m\u001b[32;49m23.2.1\u001b[0m\r\n",
      "\u001b[1m[\u001b[0m\u001b[34;49mnotice\u001b[0m\u001b[1;39;49m]\u001b[0m\u001b[39;49m To update, run: \u001b[0m\u001b[32;49mpython -m pip install --upgrade pip\u001b[0m\r\n"
     ]
    }
   ],
   "source": [
    "!pip3 install torch torchvision torchaudio --index-url https://download.pytorch.org/whl/cu118"
   ]
  },
  {
   "cell_type": "code",
   "execution_count": 2,
   "metadata": {
    "ExecuteTime": {
     "end_time": "2023-07-24T01:01:10.059222830Z",
     "start_time": "2023-07-24T01:00:17.564778449Z"
    },
    "_cell_guid": "b1076dfc-b9ad-4769-8c92-a6c4dae69d19",
    "_uuid": "8f2839f25d086af736a60e9eeb907d3b93b6e0e5",
    "execution": {
     "iopub.execute_input": "2023-07-23T23:22:05.112308Z",
     "iopub.status.busy": "2023-07-23T23:22:05.111965Z",
     "iopub.status.idle": "2023-07-23T23:22:23.372732Z",
     "shell.execute_reply": "2023-07-23T23:22:23.371581Z",
     "shell.execute_reply.started": "2023-07-23T23:22:05.112280Z"
    }
   },
   "outputs": [
    {
     "name": "stdout",
     "output_type": "stream",
     "text": [
      "Collecting tqdm\r\n",
      "  Using cached tqdm-4.65.0-py3-none-any.whl (77 kB)\r\n",
      "Requirement already satisfied: numpy in ./venv/lib/python3.10/site-packages (1.24.1)\r\n",
      "Collecting pandas\r\n",
      "  Downloading pandas-2.0.3-cp310-cp310-manylinux_2_17_x86_64.manylinux2014_x86_64.whl (12.3 MB)\r\n",
      "\u001b[2K     \u001b[90m━━━━━━━━━━━━━━━━━━━━━━━━━━━━━━━━━━━━━━━━\u001b[0m \u001b[32m12.3/12.3 MB\u001b[0m \u001b[31m3.6 MB/s\u001b[0m eta \u001b[36m0:00:00\u001b[0m00:01\u001b[0m00:01\u001b[0m\r\n",
      "\u001b[?25hCollecting pydicom\r\n",
      "  Using cached pydicom-2.4.2-py3-none-any.whl (1.8 MB)\r\n",
      "Collecting pytorch-lightning\r\n",
      "  Using cached pytorch_lightning-2.0.5-py3-none-any.whl (722 kB)\r\n",
      "Collecting monai\r\n",
      "  Using cached monai-1.2.0-202306081546-py3-none-any.whl (1.3 MB)\r\n",
      "Collecting torchmetrics\r\n",
      "  Using cached torchmetrics-1.0.1-py3-none-any.whl (729 kB)\r\n",
      "Collecting scikit-learn\r\n",
      "  Downloading scikit_learn-1.3.0-cp310-cp310-manylinux_2_17_x86_64.manylinux2014_x86_64.whl (10.8 MB)\r\n",
      "\u001b[2K     \u001b[90m━━━━━━━━━━━━━━━━━━━━━━━━━━━━━━━━━━━━━━━━\u001b[0m \u001b[32m10.8/10.8 MB\u001b[0m \u001b[31m3.7 MB/s\u001b[0m eta \u001b[36m0:00:00\u001b[0m00:01\u001b[0m00:01\u001b[0m\r\n",
      "\u001b[?25hCollecting matplotlib\r\n",
      "  Downloading matplotlib-3.7.2-cp310-cp310-manylinux_2_17_x86_64.manylinux2014_x86_64.whl (11.6 MB)\r\n",
      "\u001b[2K     \u001b[90m━━━━━━━━━━━━━━━━━━━━━━━━━━━━━━━━━━━━━━━━\u001b[0m \u001b[32m11.6/11.6 MB\u001b[0m \u001b[31m3.6 MB/s\u001b[0m eta \u001b[36m0:00:00\u001b[0m00:01\u001b[0m00:01\u001b[0m\r\n",
      "\u001b[?25hCollecting opencv-contrib-python\r\n",
      "  Using cached opencv_contrib_python-4.8.0.74-cp37-abi3-manylinux_2_17_x86_64.manylinux2014_x86_64.whl (67.8 MB)\r\n",
      "Collecting lightning\r\n",
      "  Using cached lightning-2.0.5-py3-none-any.whl (1.9 MB)\r\n",
      "Collecting pytz>=2020.1\r\n",
      "  Using cached pytz-2023.3-py2.py3-none-any.whl (502 kB)\r\n",
      "Requirement already satisfied: python-dateutil>=2.8.2 in ./venv/lib/python3.10/site-packages (from pandas) (2.8.2)\r\n",
      "Collecting tzdata>=2022.1\r\n",
      "  Using cached tzdata-2023.3-py2.py3-none-any.whl (341 kB)\r\n",
      "Requirement already satisfied: packaging>=17.1 in ./venv/lib/python3.10/site-packages (from pytorch-lightning) (23.1)\r\n",
      "Collecting fsspec[http]>2021.06.0\r\n",
      "  Using cached fsspec-2023.6.0-py3-none-any.whl (163 kB)\r\n",
      "Collecting lightning-utilities>=0.7.0\r\n",
      "  Using cached lightning_utilities-0.9.0-py3-none-any.whl (23 kB)\r\n",
      "Requirement already satisfied: torch>=1.11.0 in ./venv/lib/python3.10/site-packages (from pytorch-lightning) (2.0.1+cu118)\r\n",
      "Requirement already satisfied: PyYAML>=5.4 in ./venv/lib/python3.10/site-packages (from pytorch-lightning) (6.0.1)\r\n",
      "Requirement already satisfied: typing-extensions>=4.0.0 in ./venv/lib/python3.10/site-packages (from pytorch-lightning) (4.7.1)\r\n",
      "Collecting threadpoolctl>=2.0.0\r\n",
      "  Using cached threadpoolctl-3.2.0-py3-none-any.whl (15 kB)\r\n",
      "Collecting scipy>=1.5.0\r\n",
      "  Downloading scipy-1.11.1-cp310-cp310-manylinux_2_17_x86_64.manylinux2014_x86_64.whl (36.3 MB)\r\n",
      "\u001b[2K     \u001b[90m━━━━━━━━━━━━━━━━━━━━━━━━━━━━━━━━━━━━━━━━\u001b[0m \u001b[32m36.3/36.3 MB\u001b[0m \u001b[31m3.2 MB/s\u001b[0m eta \u001b[36m0:00:00\u001b[0m00:01\u001b[0m00:01\u001b[0m\r\n",
      "\u001b[?25hCollecting joblib>=1.1.1\r\n",
      "  Downloading joblib-1.3.1-py3-none-any.whl (301 kB)\r\n",
      "\u001b[2K     \u001b[90m━━━━━━━━━━━━━━━━━━━━━━━━━━━━━━━━━━━━━━━\u001b[0m \u001b[32m302.0/302.0 kB\u001b[0m \u001b[31m3.6 MB/s\u001b[0m eta \u001b[36m0:00:00\u001b[0ma \u001b[36m0:00:01\u001b[0m\r\n",
      "\u001b[?25hCollecting contourpy>=1.0.1\r\n",
      "  Downloading contourpy-1.1.0-cp310-cp310-manylinux_2_17_x86_64.manylinux2014_x86_64.whl (300 kB)\r\n",
      "\u001b[2K     \u001b[90m━━━━━━━━━━━━━━━━━━━━━━━━━━━━━━━━━━━━━━━\u001b[0m \u001b[32m300.7/300.7 kB\u001b[0m \u001b[31m3.3 MB/s\u001b[0m eta \u001b[36m0:00:00\u001b[0ma \u001b[36m0:00:01\u001b[0m\r\n",
      "\u001b[?25hCollecting kiwisolver>=1.0.1\r\n",
      "  Downloading kiwisolver-1.4.4-cp310-cp310-manylinux_2_12_x86_64.manylinux2010_x86_64.whl (1.6 MB)\r\n",
      "\u001b[2K     \u001b[90m━━━━━━━━━━━━━━━━━━━━━━━━━━━━━━━━━━━━━━━━\u001b[0m \u001b[32m1.6/1.6 MB\u001b[0m \u001b[31m3.5 MB/s\u001b[0m eta \u001b[36m0:00:00\u001b[0ma \u001b[36m0:00:01\u001b[0m\r\n",
      "\u001b[?25hRequirement already satisfied: pillow>=6.2.0 in ./venv/lib/python3.10/site-packages (from matplotlib) (9.3.0)\r\n",
      "Collecting fonttools>=4.22.0\r\n",
      "  Downloading fonttools-4.41.1-cp310-cp310-manylinux_2_17_x86_64.manylinux2014_x86_64.whl (4.5 MB)\r\n",
      "\u001b[2K     \u001b[90m━━━━━━━━━━━━━━━━━━━━━━━━━━━━━━━━━━━━━━━━\u001b[0m \u001b[32m4.5/4.5 MB\u001b[0m \u001b[31m3.6 MB/s\u001b[0m eta \u001b[36m0:00:00\u001b[0m00:01\u001b[0m00:01\u001b[0m\r\n",
      "\u001b[?25hCollecting cycler>=0.10\r\n",
      "  Using cached cycler-0.11.0-py3-none-any.whl (6.4 kB)\r\n",
      "Collecting pyparsing<3.1,>=2.3.1\r\n",
      "  Using cached pyparsing-3.0.9-py3-none-any.whl (98 kB)\r\n",
      "Requirement already satisfied: requests<4.0 in ./venv/lib/python3.10/site-packages (from lightning) (2.31.0)\r\n",
      "Collecting click<10.0\r\n",
      "  Downloading click-8.1.6-py3-none-any.whl (97 kB)\r\n",
      "\u001b[2K     \u001b[90m━━━━━━━━━━━━━━━━━━━━━━━━━━━━━━━━━━━━━━━━\u001b[0m \u001b[32m97.9/97.9 kB\u001b[0m \u001b[31m3.7 MB/s\u001b[0m eta \u001b[36m0:00:00\u001b[0m\r\n",
      "\u001b[?25hCollecting fastapi<2.0,>=0.92.0\r\n",
      "  Using cached fastapi-0.100.0-py3-none-any.whl (65 kB)\r\n",
      "Requirement already satisfied: beautifulsoup4<6.0,>=4.8.0 in ./venv/lib/python3.10/site-packages (from lightning) (4.12.2)\r\n",
      "Collecting python-multipart<2.0,>=0.0.5\r\n",
      "  Using cached python_multipart-0.0.6-py3-none-any.whl (45 kB)\r\n",
      "Collecting rich<15.0,>=12.3.0\r\n",
      "  Using cached rich-13.4.2-py3-none-any.whl (239 kB)\r\n",
      "Requirement already satisfied: traitlets<7.0,>=5.3.0 in ./venv/lib/python3.10/site-packages (from lightning) (5.9.0)\r\n",
      "Collecting lightning-cloud>=0.5.37\r\n",
      "  Using cached lightning_cloud-0.5.37-py3-none-any.whl (596 kB)\r\n",
      "Collecting uvicorn<2.0\r\n",
      "  Using cached uvicorn-0.23.1-py3-none-any.whl (59 kB)\r\n",
      "Collecting starsessions<2.0,>=1.2.1\r\n",
      "  Using cached starsessions-1.3.0-py3-none-any.whl (10 kB)\r\n",
      "Requirement already satisfied: arrow<3.0,>=1.2.0 in ./venv/lib/python3.10/site-packages (from lightning) (1.2.3)\r\n",
      "Requirement already satisfied: websocket-client<3.0 in ./venv/lib/python3.10/site-packages (from lightning) (1.6.1)\r\n",
      "Collecting websockets<13.0\r\n",
      "  Using cached websockets-11.0.3-cp310-cp310-manylinux_2_5_x86_64.manylinux1_x86_64.manylinux_2_17_x86_64.manylinux2014_x86_64.whl (129 kB)\r\n",
      "Collecting deepdiff<8.0,>=5.7.0\r\n",
      "  Using cached deepdiff-6.3.1-py3-none-any.whl (70 kB)\r\n",
      "Collecting starlette\r\n",
      "  Using cached starlette-0.30.0-py3-none-any.whl (68 kB)\r\n",
      "Collecting dateutils<2.0\r\n",
      "  Using cached dateutils-0.6.12-py2.py3-none-any.whl (5.7 kB)\r\n",
      "Requirement already satisfied: psutil<7.0 in ./venv/lib/python3.10/site-packages (from lightning) (5.9.5)\r\n",
      "Collecting pydantic<2.0.0,>=1.7.4\r\n",
      "  Downloading pydantic-1.10.11-cp310-cp310-manylinux_2_17_x86_64.manylinux2014_x86_64.whl (3.1 MB)\r\n",
      "\u001b[2K     \u001b[90m━━━━━━━━━━━━━━━━━━━━━━━━━━━━━━━━━━━━━━━━\u001b[0m \u001b[32m3.1/3.1 MB\u001b[0m \u001b[31m3.7 MB/s\u001b[0m eta \u001b[36m0:00:00\u001b[0ma \u001b[36m0:00:01\u001b[0m\r\n",
      "\u001b[?25hRequirement already satisfied: Jinja2<5.0 in ./venv/lib/python3.10/site-packages (from lightning) (3.1.2)\r\n",
      "Collecting inquirer<5.0,>=2.10.0\r\n",
      "  Using cached inquirer-3.1.3-py3-none-any.whl (18 kB)\r\n",
      "Requirement already satisfied: urllib3<4.0 in ./venv/lib/python3.10/site-packages (from lightning) (2.0.4)\r\n",
      "Collecting backoff<4.0,>=2.2.1\r\n",
      "  Using cached backoff-2.2.1-py3-none-any.whl (15 kB)\r\n",
      "Collecting croniter<1.5.0,>=1.3.0\r\n",
      "  Using cached croniter-1.4.1-py2.py3-none-any.whl (19 kB)\r\n",
      "Requirement already satisfied: soupsieve>1.2 in ./venv/lib/python3.10/site-packages (from beautifulsoup4<6.0,>=4.8.0->lightning) (2.4.1)\r\n",
      "Collecting ordered-set<4.2.0,>=4.0.2\r\n",
      "  Using cached ordered_set-4.1.0-py3-none-any.whl (7.6 kB)\r\n",
      "Collecting starlette\r\n",
      "  Using cached starlette-0.27.0-py3-none-any.whl (66 kB)\r\n",
      "Collecting aiohttp!=4.0.0a0,!=4.0.0a1\r\n",
      "  Downloading aiohttp-3.8.5-cp310-cp310-manylinux_2_17_x86_64.manylinux2014_x86_64.whl (1.0 MB)\r\n",
      "\u001b[2K     \u001b[90m━━━━━━━━━━━━━━━━━━━━━━━━━━━━━━━━━━━━━━━━\u001b[0m \u001b[32m1.0/1.0 MB\u001b[0m \u001b[31m3.6 MB/s\u001b[0m eta \u001b[36m0:00:00\u001b[0m00:01\u001b[0m00:01\u001b[0m\r\n",
      "\u001b[?25hCollecting python-editor>=1.0.4\r\n",
      "  Using cached python_editor-1.0.4-py3-none-any.whl (4.9 kB)\r\n",
      "Collecting readchar>=3.0.6\r\n",
      "  Using cached readchar-4.0.5-py3-none-any.whl (8.5 kB)\r\n",
      "Collecting blessed>=1.19.0\r\n",
      "  Using cached blessed-1.20.0-py2.py3-none-any.whl (58 kB)\r\n",
      "Requirement already satisfied: MarkupSafe>=2.0 in ./venv/lib/python3.10/site-packages (from Jinja2<5.0->lightning) (2.1.3)\r\n",
      "Collecting pyjwt\r\n",
      "  Downloading PyJWT-2.8.0-py3-none-any.whl (22 kB)\r\n",
      "Requirement already satisfied: six in ./venv/lib/python3.10/site-packages (from lightning-cloud>=0.5.37->lightning) (1.16.0)\r\n",
      "Requirement already satisfied: charset-normalizer<4,>=2 in ./venv/lib/python3.10/site-packages (from requests<4.0->lightning) (3.2.0)\r\n",
      "Requirement already satisfied: certifi>=2017.4.17 in ./venv/lib/python3.10/site-packages (from requests<4.0->lightning) (2023.7.22)\r\n",
      "Requirement already satisfied: idna<4,>=2.5 in ./venv/lib/python3.10/site-packages (from requests<4.0->lightning) (3.4)\r\n",
      "Requirement already satisfied: pygments<3.0.0,>=2.13.0 in ./venv/lib/python3.10/site-packages (from rich<15.0,>=12.3.0->lightning) (2.15.1)\r\n",
      "Collecting markdown-it-py>=2.2.0\r\n",
      "  Using cached markdown_it_py-3.0.0-py3-none-any.whl (87 kB)\r\n",
      "Requirement already satisfied: anyio<5,>=3.4.0 in ./venv/lib/python3.10/site-packages (from starlette->lightning) (3.7.1)\r\n",
      "Collecting itsdangerous<3.0.0,>=2.0.1\r\n",
      "  Using cached itsdangerous-2.1.2-py3-none-any.whl (15 kB)\r\n",
      "Requirement already satisfied: sympy in ./venv/lib/python3.10/site-packages (from torch>=1.11.0->pytorch-lightning) (1.11.1)\r\n",
      "Requirement already satisfied: triton==2.0.0 in ./venv/lib/python3.10/site-packages (from torch>=1.11.0->pytorch-lightning) (2.0.0)\r\n",
      "Requirement already satisfied: networkx in ./venv/lib/python3.10/site-packages (from torch>=1.11.0->pytorch-lightning) (3.0)\r\n",
      "Requirement already satisfied: filelock in ./venv/lib/python3.10/site-packages (from torch>=1.11.0->pytorch-lightning) (3.9.0)\r\n",
      "Requirement already satisfied: cmake in ./venv/lib/python3.10/site-packages (from triton==2.0.0->torch>=1.11.0->pytorch-lightning) (3.25.0)\r\n",
      "Requirement already satisfied: lit in ./venv/lib/python3.10/site-packages (from triton==2.0.0->torch>=1.11.0->pytorch-lightning) (15.0.7)\r\n",
      "Collecting h11>=0.8\r\n",
      "  Using cached h11-0.14.0-py3-none-any.whl (58 kB)\r\n",
      "Collecting yarl<2.0,>=1.0\r\n",
      "  Downloading yarl-1.9.2-cp310-cp310-manylinux_2_17_x86_64.manylinux2014_x86_64.whl (268 kB)\r\n",
      "\u001b[2K     \u001b[90m━━━━━━━━━━━━━━━━━━━━━━━━━━━━━━━━━━━━━━━\u001b[0m \u001b[32m268.8/268.8 kB\u001b[0m \u001b[31m3.6 MB/s\u001b[0m eta \u001b[36m0:00:00\u001b[0m00:01\u001b[0m00:01\u001b[0m\r\n",
      "\u001b[?25hRequirement already satisfied: attrs>=17.3.0 in ./venv/lib/python3.10/site-packages (from aiohttp!=4.0.0a0,!=4.0.0a1->fsspec[http]>2021.06.0->pytorch-lightning) (23.1.0)\r\n",
      "Collecting multidict<7.0,>=4.5\r\n",
      "  Downloading multidict-6.0.4-cp310-cp310-manylinux_2_17_x86_64.manylinux2014_x86_64.whl (114 kB)\r\n",
      "\u001b[2K     \u001b[90m━━━━━━━━━━━━━━━━━━━━━━━━━━━━━━━━━━━━━━━\u001b[0m \u001b[32m114.5/114.5 kB\u001b[0m \u001b[31m3.4 MB/s\u001b[0m eta \u001b[36m0:00:00\u001b[0m\r\n",
      "\u001b[?25hCollecting frozenlist>=1.1.1\r\n",
      "  Downloading frozenlist-1.4.0-cp310-cp310-manylinux_2_5_x86_64.manylinux1_x86_64.manylinux_2_17_x86_64.manylinux2014_x86_64.whl (225 kB)\r\n",
      "\u001b[2K     \u001b[90m━━━━━━━━━━━━━━━━━━━━━━━━━━━━━━━━━━━━━━━\u001b[0m \u001b[32m225.7/225.7 kB\u001b[0m \u001b[31m3.4 MB/s\u001b[0m eta \u001b[36m0:00:00\u001b[0ma \u001b[36m0:00:01\u001b[0m\r\n",
      "\u001b[?25hCollecting aiosignal>=1.1.2\r\n",
      "  Using cached aiosignal-1.3.1-py3-none-any.whl (7.6 kB)\r\n",
      "Collecting async-timeout<5.0,>=4.0.0a3\r\n",
      "  Using cached async_timeout-4.0.2-py3-none-any.whl (5.8 kB)\r\n",
      "Requirement already satisfied: exceptiongroup in ./venv/lib/python3.10/site-packages (from anyio<5,>=3.4.0->starlette->lightning) (1.1.2)\r\n",
      "Requirement already satisfied: sniffio>=1.1 in ./venv/lib/python3.10/site-packages (from anyio<5,>=3.4.0->starlette->lightning) (1.3.0)\r\n",
      "Requirement already satisfied: wcwidth>=0.1.4 in ./venv/lib/python3.10/site-packages (from blessed>=1.19.0->inquirer<5.0,>=2.10.0->lightning) (0.2.6)\r\n",
      "Collecting mdurl~=0.1\r\n",
      "  Using cached mdurl-0.1.2-py3-none-any.whl (10.0 kB)\r\n",
      "Requirement already satisfied: setuptools>=41.0 in ./venv/lib/python3.10/site-packages (from readchar>=3.0.6->inquirer<5.0,>=2.10.0->lightning) (65.5.1)\r\n",
      "Requirement already satisfied: mpmath>=0.19 in ./venv/lib/python3.10/site-packages (from sympy->torch>=1.11.0->pytorch-lightning) (1.2.1)\r\n",
      "Installing collected packages: pytz, python-editor, websockets, tzdata, tqdm, threadpoolctl, scipy, readchar, python-multipart, pyparsing, pyjwt, pydicom, pydantic, ordered-set, opencv-contrib-python, multidict, mdurl, lightning-utilities, kiwisolver, joblib, itsdangerous, h11, fsspec, frozenlist, fonttools, cycler, contourpy, click, blessed, backoff, async-timeout, yarl, uvicorn, starlette, scikit-learn, pandas, matplotlib, markdown-it-py, inquirer, deepdiff, dateutils, croniter, aiosignal, starsessions, rich, fastapi, aiohttp, lightning-cloud, torchmetrics, pytorch-lightning, monai, lightning\r\n",
      "Successfully installed aiohttp-3.8.5 aiosignal-1.3.1 async-timeout-4.0.2 backoff-2.2.1 blessed-1.20.0 click-8.1.6 contourpy-1.1.0 croniter-1.4.1 cycler-0.11.0 dateutils-0.6.12 deepdiff-6.3.1 fastapi-0.100.0 fonttools-4.41.1 frozenlist-1.4.0 fsspec-2023.6.0 h11-0.14.0 inquirer-3.1.3 itsdangerous-2.1.2 joblib-1.3.1 kiwisolver-1.4.4 lightning-2.0.5 lightning-cloud-0.5.37 lightning-utilities-0.9.0 markdown-it-py-3.0.0 matplotlib-3.7.2 mdurl-0.1.2 monai-1.2.0 multidict-6.0.4 opencv-contrib-python-4.8.0.74 ordered-set-4.1.0 pandas-2.0.3 pydantic-1.10.11 pydicom-2.4.2 pyjwt-2.8.0 pyparsing-3.0.9 python-editor-1.0.4 python-multipart-0.0.6 pytorch-lightning-2.0.5 pytz-2023.3 readchar-4.0.5 rich-13.4.2 scikit-learn-1.3.0 scipy-1.11.1 starlette-0.27.0 starsessions-1.3.0 threadpoolctl-3.2.0 torchmetrics-1.0.1 tqdm-4.65.0 tzdata-2023.3 uvicorn-0.23.1 websockets-11.0.3 yarl-1.9.2\r\n",
      "\r\n",
      "\u001b[1m[\u001b[0m\u001b[34;49mnotice\u001b[0m\u001b[1;39;49m]\u001b[0m\u001b[39;49m A new release of pip available: \u001b[0m\u001b[31;49m22.3.1\u001b[0m\u001b[39;49m -> \u001b[0m\u001b[32;49m23.2.1\u001b[0m\r\n",
      "\u001b[1m[\u001b[0m\u001b[34;49mnotice\u001b[0m\u001b[1;39;49m]\u001b[0m\u001b[39;49m To update, run: \u001b[0m\u001b[32;49mpython -m pip install --upgrade pip\u001b[0m\r\n"
     ]
    }
   ],
   "source": [
    "!pip install tqdm numpy pandas pydicom pytorch-lightning\\\n",
    "monai torchmetrics scikit-learn matplotlib seaborn opencv-contrib-python\\\n",
    "    lightning tensorboard tensorboardx"
   ]
  },
  {
   "cell_type": "code",
   "execution_count": 3,
   "metadata": {
    "ExecuteTime": {
     "end_time": "2023-07-26T12:04:16.459276308Z",
     "start_time": "2023-07-26T12:04:16.428592763Z"
    },
    "execution": {
     "iopub.execute_input": "2023-07-23T23:22:23.375632Z",
     "iopub.status.busy": "2023-07-23T23:22:23.375258Z",
     "iopub.status.idle": "2023-07-23T23:22:42.057113Z",
     "shell.execute_reply": "2023-07-23T23:22:42.056106Z",
     "shell.execute_reply.started": "2023-07-23T23:22:23.375596Z"
    }
   },
   "outputs": [],
   "source": [
    "import torch\n",
    "import lightning.pytorch as pl\n",
    "import numpy as np\n",
    "import pandas as pd\n",
    "import matplotlib.pyplot as plt\n",
    "import seaborn as sns\n",
    "import tensorboard\n",
    "from sklearn.model_selection import train_test_split\n",
    "import torchmetrics\n",
    "import pydicom\n",
    "import monai\n",
    "import os\n",
    "from pathlib import Path\n",
    "import random\n",
    "import cv2\n",
    "import warnings\n",
    "warnings.filterwarnings('ignore')"
   ]
  },
  {
   "cell_type": "code",
   "execution_count": 2,
   "metadata": {
    "ExecuteTime": {
     "end_time": "2023-07-25T14:48:57.105046074Z",
     "start_time": "2023-07-25T14:48:56.857437858Z"
    },
    "execution": {
     "iopub.execute_input": "2023-07-23T23:22:42.058992Z",
     "iopub.status.busy": "2023-07-23T23:22:42.058618Z",
     "iopub.status.idle": "2023-07-23T23:22:42.073494Z",
     "shell.execute_reply": "2023-07-23T23:22:42.072542Z",
     "shell.execute_reply.started": "2023-07-23T23:22:42.058959Z"
    }
   },
   "outputs": [
    {
     "data": {
      "text/plain": [
       "'2.0.1+cu118'"
      ]
     },
     "execution_count": 2,
     "metadata": {},
     "output_type": "execute_result"
    }
   ],
   "source": [
    "torch.__version__"
   ]
  },
  {
   "cell_type": "markdown",
   "metadata": {},
   "source": [
    "## **3. Set Seed** <a id=\"Set-Seed\"></a>"
   ]
  },
  {
   "cell_type": "code",
   "execution_count": 3,
   "metadata": {
    "ExecuteTime": {
     "end_time": "2023-07-25T14:48:57.174836035Z",
     "start_time": "2023-07-25T14:48:56.901852222Z"
    },
    "execution": {
     "iopub.execute_input": "2023-07-23T23:22:43.123429Z",
     "iopub.status.busy": "2023-07-23T23:22:43.123034Z",
     "iopub.status.idle": "2023-07-23T23:22:43.151010Z",
     "shell.execute_reply": "2023-07-23T23:22:43.149928Z",
     "shell.execute_reply.started": "2023-07-23T23:22:43.123394Z"
    }
   },
   "outputs": [
    {
     "name": "stderr",
     "output_type": "stream",
     "text": [
      "Global seed set to 42\n"
     ]
    },
    {
     "data": {
      "text/plain": [
       "42"
      ]
     },
     "execution_count": 3,
     "metadata": {},
     "output_type": "execute_result"
    }
   ],
   "source": [
    "SEED = 42\n",
    "torch.manual_seed(SEED)\n",
    "# GPU operation has separate seed\n",
    "if torch.cuda.is_available():\n",
    "        torch.cuda.manual_seed(SEED)\n",
    "        torch.cuda.manual_seed_all(SEED)\n",
    "random.seed(SEED)\n",
    "np.random.seed(SEED)\n",
    "monai.utils.set_determinism(seed=SEED)\n",
    "pl.seed_everything(SEED)"
   ]
  },
  {
   "cell_type": "markdown",
   "metadata": {},
   "source": [
    "## **4. Data Handling** <a id = \"Data-Handling\"></a>"
   ]
  },
  {
   "cell_type": "markdown",
   "metadata": {},
   "source": [
    "### **4.1 Declaring Data Paths** <a id=\"Declaring-Data-Paths\"></a>"
   ]
  },
  {
   "cell_type": "code",
   "execution_count": 4,
   "metadata": {
    "ExecuteTime": {
     "end_time": "2023-07-25T14:48:57.175320683Z",
     "start_time": "2023-07-25T14:48:56.902511038Z"
    },
    "execution": {
     "iopub.execute_input": "2023-07-23T23:22:43.152878Z",
     "iopub.status.busy": "2023-07-23T23:22:43.152433Z",
     "iopub.status.idle": "2023-07-23T23:22:43.158816Z",
     "shell.execute_reply": "2023-07-23T23:22:43.157739Z",
     "shell.execute_reply.started": "2023-07-23T23:22:43.152842Z"
    }
   },
   "outputs": [],
   "source": [
    "CUR_PATH = Path().absolute()\n",
    "ROOT_DATA_DIR = Path(\"rsna-intracranial-hemorrhage-detection\")\n",
    "TRAINING_IMAGES_PATH = Path(\"stage_2_train\")\n",
    "TRAINING_CSV_PATH = Path(\"stage_2_train.csv\")"
   ]
  },
  {
   "cell_type": "markdown",
   "metadata": {},
   "source": [
    "### **4.2 Reading Data** <a id='Reading-Data'></a>"
   ]
  },
  {
   "cell_type": "code",
   "execution_count": 5,
   "metadata": {
    "ExecuteTime": {
     "end_time": "2023-07-25T14:49:01.493550833Z",
     "start_time": "2023-07-25T14:48:56.902846126Z"
    },
    "execution": {
     "iopub.execute_input": "2023-07-23T23:22:43.161067Z",
     "iopub.status.busy": "2023-07-23T23:22:43.160386Z",
     "iopub.status.idle": "2023-07-23T23:22:47.896238Z",
     "shell.execute_reply": "2023-07-23T23:22:47.895324Z",
     "shell.execute_reply.started": "2023-07-23T23:22:43.161034Z"
    }
   },
   "outputs": [
    {
     "data": {
      "text/html": [
       "<div>\n",
       "<style scoped>\n",
       "    .dataframe tbody tr th:only-of-type {\n",
       "        vertical-align: middle;\n",
       "    }\n",
       "\n",
       "    .dataframe tbody tr th {\n",
       "        vertical-align: top;\n",
       "    }\n",
       "\n",
       "    .dataframe thead th {\n",
       "        text-align: right;\n",
       "    }\n",
       "</style>\n",
       "<table border=\"1\" class=\"dataframe\">\n",
       "  <thead>\n",
       "    <tr style=\"text-align: right;\">\n",
       "      <th></th>\n",
       "      <th>ID</th>\n",
       "      <th>Label</th>\n",
       "    </tr>\n",
       "  </thead>\n",
       "  <tbody>\n",
       "    <tr>\n",
       "      <th>0</th>\n",
       "      <td>ID_12cadc6af_epidural</td>\n",
       "      <td>0</td>\n",
       "    </tr>\n",
       "    <tr>\n",
       "      <th>1</th>\n",
       "      <td>ID_12cadc6af_intraparenchymal</td>\n",
       "      <td>0</td>\n",
       "    </tr>\n",
       "    <tr>\n",
       "      <th>2</th>\n",
       "      <td>ID_12cadc6af_intraventricular</td>\n",
       "      <td>0</td>\n",
       "    </tr>\n",
       "    <tr>\n",
       "      <th>3</th>\n",
       "      <td>ID_12cadc6af_subarachnoid</td>\n",
       "      <td>0</td>\n",
       "    </tr>\n",
       "    <tr>\n",
       "      <th>4</th>\n",
       "      <td>ID_12cadc6af_subdural</td>\n",
       "      <td>0</td>\n",
       "    </tr>\n",
       "    <tr>\n",
       "      <th>5</th>\n",
       "      <td>ID_12cadc6af_any</td>\n",
       "      <td>0</td>\n",
       "    </tr>\n",
       "    <tr>\n",
       "      <th>6</th>\n",
       "      <td>ID_38fd7baa0_epidural</td>\n",
       "      <td>0</td>\n",
       "    </tr>\n",
       "    <tr>\n",
       "      <th>7</th>\n",
       "      <td>ID_38fd7baa0_intraparenchymal</td>\n",
       "      <td>0</td>\n",
       "    </tr>\n",
       "    <tr>\n",
       "      <th>8</th>\n",
       "      <td>ID_38fd7baa0_intraventricular</td>\n",
       "      <td>0</td>\n",
       "    </tr>\n",
       "    <tr>\n",
       "      <th>9</th>\n",
       "      <td>ID_38fd7baa0_subarachnoid</td>\n",
       "      <td>0</td>\n",
       "    </tr>\n",
       "  </tbody>\n",
       "</table>\n",
       "</div>"
      ],
      "text/plain": [
       "                              ID  Label\n",
       "0          ID_12cadc6af_epidural      0\n",
       "1  ID_12cadc6af_intraparenchymal      0\n",
       "2  ID_12cadc6af_intraventricular      0\n",
       "3      ID_12cadc6af_subarachnoid      0\n",
       "4          ID_12cadc6af_subdural      0\n",
       "5               ID_12cadc6af_any      0\n",
       "6          ID_38fd7baa0_epidural      0\n",
       "7  ID_38fd7baa0_intraparenchymal      0\n",
       "8  ID_38fd7baa0_intraventricular      0\n",
       "9      ID_38fd7baa0_subarachnoid      0"
      ]
     },
     "execution_count": 5,
     "metadata": {},
     "output_type": "execute_result"
    }
   ],
   "source": [
    "train_df = pd.read_csv(ROOT_DATA_DIR/TRAINING_CSV_PATH)\n",
    "train_df.head(10)"
   ]
  },
  {
   "cell_type": "markdown",
   "metadata": {},
   "source": [
    "### **4.3 Check Duplicates** <a id='Check-Duplicates'></a>"
   ]
  },
  {
   "cell_type": "code",
   "execution_count": 6,
   "metadata": {
    "ExecuteTime": {
     "end_time": "2023-07-25T14:49:06.173578382Z",
     "start_time": "2023-07-25T14:49:01.653305624Z"
    },
    "execution": {
     "iopub.execute_input": "2023-07-23T23:22:47.899419Z",
     "iopub.status.busy": "2023-07-23T23:22:47.898743Z",
     "iopub.status.idle": "2023-07-23T23:22:51.022585Z",
     "shell.execute_reply": "2023-07-23T23:22:51.021633Z",
     "shell.execute_reply.started": "2023-07-23T23:22:47.899384Z"
    }
   },
   "outputs": [
    {
     "data": {
      "text/plain": [
       "24"
      ]
     },
     "execution_count": 6,
     "metadata": {},
     "output_type": "execute_result"
    }
   ],
   "source": [
    "train_df.duplicated().sum()"
   ]
  },
  {
   "cell_type": "code",
   "execution_count": 7,
   "metadata": {
    "ExecuteTime": {
     "end_time": "2023-07-25T14:49:11.103281169Z",
     "start_time": "2023-07-25T14:49:06.270403970Z"
    },
    "execution": {
     "iopub.execute_input": "2023-07-23T23:22:51.024774Z",
     "iopub.status.busy": "2023-07-23T23:22:51.024116Z",
     "iopub.status.idle": "2023-07-23T23:22:54.402480Z",
     "shell.execute_reply": "2023-07-23T23:22:54.401426Z",
     "shell.execute_reply.started": "2023-07-23T23:22:51.024738Z"
    }
   },
   "outputs": [],
   "source": [
    "train_df.drop_duplicates(inplace=True)"
   ]
  },
  {
   "cell_type": "markdown",
   "metadata": {},
   "source": [
    "### **4.4 Data Reformatting** <a id='Data-Reformatting'></a>\n",
    "Regarding the dataframe above, It contains six rows for the same dicom file. Each row contains DicomPath and subtype label.\n",
    "\n",
    "Recreating the dataframe with Dicom Path and its subtype in two seperated columns."
   ]
  },
  {
   "cell_type": "code",
   "execution_count": 8,
   "metadata": {
    "ExecuteTime": {
     "end_time": "2023-07-25T14:50:03.064760013Z",
     "start_time": "2023-07-25T14:49:11.013534666Z"
    },
    "execution": {
     "iopub.execute_input": "2023-07-23T23:22:54.407987Z",
     "iopub.status.busy": "2023-07-23T23:22:54.407366Z",
     "iopub.status.idle": "2023-07-23T23:23:34.300704Z",
     "shell.execute_reply": "2023-07-23T23:23:34.299733Z",
     "shell.execute_reply.started": "2023-07-23T23:22:54.407951Z"
    }
   },
   "outputs": [
    {
     "data": {
      "text/html": [
       "<div>\n",
       "<style scoped>\n",
       "    .dataframe tbody tr th:only-of-type {\n",
       "        vertical-align: middle;\n",
       "    }\n",
       "\n",
       "    .dataframe tbody tr th {\n",
       "        vertical-align: top;\n",
       "    }\n",
       "\n",
       "    .dataframe thead th {\n",
       "        text-align: right;\n",
       "    }\n",
       "</style>\n",
       "<table border=\"1\" class=\"dataframe\">\n",
       "  <thead>\n",
       "    <tr style=\"text-align: right;\">\n",
       "      <th></th>\n",
       "      <th>ID</th>\n",
       "      <th>any</th>\n",
       "      <th>epidural</th>\n",
       "      <th>intraparenchymal</th>\n",
       "      <th>intraventricular</th>\n",
       "      <th>subarachnoid</th>\n",
       "      <th>subdural</th>\n",
       "    </tr>\n",
       "  </thead>\n",
       "  <tbody>\n",
       "    <tr>\n",
       "      <th>0</th>\n",
       "      <td>ID_000012eaf.dcm</td>\n",
       "      <td>0</td>\n",
       "      <td>0</td>\n",
       "      <td>0</td>\n",
       "      <td>0</td>\n",
       "      <td>0</td>\n",
       "      <td>0</td>\n",
       "    </tr>\n",
       "    <tr>\n",
       "      <th>1</th>\n",
       "      <td>ID_000039fa0.dcm</td>\n",
       "      <td>0</td>\n",
       "      <td>0</td>\n",
       "      <td>0</td>\n",
       "      <td>0</td>\n",
       "      <td>0</td>\n",
       "      <td>0</td>\n",
       "    </tr>\n",
       "    <tr>\n",
       "      <th>2</th>\n",
       "      <td>ID_00005679d.dcm</td>\n",
       "      <td>0</td>\n",
       "      <td>0</td>\n",
       "      <td>0</td>\n",
       "      <td>0</td>\n",
       "      <td>0</td>\n",
       "      <td>0</td>\n",
       "    </tr>\n",
       "    <tr>\n",
       "      <th>3</th>\n",
       "      <td>ID_00008ce3c.dcm</td>\n",
       "      <td>0</td>\n",
       "      <td>0</td>\n",
       "      <td>0</td>\n",
       "      <td>0</td>\n",
       "      <td>0</td>\n",
       "      <td>0</td>\n",
       "    </tr>\n",
       "    <tr>\n",
       "      <th>4</th>\n",
       "      <td>ID_0000950d7.dcm</td>\n",
       "      <td>0</td>\n",
       "      <td>0</td>\n",
       "      <td>0</td>\n",
       "      <td>0</td>\n",
       "      <td>0</td>\n",
       "      <td>0</td>\n",
       "    </tr>\n",
       "  </tbody>\n",
       "</table>\n",
       "</div>"
      ],
      "text/plain": [
       "                 ID  any  epidural  intraparenchymal  intraventricular  \\\n",
       "0  ID_000012eaf.dcm    0         0                 0                 0   \n",
       "1  ID_000039fa0.dcm    0         0                 0                 0   \n",
       "2  ID_00005679d.dcm    0         0                 0                 0   \n",
       "3  ID_00008ce3c.dcm    0         0                 0                 0   \n",
       "4  ID_0000950d7.dcm    0         0                 0                 0   \n",
       "\n",
       "   subarachnoid  subdural  \n",
       "0             0         0  \n",
       "1             0         0  \n",
       "2             0         0  \n",
       "3             0         0  \n",
       "4             0         0  "
      ]
     },
     "execution_count": 8,
     "metadata": {},
     "output_type": "execute_result"
    }
   ],
   "source": [
    "def recreate_table(df, splitter = \"_\"):\n",
    "    \"\"\"\n",
    "    \n",
    "    This function is used for recreating table with the right shape of path and labels\n",
    "    \n",
    "        Parameters:\n",
    "            df (Datframe) : The dataframe that has two columns ID = \"ID_<filename>_<subtype>\", label = 0 or 1\n",
    "            splitter(str) : the splitter used to split the ID string\n",
    "    \n",
    "        Returns:\n",
    "            new_df (Dataframe): a new dataframe with the right shape\n",
    "            \n",
    "    \"\"\"\n",
    "    new_df = df.copy()\n",
    "\n",
    "    # Splitting the ID column into two columns; file_name, subtypes\n",
    "    new_df[\"file_name\"] = new_df[\"ID\"].str.split(splitter, n=2, expand=True)[1]\n",
    "    new_df[\"Subtype\"] = new_df[\"ID\"].str.split(splitter, n=2, expand=True)[2]\n",
    "\n",
    "    # Rename each id into ID_<filename>_.dcm\n",
    "    new_df[\"ID\"] = new_df[\"file_name\"].apply(lambda name: \"ID_\"+name+\".dcm\")\n",
    "    new_df.drop(\"file_name\", axis=1, inplace=True)\n",
    "\n",
    "    #Changing the subtypes rows into columns with labels as values\n",
    "    new_df_pivot = new_df.pivot(index = \"ID\", columns=\"Subtype\", values=\"Label\")\n",
    "    new_df_pivot.reset_index(inplace=True)\n",
    "    new_df_pivot.rename_axis(None, axis=1, inplace=True)\n",
    "    return new_df_pivot\n",
    "\n",
    "train_df_new = recreate_table(train_df)\n",
    "train_df_new.head()"
   ]
  },
  {
   "cell_type": "markdown",
   "metadata": {},
   "source": [
    "**Exploring the size of normal and abnormal exams**"
   ]
  },
  {
   "cell_type": "code",
   "execution_count": 9,
   "metadata": {
    "ExecuteTime": {
     "end_time": "2023-07-25T14:50:03.293775671Z",
     "start_time": "2023-07-25T14:50:03.067861133Z"
    },
    "execution": {
     "iopub.execute_input": "2023-07-23T23:23:34.302800Z",
     "iopub.status.busy": "2023-07-23T23:23:34.302372Z",
     "iopub.status.idle": "2023-07-23T23:23:34.380954Z",
     "shell.execute_reply": "2023-07-23T23:23:34.379955Z",
     "shell.execute_reply.started": "2023-07-23T23:23:34.302765Z"
    }
   },
   "outputs": [
    {
     "name": "stdout",
     "output_type": "stream",
     "text": [
      "Abnormal Exams Size is 107933\n",
      "Normal Exams Size is 644870\n"
     ]
    }
   ],
   "source": [
    "abnormal_exams = train_df_new[train_df_new[\"any\"]==1]\n",
    "normal_exams = train_df_new[train_df_new[\"any\"]==0]\n",
    "print(f\"Abnormal Exams Size is {abnormal_exams.shape[0]}\\nNormal Exams Size is {normal_exams.shape[0]}\")"
   ]
  },
  {
   "cell_type": "markdown",
   "metadata": {},
   "source": [
    "**Exploring the subtypes size**"
   ]
  },
  {
   "cell_type": "code",
   "execution_count": 10,
   "metadata": {
    "ExecuteTime": {
     "end_time": "2023-07-25T14:50:03.297483122Z",
     "start_time": "2023-07-25T14:50:03.186586103Z"
    },
    "execution": {
     "iopub.execute_input": "2023-07-23T23:23:34.382940Z",
     "iopub.status.busy": "2023-07-23T23:23:34.382275Z",
     "iopub.status.idle": "2023-07-23T23:23:34.433166Z",
     "shell.execute_reply": "2023-07-23T23:23:34.432046Z",
     "shell.execute_reply.started": "2023-07-23T23:23:34.382892Z"
    }
   },
   "outputs": [
    {
     "name": "stdout",
     "output_type": "stream",
     "text": [
      "The size of epidural is 3145\n",
      "\n",
      "The size of intraparenchymal is 36118\n",
      "\n",
      "The size of intraventricular is 26205\n",
      "\n",
      "The size of subarachnoid is 35675\n",
      "\n",
      "The size of subdural is 47166\n",
      "\n"
     ]
    }
   ],
   "source": [
    "for subtype in train_df_new.columns[2:]:\n",
    "    df = train_df_new[train_df_new[subtype]==1]\n",
    "    print(f\"The size of {subtype} is {df.shape[0]}\\n\")"
   ]
  },
  {
   "cell_type": "markdown",
   "metadata": {},
   "source": [
    "**Regarding the stats above:**\n",
    " - The normal exams size is 6 times more than abnormal ones.\n",
    "     - So, for training process, we will use the size of normal exams as the same as the size of abnormal exams\n",
    "     \n",
    "     \n",
    " - There is unbalance between subtypes in abnormal exams.\n",
    "     - So, for training process, we will use weighted loss "
   ]
  },
  {
   "cell_type": "markdown",
   "metadata": {},
   "source": [
    "**Choosing normal exams with size the same as abnormal exams**"
   ]
  },
  {
   "cell_type": "code",
   "execution_count": 11,
   "metadata": {
    "ExecuteTime": {
     "end_time": "2023-07-25T14:50:03.395742195Z",
     "start_time": "2023-07-25T14:50:03.264105523Z"
    },
    "execution": {
     "iopub.execute_input": "2023-07-23T23:23:34.435189Z",
     "iopub.status.busy": "2023-07-23T23:23:34.434817Z",
     "iopub.status.idle": "2023-07-23T23:23:34.484560Z",
     "shell.execute_reply": "2023-07-23T23:23:34.483581Z",
     "shell.execute_reply.started": "2023-07-23T23:23:34.435154Z"
    }
   },
   "outputs": [
    {
     "data": {
      "text/html": [
       "<div>\n",
       "<style scoped>\n",
       "    .dataframe tbody tr th:only-of-type {\n",
       "        vertical-align: middle;\n",
       "    }\n",
       "\n",
       "    .dataframe tbody tr th {\n",
       "        vertical-align: top;\n",
       "    }\n",
       "\n",
       "    .dataframe thead th {\n",
       "        text-align: right;\n",
       "    }\n",
       "</style>\n",
       "<table border=\"1\" class=\"dataframe\">\n",
       "  <thead>\n",
       "    <tr style=\"text-align: right;\">\n",
       "      <th></th>\n",
       "      <th>ID</th>\n",
       "      <th>any</th>\n",
       "      <th>epidural</th>\n",
       "      <th>intraparenchymal</th>\n",
       "      <th>intraventricular</th>\n",
       "      <th>subarachnoid</th>\n",
       "      <th>subdural</th>\n",
       "    </tr>\n",
       "  </thead>\n",
       "  <tbody>\n",
       "    <tr>\n",
       "      <th>0</th>\n",
       "      <td>ID_1c6bfb61e.dcm</td>\n",
       "      <td>0</td>\n",
       "      <td>0</td>\n",
       "      <td>0</td>\n",
       "      <td>0</td>\n",
       "      <td>0</td>\n",
       "      <td>0</td>\n",
       "    </tr>\n",
       "    <tr>\n",
       "      <th>1</th>\n",
       "      <td>ID_c59dfca21.dcm</td>\n",
       "      <td>0</td>\n",
       "      <td>0</td>\n",
       "      <td>0</td>\n",
       "      <td>0</td>\n",
       "      <td>0</td>\n",
       "      <td>0</td>\n",
       "    </tr>\n",
       "    <tr>\n",
       "      <th>2</th>\n",
       "      <td>ID_f339f98d4.dcm</td>\n",
       "      <td>0</td>\n",
       "      <td>0</td>\n",
       "      <td>0</td>\n",
       "      <td>0</td>\n",
       "      <td>0</td>\n",
       "      <td>0</td>\n",
       "    </tr>\n",
       "    <tr>\n",
       "      <th>3</th>\n",
       "      <td>ID_bfd1b9b9f.dcm</td>\n",
       "      <td>0</td>\n",
       "      <td>0</td>\n",
       "      <td>0</td>\n",
       "      <td>0</td>\n",
       "      <td>0</td>\n",
       "      <td>0</td>\n",
       "    </tr>\n",
       "    <tr>\n",
       "      <th>4</th>\n",
       "      <td>ID_0c0326411.dcm</td>\n",
       "      <td>0</td>\n",
       "      <td>0</td>\n",
       "      <td>0</td>\n",
       "      <td>0</td>\n",
       "      <td>0</td>\n",
       "      <td>0</td>\n",
       "    </tr>\n",
       "    <tr>\n",
       "      <th>...</th>\n",
       "      <td>...</td>\n",
       "      <td>...</td>\n",
       "      <td>...</td>\n",
       "      <td>...</td>\n",
       "      <td>...</td>\n",
       "      <td>...</td>\n",
       "      <td>...</td>\n",
       "    </tr>\n",
       "    <tr>\n",
       "      <th>107928</th>\n",
       "      <td>ID_75253a3fb.dcm</td>\n",
       "      <td>0</td>\n",
       "      <td>0</td>\n",
       "      <td>0</td>\n",
       "      <td>0</td>\n",
       "      <td>0</td>\n",
       "      <td>0</td>\n",
       "    </tr>\n",
       "    <tr>\n",
       "      <th>107929</th>\n",
       "      <td>ID_99dbd823d.dcm</td>\n",
       "      <td>0</td>\n",
       "      <td>0</td>\n",
       "      <td>0</td>\n",
       "      <td>0</td>\n",
       "      <td>0</td>\n",
       "      <td>0</td>\n",
       "    </tr>\n",
       "    <tr>\n",
       "      <th>107930</th>\n",
       "      <td>ID_a3fcf0fe8.dcm</td>\n",
       "      <td>0</td>\n",
       "      <td>0</td>\n",
       "      <td>0</td>\n",
       "      <td>0</td>\n",
       "      <td>0</td>\n",
       "      <td>0</td>\n",
       "    </tr>\n",
       "    <tr>\n",
       "      <th>107931</th>\n",
       "      <td>ID_6b874c8e4.dcm</td>\n",
       "      <td>0</td>\n",
       "      <td>0</td>\n",
       "      <td>0</td>\n",
       "      <td>0</td>\n",
       "      <td>0</td>\n",
       "      <td>0</td>\n",
       "    </tr>\n",
       "    <tr>\n",
       "      <th>107932</th>\n",
       "      <td>ID_9a1f919ea.dcm</td>\n",
       "      <td>0</td>\n",
       "      <td>0</td>\n",
       "      <td>0</td>\n",
       "      <td>0</td>\n",
       "      <td>0</td>\n",
       "      <td>0</td>\n",
       "    </tr>\n",
       "  </tbody>\n",
       "</table>\n",
       "<p>107933 rows × 7 columns</p>\n",
       "</div>"
      ],
      "text/plain": [
       "                      ID  any  epidural  intraparenchymal  intraventricular  \\\n",
       "0       ID_1c6bfb61e.dcm    0         0                 0                 0   \n",
       "1       ID_c59dfca21.dcm    0         0                 0                 0   \n",
       "2       ID_f339f98d4.dcm    0         0                 0                 0   \n",
       "3       ID_bfd1b9b9f.dcm    0         0                 0                 0   \n",
       "4       ID_0c0326411.dcm    0         0                 0                 0   \n",
       "...                  ...  ...       ...               ...               ...   \n",
       "107928  ID_75253a3fb.dcm    0         0                 0                 0   \n",
       "107929  ID_99dbd823d.dcm    0         0                 0                 0   \n",
       "107930  ID_a3fcf0fe8.dcm    0         0                 0                 0   \n",
       "107931  ID_6b874c8e4.dcm    0         0                 0                 0   \n",
       "107932  ID_9a1f919ea.dcm    0         0                 0                 0   \n",
       "\n",
       "        subarachnoid  subdural  \n",
       "0                  0         0  \n",
       "1                  0         0  \n",
       "2                  0         0  \n",
       "3                  0         0  \n",
       "4                  0         0  \n",
       "...              ...       ...  \n",
       "107928             0         0  \n",
       "107929             0         0  \n",
       "107930             0         0  \n",
       "107931             0         0  \n",
       "107932             0         0  \n",
       "\n",
       "[107933 rows x 7 columns]"
      ]
     },
     "execution_count": 11,
     "metadata": {},
     "output_type": "execute_result"
    }
   ],
   "source": [
    "normal_exams_new_size = normal_exams.sample(n = abnormal_exams.shape[0],\n",
    "                                      replace=False, \n",
    "                                      random_state=SEED,\n",
    "                                      ignore_index=True\n",
    "                                      )\n",
    "normal_exams_new_size"
   ]
  },
  {
   "cell_type": "markdown",
   "metadata": {},
   "source": [
    "**Create the dataframe that will be used in the training process**"
   ]
  },
  {
   "cell_type": "code",
   "execution_count": 12,
   "metadata": {
    "ExecuteTime": {
     "end_time": "2023-07-25T14:50:03.398219152Z",
     "start_time": "2023-07-25T14:50:03.353253455Z"
    },
    "execution": {
     "iopub.execute_input": "2023-07-23T23:23:34.486167Z",
     "iopub.status.busy": "2023-07-23T23:23:34.485814Z",
     "iopub.status.idle": "2023-07-23T23:23:34.509167Z",
     "shell.execute_reply": "2023-07-23T23:23:34.507719Z",
     "shell.execute_reply.started": "2023-07-23T23:23:34.486134Z"
    }
   },
   "outputs": [
    {
     "data": {
      "text/html": [
       "<div>\n",
       "<style scoped>\n",
       "    .dataframe tbody tr th:only-of-type {\n",
       "        vertical-align: middle;\n",
       "    }\n",
       "\n",
       "    .dataframe tbody tr th {\n",
       "        vertical-align: top;\n",
       "    }\n",
       "\n",
       "    .dataframe thead th {\n",
       "        text-align: right;\n",
       "    }\n",
       "</style>\n",
       "<table border=\"1\" class=\"dataframe\">\n",
       "  <thead>\n",
       "    <tr style=\"text-align: right;\">\n",
       "      <th></th>\n",
       "      <th>ID</th>\n",
       "      <th>any</th>\n",
       "      <th>epidural</th>\n",
       "      <th>intraparenchymal</th>\n",
       "      <th>intraventricular</th>\n",
       "      <th>subarachnoid</th>\n",
       "      <th>subdural</th>\n",
       "    </tr>\n",
       "  </thead>\n",
       "  <tbody>\n",
       "    <tr>\n",
       "      <th>0</th>\n",
       "      <td>ID_1c6bfb61e.dcm</td>\n",
       "      <td>0</td>\n",
       "      <td>0</td>\n",
       "      <td>0</td>\n",
       "      <td>0</td>\n",
       "      <td>0</td>\n",
       "      <td>0</td>\n",
       "    </tr>\n",
       "    <tr>\n",
       "      <th>1</th>\n",
       "      <td>ID_c59dfca21.dcm</td>\n",
       "      <td>0</td>\n",
       "      <td>0</td>\n",
       "      <td>0</td>\n",
       "      <td>0</td>\n",
       "      <td>0</td>\n",
       "      <td>0</td>\n",
       "    </tr>\n",
       "    <tr>\n",
       "      <th>2</th>\n",
       "      <td>ID_f339f98d4.dcm</td>\n",
       "      <td>0</td>\n",
       "      <td>0</td>\n",
       "      <td>0</td>\n",
       "      <td>0</td>\n",
       "      <td>0</td>\n",
       "      <td>0</td>\n",
       "    </tr>\n",
       "    <tr>\n",
       "      <th>3</th>\n",
       "      <td>ID_bfd1b9b9f.dcm</td>\n",
       "      <td>0</td>\n",
       "      <td>0</td>\n",
       "      <td>0</td>\n",
       "      <td>0</td>\n",
       "      <td>0</td>\n",
       "      <td>0</td>\n",
       "    </tr>\n",
       "    <tr>\n",
       "      <th>4</th>\n",
       "      <td>ID_0c0326411.dcm</td>\n",
       "      <td>0</td>\n",
       "      <td>0</td>\n",
       "      <td>0</td>\n",
       "      <td>0</td>\n",
       "      <td>0</td>\n",
       "      <td>0</td>\n",
       "    </tr>\n",
       "    <tr>\n",
       "      <th>...</th>\n",
       "      <td>...</td>\n",
       "      <td>...</td>\n",
       "      <td>...</td>\n",
       "      <td>...</td>\n",
       "      <td>...</td>\n",
       "      <td>...</td>\n",
       "      <td>...</td>\n",
       "    </tr>\n",
       "    <tr>\n",
       "      <th>215861</th>\n",
       "      <td>ID_fffc60817.dcm</td>\n",
       "      <td>1</td>\n",
       "      <td>0</td>\n",
       "      <td>1</td>\n",
       "      <td>1</td>\n",
       "      <td>0</td>\n",
       "      <td>0</td>\n",
       "    </tr>\n",
       "    <tr>\n",
       "      <th>215862</th>\n",
       "      <td>ID_fffd00949.dcm</td>\n",
       "      <td>1</td>\n",
       "      <td>0</td>\n",
       "      <td>0</td>\n",
       "      <td>0</td>\n",
       "      <td>1</td>\n",
       "      <td>0</td>\n",
       "    </tr>\n",
       "    <tr>\n",
       "      <th>215863</th>\n",
       "      <td>ID_fffe2edb8.dcm</td>\n",
       "      <td>1</td>\n",
       "      <td>0</td>\n",
       "      <td>1</td>\n",
       "      <td>1</td>\n",
       "      <td>0</td>\n",
       "      <td>0</td>\n",
       "    </tr>\n",
       "    <tr>\n",
       "      <th>215864</th>\n",
       "      <td>ID_ffff922b9.dcm</td>\n",
       "      <td>1</td>\n",
       "      <td>0</td>\n",
       "      <td>0</td>\n",
       "      <td>1</td>\n",
       "      <td>0</td>\n",
       "      <td>0</td>\n",
       "    </tr>\n",
       "    <tr>\n",
       "      <th>215865</th>\n",
       "      <td>ID_ffffb670a.dcm</td>\n",
       "      <td>1</td>\n",
       "      <td>0</td>\n",
       "      <td>0</td>\n",
       "      <td>0</td>\n",
       "      <td>1</td>\n",
       "      <td>0</td>\n",
       "    </tr>\n",
       "  </tbody>\n",
       "</table>\n",
       "<p>215866 rows × 7 columns</p>\n",
       "</div>"
      ],
      "text/plain": [
       "                      ID  any  epidural  intraparenchymal  intraventricular  \\\n",
       "0       ID_1c6bfb61e.dcm    0         0                 0                 0   \n",
       "1       ID_c59dfca21.dcm    0         0                 0                 0   \n",
       "2       ID_f339f98d4.dcm    0         0                 0                 0   \n",
       "3       ID_bfd1b9b9f.dcm    0         0                 0                 0   \n",
       "4       ID_0c0326411.dcm    0         0                 0                 0   \n",
       "...                  ...  ...       ...               ...               ...   \n",
       "215861  ID_fffc60817.dcm    1         0                 1                 1   \n",
       "215862  ID_fffd00949.dcm    1         0                 0                 0   \n",
       "215863  ID_fffe2edb8.dcm    1         0                 1                 1   \n",
       "215864  ID_ffff922b9.dcm    1         0                 0                 1   \n",
       "215865  ID_ffffb670a.dcm    1         0                 0                 0   \n",
       "\n",
       "        subarachnoid  subdural  \n",
       "0                  0         0  \n",
       "1                  0         0  \n",
       "2                  0         0  \n",
       "3                  0         0  \n",
       "4                  0         0  \n",
       "...              ...       ...  \n",
       "215861             0         0  \n",
       "215862             1         0  \n",
       "215863             0         0  \n",
       "215864             0         0  \n",
       "215865             1         0  \n",
       "\n",
       "[215866 rows x 7 columns]"
      ]
     },
     "execution_count": 12,
     "metadata": {},
     "output_type": "execute_result"
    }
   ],
   "source": [
    "dcm_dataframe = pd.concat([normal_exams_new_size, abnormal_exams], axis=0, ignore_index=True)\n",
    "dcm_dataframe"
   ]
  },
  {
   "cell_type": "markdown",
   "metadata": {},
   "source": [
    "## **5. Configuration** <a id=\"Configuration\"></a>"
   ]
  },
  {
   "cell_type": "code",
   "execution_count": 13,
   "metadata": {
    "ExecuteTime": {
     "end_time": "2023-07-25T14:50:03.399121871Z",
     "start_time": "2023-07-25T14:50:03.381810101Z"
    },
    "execution": {
     "iopub.execute_input": "2023-07-24T00:09:31.138898Z",
     "iopub.status.busy": "2023-07-24T00:09:31.138270Z",
     "iopub.status.idle": "2023-07-24T00:09:31.145671Z",
     "shell.execute_reply": "2023-07-24T00:09:31.144152Z",
     "shell.execute_reply.started": "2023-07-24T00:09:31.138864Z"
    }
   },
   "outputs": [],
   "source": [
    "config = {\n",
    "    \"test_size\" : 0.1,\n",
    "    \"val_size\": 0.1,\n",
    "    \"image_shape\": (224,224),\n",
    "    \"batch_size\": 32,\n",
    "    \n",
    "    \"optimizer\": { \"lr\": 1e-3,},\n",
    "    \n",
    "    \"loss\": { \"pos_weights\": [1.4142, 8.2848, 2.4447, 2.8701, 2.4599, 2.1393]},\n",
    "    \n",
    "    \"model\":{ \"num_classes\": 6,\n",
    "              \"in_channels\":1,\n",
    "              \"spatial_dims\":2,\n",
    "              \"epochs\": 5,\n",
    "                    \n",
    "            },\n",
    "}"
   ]
  },
  {
   "cell_type": "markdown",
   "metadata": {},
   "source": [
    "## **6. Data Split** <a id=\"Data-Split\"></a>\n",
    "\n",
    "- The data will be splitted into 80% training and 10% validation and 10% testing"
   ]
  },
  {
   "cell_type": "code",
   "execution_count": 14,
   "metadata": {
    "ExecuteTime": {
     "end_time": "2023-07-25T14:50:03.399403923Z",
     "start_time": "2023-07-25T14:50:03.383045183Z"
    },
    "execution": {
     "iopub.execute_input": "2023-07-23T23:23:34.520085Z",
     "iopub.status.busy": "2023-07-23T23:23:34.519599Z",
     "iopub.status.idle": "2023-07-23T23:23:34.534434Z",
     "shell.execute_reply": "2023-07-23T23:23:34.533545Z",
     "shell.execute_reply.started": "2023-07-23T23:23:34.520054Z"
    }
   },
   "outputs": [],
   "source": [
    "X = dcm_dataframe[\"ID\"]\n",
    "y = dcm_dataframe.drop(\"ID\", axis=1)"
   ]
  },
  {
   "cell_type": "markdown",
   "metadata": {},
   "source": [
    "### **6.1 Train-Test Split** <a id=\"Train-Test-Split\"></a>"
   ]
  },
  {
   "cell_type": "code",
   "execution_count": 15,
   "metadata": {
    "ExecuteTime": {
     "end_time": "2023-07-25T14:50:04.929302206Z",
     "start_time": "2023-07-25T14:50:03.397530091Z"
    },
    "execution": {
     "iopub.execute_input": "2023-07-23T23:23:34.536065Z",
     "iopub.status.busy": "2023-07-23T23:23:34.535658Z",
     "iopub.status.idle": "2023-07-23T23:23:37.547930Z",
     "shell.execute_reply": "2023-07-23T23:23:37.546901Z",
     "shell.execute_reply.started": "2023-07-23T23:23:34.536033Z"
    }
   },
   "outputs": [],
   "source": [
    "X_train, X_test, y_train, y_test = train_test_split(X,\n",
    "                                                    y,\n",
    "                                                    test_size= config[\"val_size\"] + config[\"test_size\"],\n",
    "                                                    random_state=SEED,\n",
    "                                                    shuffle=True,\n",
    "                                                    stratify=y\n",
    "                                                   )"
   ]
  },
  {
   "cell_type": "markdown",
   "metadata": {},
   "source": [
    "**Ensuring about the percentage of columns' size in train and test sets**"
   ]
  },
  {
   "cell_type": "code",
   "execution_count": 16,
   "metadata": {
    "ExecuteTime": {
     "end_time": "2023-07-25T14:50:04.983486378Z",
     "start_time": "2023-07-25T14:50:04.908187194Z"
    },
    "execution": {
     "iopub.execute_input": "2023-07-23T23:23:37.549917Z",
     "iopub.status.busy": "2023-07-23T23:23:37.549532Z",
     "iopub.status.idle": "2023-07-23T23:23:37.599371Z",
     "shell.execute_reply": "2023-07-23T23:23:37.598404Z",
     "shell.execute_reply.started": "2023-07-23T23:23:37.549881Z"
    }
   },
   "outputs": [
    {
     "name": "stdout",
     "output_type": "stream",
     "text": [
      "The size of training set is 0.799996293997202 and testing set is 0.20000370600279804\n",
      "The size of any in training set is 0.799996293997202 and testing set is 0.20000370600279804\n",
      "The size of epidural in training set is 0.8 and testing set is 0.2\n",
      "The size of intraparenchymal in training set is 0.7999889251896561 and testing set is 0.2000110748103439\n",
      "The size of intraventricular in training set is 0.8 and testing set is 0.2\n",
      "The size of subarachnoid in training set is 0.8 and testing set is 0.2\n",
      "The size of subdural in training set is 0.7999830386295212 and testing set is 0.20001696137047872\n"
     ]
    }
   ],
   "source": [
    "print(f\"The size of training set is {X_train.shape[0]/X.shape[0]} and testing set is {X_test.shape[0]/X.shape[0]}\")\n",
    "for col in y.columns:\n",
    "    print(f\"The size of {col} in training set is {y_train[y_train[col]==1].shape[0]/y[y[col]==1].shape[0]}\"\n",
    "          f\" and testing set is {y_test[y_test[col]==1].shape[0]/y[y[col]==1].shape[0]}\")"
   ]
  },
  {
   "cell_type": "markdown",
   "metadata": {},
   "source": [
    "### **6.2 Test-Validation Split** <a id=\"Test-Validation-Split\"></a>"
   ]
  },
  {
   "cell_type": "code",
   "execution_count": 17,
   "metadata": {
    "ExecuteTime": {
     "end_time": "2023-07-25T14:50:05.205703282Z",
     "start_time": "2023-07-25T14:50:05.049111942Z"
    },
    "execution": {
     "iopub.execute_input": "2023-07-23T23:23:37.601343Z",
     "iopub.status.busy": "2023-07-23T23:23:37.600797Z",
     "iopub.status.idle": "2023-07-23T23:23:38.207324Z",
     "shell.execute_reply": "2023-07-23T23:23:38.206175Z",
     "shell.execute_reply.started": "2023-07-23T23:23:37.601305Z"
    }
   },
   "outputs": [],
   "source": [
    "X_val, X_test, y_val, y_test = train_test_split(X_test,\n",
    "                                                y_test,\n",
    "                                                test_size= config[\"val_size\"]/(config[\"val_size\"] + config[\"test_size\"]),\n",
    "                                                random_state=SEED,\n",
    "                                                shuffle=True,\n",
    "                                                stratify=y_test\n",
    "                                               )"
   ]
  },
  {
   "cell_type": "markdown",
   "metadata": {},
   "source": [
    "**Ensuring about the percentage of columns' size in validation and test sets**"
   ]
  },
  {
   "cell_type": "code",
   "execution_count": 18,
   "metadata": {
    "ExecuteTime": {
     "end_time": "2023-07-25T14:50:05.254231178Z",
     "start_time": "2023-07-25T14:50:05.205067526Z"
    },
    "execution": {
     "iopub.execute_input": "2023-07-23T23:23:38.209152Z",
     "iopub.status.busy": "2023-07-23T23:23:38.208771Z",
     "iopub.status.idle": "2023-07-23T23:23:38.254667Z",
     "shell.execute_reply": "2023-07-23T23:23:38.253600Z",
     "shell.execute_reply.started": "2023-07-23T23:23:38.209117Z"
    }
   },
   "outputs": [
    {
     "name": "stdout",
     "output_type": "stream",
     "text": [
      "The size of training set is 0.10000185300139902and testing set is 0.10000185300139902\n",
      "The size of any in training set is 0.10000648550489656 and testing set is 0.09999722049790148\n",
      "The size of epidural in training set is 0.10015898251192369 and testing set is 0.0998410174880763\n",
      "The size of intraparenchymal in training set is 0.10000553740517194 and testing set is 0.10000553740517194\n",
      "The size of intraventricular in training set is 0.09998091967181835 and testing set is 0.10001908032818164\n",
      "The size of subarachnoid in training set is 0.10001401541695866 and testing set is 0.09998598458304135\n",
      "The size of subdural in training set is 0.10000848068523936 and testing set is 0.10000848068523936\n"
     ]
    }
   ],
   "source": [
    "print(f\"The size of training set is {X_val.shape[0]/X.shape[0]}\"\n",
    "      f\"and testing set is {X_val.shape[0]/X.shape[0]}\")\n",
    "\n",
    "for col in y.columns:\n",
    "    print(f\"The size of {col} in training set is {y_val[y_val[col]==1].shape[0]/y[y[col]==1].shape[0]}\"\n",
    "          f\" and testing set is {y_test[y_test[col]==1].shape[0]/y[y[col]==1].shape[0]}\")"
   ]
  },
  {
   "cell_type": "markdown",
   "metadata": {},
   "source": [
    "### **6.3 Concat each dataset with its labels** <a id=\"Concat-Dataset\"></a>"
   ]
  },
  {
   "cell_type": "code",
   "execution_count": 19,
   "metadata": {
    "ExecuteTime": {
     "end_time": "2023-07-25T14:50:05.318382728Z",
     "start_time": "2023-07-25T14:50:05.253337633Z"
    },
    "execution": {
     "iopub.execute_input": "2023-07-23T23:23:38.256968Z",
     "iopub.status.busy": "2023-07-23T23:23:38.256334Z",
     "iopub.status.idle": "2023-07-23T23:23:38.299700Z",
     "shell.execute_reply": "2023-07-23T23:23:38.298740Z",
     "shell.execute_reply.started": "2023-07-23T23:23:38.256932Z"
    }
   },
   "outputs": [],
   "source": [
    "train_dataframe = pd.concat([X_train, y_train], axis = 1).reset_index(drop=True)\n",
    "val_dataframe = pd.concat([X_val, y_val], axis = 1).reset_index(drop=True)\n",
    "test_dataframe =  pd.concat([X_test, y_test], axis = 1).reset_index(drop=True)"
   ]
  },
  {
   "cell_type": "markdown",
   "metadata": {},
   "source": [
    "## **7. Preprocessing** <a id=\"Preprocessing\"></a>"
   ]
  },
  {
   "cell_type": "markdown",
   "metadata": {},
   "source": [
    "### **7.1 Transforms** <a id=\"Transforms\"></a>"
   ]
  },
  {
   "cell_type": "code",
   "execution_count": 20,
   "metadata": {
    "ExecuteTime": {
     "end_time": "2023-07-25T14:50:05.333089275Z",
     "start_time": "2023-07-25T14:50:05.297432229Z"
    },
    "execution": {
     "iopub.execute_input": "2023-07-23T23:23:38.301618Z",
     "iopub.status.busy": "2023-07-23T23:23:38.301210Z",
     "iopub.status.idle": "2023-07-23T23:23:38.306808Z",
     "shell.execute_reply": "2023-07-23T23:23:38.305801Z",
     "shell.execute_reply.started": "2023-07-23T23:23:38.301582Z"
    }
   },
   "outputs": [],
   "source": [
    "from monai.transforms.compose import Transform"
   ]
  },
  {
   "cell_type": "markdown",
   "metadata": {},
   "source": [
    "#### **7.1.1 LoadDcm** <a id=\"LoadDcm\"></a>"
   ]
  },
  {
   "cell_type": "code",
   "execution_count": 21,
   "metadata": {
    "ExecuteTime": {
     "end_time": "2023-07-25T14:50:05.384022194Z",
     "start_time": "2023-07-25T14:50:05.302060383Z"
    },
    "execution": {
     "iopub.execute_input": "2023-07-23T23:43:27.819938Z",
     "iopub.status.busy": "2023-07-23T23:43:27.819480Z",
     "iopub.status.idle": "2023-07-23T23:43:27.827344Z",
     "shell.execute_reply": "2023-07-23T23:43:27.825837Z",
     "shell.execute_reply.started": "2023-07-23T23:43:27.819901Z"
    }
   },
   "outputs": [],
   "source": [
    "class LoadDcm(Transform):\n",
    "    \"\"\"\n",
    "    \n",
    "    This is class created to be used in monai.transforms.compose to load the DICOM object\n",
    "    \n",
    "    \"\"\"\n",
    "    def __init__(self):\n",
    "        pass;\n",
    "    \n",
    "    def __call__(self, dcm_file_path):\n",
    "        \"\"\"\n",
    "        \n",
    "        This function returns DICOM object that contains metadata and image\n",
    "        \n",
    "        Args:\n",
    "            dcm_file_path(Path): The DICOM file absolute path\n",
    "        \n",
    "        Returns: \n",
    "            DICOM object\n",
    "            \n",
    "        \"\"\"\n",
    "        return pydicom.dcmread(dcm_file_path)"
   ]
  },
  {
   "cell_type": "markdown",
   "metadata": {},
   "source": [
    "#### **7.1.2 Correcting Window** <a id=\"Correcting-Window\"></a>"
   ]
  },
  {
   "cell_type": "code",
   "execution_count": 22,
   "metadata": {
    "ExecuteTime": {
     "end_time": "2023-07-25T14:50:05.384797724Z",
     "start_time": "2023-07-25T14:50:05.345773436Z"
    },
    "execution": {
     "iopub.execute_input": "2023-07-23T23:23:38.320153Z",
     "iopub.status.busy": "2023-07-23T23:23:38.319448Z",
     "iopub.status.idle": "2023-07-23T23:23:38.336017Z",
     "shell.execute_reply": "2023-07-23T23:23:38.334895Z",
     "shell.execute_reply.started": "2023-07-23T23:23:38.320121Z"
    }
   },
   "outputs": [],
   "source": [
    "class CorrectingWindow(Transform):\n",
    "    \"\"\"\n",
    "    This class contains the helper functions needed to correct image windows\n",
    "    \n",
    "    \"\"\"\n",
    "    def __init__(self, window_level=None, window_width=None):\n",
    "        \n",
    "        \"\"\"\n",
    "         Args:\n",
    "                window_level(int): Default is None. If None, the window level from metadata will be used\n",
    "                window_width(int): Default is None. If None, the window width from metadata will be used\n",
    "        \n",
    "        \"\"\"\n",
    "        self.window_level = window_level\n",
    "        self.window_width = window_width\n",
    "    \n",
    "    def get_first_dicom_field_int(self, value):\n",
    "        \"\"\"\n",
    "\n",
    "        This function is used to get the first value of multiple values of DICOM metadata fields and convert it into integer\n",
    "\n",
    "            Parameters: \n",
    "                value ([float, pydicom multival.MultiValue, pydicom.valuerep.DSfloat]): Metadata field value\n",
    "\n",
    "            Returns:\n",
    "                value(int): Converted value into integer\n",
    "\n",
    "        \"\"\"\n",
    "        if type(value) == pydicom.multival.MultiValue:\n",
    "            return int(value[0])\n",
    "        else:\n",
    "            return int(value)\n",
    "\n",
    "\n",
    "    def transform_hu(self, image, intercept, slope):\n",
    "        \"\"\"\n",
    "\n",
    "        This function is used to transfer the image pixel values to Hounisfield Unit (HU)\n",
    "\n",
    "            Parameters: \n",
    "                image(np.array): It's a DICOM image\n",
    "\n",
    "            Returns: \n",
    "                HU_image(np.array): A new image with HU transformation\n",
    "\n",
    "        \"\"\"\n",
    "        hu_image = image* slope + intercept\n",
    "\n",
    "        return hu_image\n",
    "\n",
    "    def window_image(self, image, window_level, window_width):\n",
    "        \"\"\"\n",
    "\n",
    "        This function is used to adjust an image containing HU values with a certain range of gray shades density\n",
    "\n",
    "            Parameters: \n",
    "                image (np.array): An image with HU values\n",
    "                window_level(int): The centre of the grayscale range\n",
    "                window_width(int): The range of grayscale\n",
    "\n",
    "            Returns: \n",
    "                window_image(np.array): A new image adjusted with window leval and window width\n",
    "\n",
    "        \"\"\"\n",
    "        lowest_value = window_level - window_width // 2\n",
    "        highest_value = window_level + window_width // 2\n",
    "\n",
    "        window_image = image.copy()\n",
    "\n",
    "        window_image[window_image < lowest_value] = lowest_value\n",
    "        window_image[window_image > highest_value] = highest_value\n",
    "\n",
    "        return window_image\n",
    "\n",
    "    def window_hu_image(self, dcm_file, window_level=None, window_width=None):\n",
    "        \"\"\"\n",
    "\n",
    "        This function is used to view the adjusted image by transform_HU and window_image functions\n",
    "\n",
    "            Parameters: \n",
    "                dcm_file(DICOM): It's a DICOM file\n",
    "                window_level(int): Windowlevel to be allied on the image \n",
    "                                   if None, it will be the window_level of the DICOM file\n",
    "                window_width(int): Windowwidth to be applied on the image\n",
    "                                    if None, it will be the window_width of the DICOM file\n",
    "\n",
    "\n",
    "            Returns: \n",
    "                adjusted_image(np.array): An adjusted image after applying HU, window level and window width\n",
    "\n",
    "        \"\"\"\n",
    "        if window_level and window_width:\n",
    "            window_level_ = window_level\n",
    "            window_width_ = window_width\n",
    "        else:\n",
    "            window_level_  = dcm_file.WindowCenter\n",
    "            window_width_ = dcm_file.WindowWidth\n",
    "\n",
    "        fields_list = [window_level_,\n",
    "                       window_width_,\n",
    "                       dcm_file.RescaleIntercept,\n",
    "                       dcm_file.RescaleSlope\n",
    "                      ]\n",
    "\n",
    "        window_level, window_width, intercept, slope = [self.get_first_dicom_field_int(value) for value in fields_list]\n",
    "        image = dcm_file.pixel_array\n",
    "        hu_image = self.transform_hu(image, intercept, slope)\n",
    "\n",
    "        adjusted_image = self.window_image(hu_image, window_level, window_width)\n",
    "        \n",
    "        return adjusted_image\n",
    "    \n",
    "    def __call__(self, dcm_obj):\n",
    "        \"\"\"\n",
    "        Executing window_hu_image function with required arguments\n",
    "        \n",
    "            Args:\n",
    "                dcm_obj: DICOM Object\n",
    "            \n",
    "            Returns:\n",
    "                adjusted_image (np.array)\n",
    "        \n",
    "        \"\"\"\n",
    "        return self.window_hu_image(dcm_obj, self.window_level, self.window_width)    "
   ]
  },
  {
   "cell_type": "markdown",
   "metadata": {},
   "source": [
    "#### **7.1.3 Denoise Image** <a id=\"Denoise-Image\"></a>"
   ]
  },
  {
   "cell_type": "code",
   "execution_count": 23,
   "metadata": {
    "ExecuteTime": {
     "end_time": "2023-07-25T14:50:05.385232444Z",
     "start_time": "2023-07-25T14:50:05.346371904Z"
    },
    "execution": {
     "iopub.execute_input": "2023-07-23T23:23:38.338630Z",
     "iopub.status.busy": "2023-07-23T23:23:38.337908Z",
     "iopub.status.idle": "2023-07-23T23:23:38.350392Z",
     "shell.execute_reply": "2023-07-23T23:23:38.349569Z",
     "shell.execute_reply.started": "2023-07-23T23:23:38.338573Z"
    }
   },
   "outputs": [],
   "source": [
    "class DenoiseImage(Transform):\n",
    "    \"\"\"\n",
    "    \n",
    "    This class contains functions to remove noise from image\n",
    "    \n",
    "    \"\"\"\n",
    "    def __init__(self,  kernel_size=(3,3)):\n",
    "       \"\"\"     \n",
    "            Args:\n",
    "                kernel_size(tuple): This is the kernel size used for dialation\n",
    "                       \n",
    "       \"\"\"\n",
    "       self.kernel_size = kernel_size\n",
    "    \n",
    "    \n",
    "    def denoise_image(self, image=None, kernel_size= None):\n",
    "        \"\"\"\n",
    "\n",
    "        This function is used to remove the noise from the image\n",
    "\n",
    "            Parameters:\n",
    "                image(np.array): This image used to remove the noise from\n",
    "                kernel_size(tuple): This is the kernel size used for dialation\n",
    "\n",
    "            Returns:\n",
    "                masked_image(np.array): This is the masked image\n",
    "\n",
    "        \"\"\"\n",
    "        kernel = np.ones(kernel_size)\n",
    "\n",
    "        segmentation = cv2.dilate(image.astype(\"uint8\"),  kernel)\n",
    "        retval, labels = cv2.connectedComponents(segmentation)\n",
    "\n",
    "        # Getting the number of clsases or segmentation found\n",
    "        label_count = np.bincount(labels.ravel().astype(\"int8\"))\n",
    "\n",
    "        #the first class is background, we won't use it\n",
    "        label_count[0] = 0\n",
    "\n",
    "        mask = labels == label_count.argmax()\n",
    "        mask = cv2.dilate(mask.astype(\"uint8\"), kernel)\n",
    "        masked_image = mask* image\n",
    "\n",
    "        return  masked_image\n",
    "    \n",
    "    def __call__(self, image):\n",
    "        \"\"\"\n",
    "        \n",
    "        This function to execute denoise_image function\n",
    "        \n",
    "            Parameters:\n",
    "                image(np.array): This image used to remove the noise from\n",
    "                \n",
    "            Returns:\n",
    "                masked_image(np.array): This is the masked image\n",
    "\n",
    "        \"\"\"\n",
    "        return self.denoise_image(image=image, kernel_size=self.kernel_size)"
   ]
  },
  {
   "cell_type": "markdown",
   "metadata": {},
   "source": [
    "#### **7.1.4 Crop Image** <a id=\"Crop-Image\"></a>"
   ]
  },
  {
   "cell_type": "code",
   "execution_count": 24,
   "metadata": {
    "ExecuteTime": {
     "end_time": "2023-07-25T14:50:05.385525727Z",
     "start_time": "2023-07-25T14:50:05.346763125Z"
    },
    "execution": {
     "iopub.execute_input": "2023-07-24T00:09:58.976632Z",
     "iopub.status.busy": "2023-07-24T00:09:58.976245Z",
     "iopub.status.idle": "2023-07-24T00:09:58.987050Z",
     "shell.execute_reply": "2023-07-24T00:09:58.986023Z",
     "shell.execute_reply.started": "2023-07-24T00:09:58.976602Z"
    }
   },
   "outputs": [],
   "source": [
    "class CropScaleImage(Transform):\n",
    "    \"\"\"\n",
    "    \n",
    "    This class contains functions to crop image\n",
    "    \n",
    "    \"\"\"\n",
    "    def __init__(self, is_scale=False, scale_factor=1):\n",
    "        \"\"\"\n",
    "         Args:\n",
    "            is_scale(bool): to scale the image\n",
    "            scale_factor(float): scaling image with this number if is_scale = True\n",
    "        \n",
    "        \"\"\"\n",
    "        self.is_scale = is_scale\n",
    "        self.scale_factor = scale_factor\n",
    "        \n",
    "    def crop_scale_image(self, image, is_scale=False, scale_factor=1):\n",
    "        \"\"\"\n",
    "\n",
    "        This functio is used to crop the image to filt the object in the center\n",
    "\n",
    "            Parameters:\n",
    "                image(np.array): This is the image needed to be cropped\n",
    "                is_scale(bool): to scale the image\n",
    "                scale_factor(float): scaling image with this number if is_scale = True\n",
    "\n",
    "            Returns:\n",
    "                cropped_image(np.array): This is the final output\n",
    "\n",
    "        \"\"\"\n",
    "        # Create a mask with the background pixels\n",
    "        mask = image == 0\n",
    "\n",
    "        # gitting the coordinates of the object which pixel values !=0\n",
    "\n",
    "        coords = np.transpose(np.nonzero(~mask))\n",
    "        # Find the object area\n",
    "        if coords.size !=0:\n",
    "            x_min, y_min = np.min(coords, axis = 0)\n",
    "            x_max, y_max = np.max(coords, axis=0)\n",
    "\n",
    "            # Crop image\n",
    "            cropped_image = image[x_min:x_max,\n",
    "                                  y_min:y_max]\n",
    "        else:\n",
    "            cropped_image = image\n",
    "        if is_scale:\n",
    "            cropped_image = cropped_image.astype(\"float32\") * scale_factor\n",
    "\n",
    "        return cropped_image\n",
    "    \n",
    "    def __call__(self, image):\n",
    "        \"\"\"\n",
    "        \n",
    "        This function to execute crop_image function\n",
    "        \n",
    "            Parameters:\n",
    "                image(np.array): This is the image needed to be cropped\n",
    "\n",
    "            Returns:\n",
    "                cropped_image(np.array): This is the final output\n",
    "\n",
    "        \"\"\"\n",
    "        return self.crop_scale_image(image=image, is_scale=self.is_scale, scale_factor = self.scale_factor)"
   ]
  },
  {
   "cell_type": "markdown",
   "metadata": {},
   "source": [
    "### **7.2 Preprocessing Pipeline** <a id=\"Preprocessing-Pipeline\"></a>"
   ]
  },
  {
   "cell_type": "code",
   "execution_count": 25,
   "metadata": {
    "ExecuteTime": {
     "end_time": "2023-07-25T14:50:05.401213889Z",
     "start_time": "2023-07-25T14:50:05.347280355Z"
    },
    "execution": {
     "iopub.execute_input": "2023-07-24T00:09:59.620918Z",
     "iopub.status.busy": "2023-07-24T00:09:59.620052Z",
     "iopub.status.idle": "2023-07-24T00:09:59.625954Z",
     "shell.execute_reply": "2023-07-24T00:09:59.624919Z",
     "shell.execute_reply.started": "2023-07-24T00:09:59.620874Z"
    }
   },
   "outputs": [],
   "source": [
    "from monai.transforms import Compose, Resize, EnsureChannelFirst, ToTensor, RandAffine, RandZoom"
   ]
  },
  {
   "cell_type": "markdown",
   "metadata": {},
   "source": [
    "#### **7.2.1 Training Pipeline** <a id=\"Training-Pipeline\"></a>"
   ]
  },
  {
   "cell_type": "code",
   "execution_count": 26,
   "metadata": {
    "ExecuteTime": {
     "end_time": "2023-07-25T14:50:05.402129924Z",
     "start_time": "2023-07-25T14:50:05.393365771Z"
    },
    "execution": {
     "iopub.execute_input": "2023-07-24T00:10:00.379996Z",
     "iopub.status.busy": "2023-07-24T00:10:00.377651Z",
     "iopub.status.idle": "2023-07-24T00:10:00.388342Z",
     "shell.execute_reply": "2023-07-24T00:10:00.387423Z",
     "shell.execute_reply.started": "2023-07-24T00:10:00.379950Z"
    }
   },
   "outputs": [],
   "source": [
    "train_transform = Compose(\n",
    "    [\n",
    "        LoadDcm(),\n",
    "        CorrectingWindow(),\n",
    "        DenoiseImage(),\n",
    "        CropScaleImage(is_scale=True, scale_factor = 1/3071),\n",
    "        ToTensor(),\n",
    "        EnsureChannelFirst(channel_dim=\"no_channel\"),\n",
    "        Resize(config[\"image_shape\"]),\n",
    "        RandZoom(min_zoom = 0.9, max_zoom = 1.1),\n",
    "        RandAffine(rotate_range=(-5,5), translate_range=(0,0.05))\n",
    "     ]\n",
    ")"
   ]
  },
  {
   "cell_type": "markdown",
   "metadata": {},
   "source": [
    "#### **7.2.2 Testing Pipeline** <a id=\"Testing-Pipeline\"></a>"
   ]
  },
  {
   "cell_type": "code",
   "execution_count": 27,
   "metadata": {
    "ExecuteTime": {
     "end_time": "2023-07-25T14:50:05.402357808Z",
     "start_time": "2023-07-25T14:50:05.394078396Z"
    },
    "execution": {
     "iopub.execute_input": "2023-07-24T00:10:01.199656Z",
     "iopub.status.busy": "2023-07-24T00:10:01.199298Z",
     "iopub.status.idle": "2023-07-24T00:10:01.206443Z",
     "shell.execute_reply": "2023-07-24T00:10:01.205067Z",
     "shell.execute_reply.started": "2023-07-24T00:10:01.199627Z"
    }
   },
   "outputs": [],
   "source": [
    "test_transform = Compose(\n",
    "    [\n",
    "        LoadDcm(),\n",
    "        CorrectingWindow(),\n",
    "        DenoiseImage(),\n",
    "        CropScaleImage(is_scale=True, scale_factor = 1/3071),\n",
    "        ToTensor(),\n",
    "        EnsureChannelFirst(channel_dim=\"no_channel\"),\n",
    "        Resize(config[\"image_shape\"]),\n",
    "    ]\n",
    ")"
   ]
  },
  {
   "cell_type": "markdown",
   "metadata": {},
   "source": [
    "## **8. Custom Dataset and Data Loader** <a id=\"Custom-Dataset-Data-Loader\"></a>"
   ]
  },
  {
   "cell_type": "code",
   "execution_count": 28,
   "metadata": {
    "ExecuteTime": {
     "end_time": "2023-07-25T14:50:05.402490079Z",
     "start_time": "2023-07-25T14:50:05.394593813Z"
    },
    "execution": {
     "iopub.execute_input": "2023-07-24T00:10:01.703106Z",
     "iopub.status.busy": "2023-07-24T00:10:01.702744Z",
     "iopub.status.idle": "2023-07-24T00:10:01.709420Z",
     "shell.execute_reply": "2023-07-24T00:10:01.708399Z",
     "shell.execute_reply.started": "2023-07-24T00:10:01.703078Z"
    }
   },
   "outputs": [],
   "source": [
    "from monai.data import Dataset"
   ]
  },
  {
   "cell_type": "markdown",
   "metadata": {},
   "source": [
    "### **8.1 Custom Dataset** <a id=\"Custom-Dataset\"></a>"
   ]
  },
  {
   "cell_type": "code",
   "execution_count": 29,
   "metadata": {
    "ExecuteTime": {
     "end_time": "2023-07-25T14:50:05.402633470Z",
     "start_time": "2023-07-25T14:50:05.395008237Z"
    },
    "execution": {
     "iopub.execute_input": "2023-07-24T00:10:02.140274Z",
     "iopub.status.busy": "2023-07-24T00:10:02.139907Z",
     "iopub.status.idle": "2023-07-24T00:10:02.149909Z",
     "shell.execute_reply": "2023-07-24T00:10:02.148844Z",
     "shell.execute_reply.started": "2023-07-24T00:10:02.140245Z"
    }
   },
   "outputs": [],
   "source": [
    "class CustomDataset(Dataset):\n",
    "    def __init__(self, dataframe, root_dir, path_col, transform):\n",
    "        \"\"\"\n",
    "        This is a custom dataset class to load dicom data from dataframe.\n",
    "        :param dataframe(DataFrame): dataframe that contains data which is file name and labels\n",
    "        :param root_dir(Path): the absolute path name of image dir \n",
    "        :param path_col(str): the column name of the image paths\n",
    "        :param transform: the transforms to be applied to the images\n",
    "        \"\"\"\n",
    "        self.dataframe = dataframe\n",
    "        self.root_dir = root_dir\n",
    "        self.path_col = path_col\n",
    "        self.label_cols = self.dataframe.drop(path_col, axis=1)\n",
    "        self.transform = transform\n",
    "\n",
    "    def __len__(self):\n",
    "        return len(self.dataframe)\n",
    "\n",
    "    def __getitem__(self, idx):\n",
    "        try:\n",
    "            image_file = self.root_dir/(self.dataframe.loc[idx, self.path_col])\n",
    "            labels = torch.tensor(self.label_cols.iloc[idx])\n",
    "    \n",
    "            return self.transform(image_file), labels\n",
    "        except:\n",
    "            return None, None"
   ]
  },
  {
   "cell_type": "markdown",
   "metadata": {},
   "source": [
    "### **8.2 Data Loader** <a id=\"Data-Loader\"></a>"
   ]
  },
  {
   "cell_type": "markdown",
   "metadata": {
    "collapsed": false,
    "jupyter": {
     "outputs_hidden": false
    }
   },
   "source": [
    "The collate_fn is created to handle the corrupted images. The corrupted images will be filtered out.\n",
    "**Pros:** The corrupted images will not be used for training. and the training will not be interrupted.\n",
    "**Cons:** it slightly increases the training time."
   ]
  },
  {
   "cell_type": "code",
   "execution_count": 63,
   "metadata": {
    "ExecuteTime": {
     "end_time": "2023-07-25T20:00:13.177773445Z",
     "start_time": "2023-07-25T20:00:13.159800243Z"
    },
    "execution": {
     "iopub.execute_input": "2023-07-24T00:10:02.525069Z",
     "iopub.status.busy": "2023-07-24T00:10:02.524713Z",
     "iopub.status.idle": "2023-07-24T00:10:02.529696Z",
     "shell.execute_reply": "2023-07-24T00:10:02.528674Z",
     "shell.execute_reply.started": "2023-07-24T00:10:02.525041Z"
    }
   },
   "outputs": [],
   "source": [
    "from monai.data import DataLoader\n",
    "from torch.utils.data.dataloader import default_collate\n",
    "\n",
    "# To handle corrupted images\n",
    "def collate_fn(batch):\n",
    "    # Filter out any samples where the data or label is None (i.e., corrupted)\n",
    "    batch = [(data, label) for data, label in batch if data is not None and label is not None]\n",
    "    return default_collate(batch)"
   ]
  },
  {
   "cell_type": "markdown",
   "metadata": {},
   "source": [
    "**8.2.1 Train Data Loader** <a id=\"Train-Data-Loader\"></a>"
   ]
  },
  {
   "cell_type": "code",
   "execution_count": 64,
   "metadata": {
    "ExecuteTime": {
     "end_time": "2023-07-25T20:00:15.667408239Z",
     "start_time": "2023-07-25T20:00:15.646676862Z"
    },
    "execution": {
     "iopub.execute_input": "2023-07-24T00:10:03.034415Z",
     "iopub.status.busy": "2023-07-24T00:10:03.034058Z",
     "iopub.status.idle": "2023-07-24T00:10:03.045735Z",
     "shell.execute_reply": "2023-07-24T00:10:03.044721Z",
     "shell.execute_reply.started": "2023-07-24T00:10:03.034387Z"
    }
   },
   "outputs": [],
   "source": [
    "train_dataset = CustomDataset(dataframe = train_dataframe,\n",
    "                              root_dir = ROOT_DATA_DIR/TRAINING_IMAGES_PATH,\n",
    "                              path_col = \"ID\",\n",
    "                              transform = train_transform\n",
    "                             )\n",
    "\n",
    "train_data_loader = DataLoader(dataset = train_dataset,\n",
    "                              batch_size=config[\"batch_size\"],\n",
    "                              shuffle=False,\n",
    "                               collate_fn=collate_fn\n",
    "                              )"
   ]
  },
  {
   "cell_type": "markdown",
   "metadata": {},
   "source": [
    "**8.2.2 Val Data Loader** <a id=\"Val-Data-Loader\"></a>"
   ]
  },
  {
   "cell_type": "code",
   "execution_count": 65,
   "metadata": {
    "ExecuteTime": {
     "end_time": "2023-07-25T20:00:16.510822284Z",
     "start_time": "2023-07-25T20:00:16.440226904Z"
    },
    "execution": {
     "iopub.execute_input": "2023-07-24T00:10:03.513022Z",
     "iopub.status.busy": "2023-07-24T00:10:03.512638Z",
     "iopub.status.idle": "2023-07-24T00:10:03.521654Z",
     "shell.execute_reply": "2023-07-24T00:10:03.520599Z",
     "shell.execute_reply.started": "2023-07-24T00:10:03.512992Z"
    }
   },
   "outputs": [],
   "source": [
    "val_dataset = CustomDataset(dataframe = val_dataframe,\n",
    "                              root_dir = ROOT_DATA_DIR/TRAINING_IMAGES_PATH,\n",
    "                              path_col = \"ID\",\n",
    "                              transform = test_transform\n",
    "                             )\n",
    "\n",
    "val_data_loader = DataLoader(dataset = val_dataset,\n",
    "                              batch_size=config[\"batch_size\"],\n",
    "                              shuffle=False,\n",
    "                               collate_fn=collate_fn\n",
    "                            )"
   ]
  },
  {
   "cell_type": "markdown",
   "metadata": {},
   "source": [
    "**8.2.3 Test Data Loader** <a id=\"Test-Data-Loader\"></a>"
   ]
  },
  {
   "cell_type": "code",
   "execution_count": 66,
   "metadata": {
    "ExecuteTime": {
     "end_time": "2023-07-25T20:00:17.807771902Z",
     "start_time": "2023-07-25T20:00:17.786166064Z"
    },
    "execution": {
     "iopub.execute_input": "2023-07-24T00:10:04.172297Z",
     "iopub.status.busy": "2023-07-24T00:10:04.171555Z",
     "iopub.status.idle": "2023-07-24T00:10:04.182227Z",
     "shell.execute_reply": "2023-07-24T00:10:04.181195Z",
     "shell.execute_reply.started": "2023-07-24T00:10:04.172259Z"
    }
   },
   "outputs": [],
   "source": [
    "test_dataset = CustomDataset(dataframe = test_dataframe,\n",
    "                              root_dir = ROOT_DATA_DIR/TRAINING_IMAGES_PATH,\n",
    "                              path_col = \"ID\",\n",
    "                              transform = test_transform\n",
    "                             )\n",
    "\n",
    "test_data_loader = DataLoader(dataset = test_dataset,\n",
    "                              batch_size=config[\"batch_size\"],\n",
    "                              shuffle=False,\n",
    "                              collate_fn=collate_fn\n",
    "                             )"
   ]
  },
  {
   "cell_type": "markdown",
   "metadata": {},
   "source": [
    "**Ensure about the output of dataloader**"
   ]
  },
  {
   "cell_type": "code",
   "execution_count": 34,
   "metadata": {
    "ExecuteTime": {
     "end_time": "2023-07-25T14:50:05.875393960Z",
     "start_time": "2023-07-25T14:50:05.492994691Z"
    },
    "execution": {
     "iopub.execute_input": "2023-07-24T00:10:04.795771Z",
     "iopub.status.busy": "2023-07-24T00:10:04.795383Z",
     "iopub.status.idle": "2023-07-24T00:10:05.433745Z",
     "shell.execute_reply": "2023-07-24T00:10:05.432755Z",
     "shell.execute_reply.started": "2023-07-24T00:10:04.795741Z"
    }
   },
   "outputs": [
    {
     "name": "stdout",
     "output_type": "stream",
     "text": [
      "The image batch shape is torch.Size([32, 1, 224, 224])\n",
      "The label batch shape is torch.Size([32, 6])\n"
     ]
    }
   ],
   "source": [
    "images, labels = next(iter(train_data_loader))\n",
    "print(f\"The image batch shape is {images.shape}\")\n",
    "print(f\"The label batch shape is {labels.shape}\")"
   ]
  },
  {
   "cell_type": "code",
   "execution_count": 35,
   "metadata": {
    "ExecuteTime": {
     "end_time": "2023-07-25T14:50:06.092312315Z",
     "start_time": "2023-07-25T14:50:05.870148763Z"
    },
    "execution": {
     "iopub.execute_input": "2023-07-24T00:10:05.436486Z",
     "iopub.status.busy": "2023-07-24T00:10:05.435782Z",
     "iopub.status.idle": "2023-07-24T00:10:05.746569Z",
     "shell.execute_reply": "2023-07-24T00:10:05.745598Z",
     "shell.execute_reply.started": "2023-07-24T00:10:05.436433Z"
    }
   },
   "outputs": [
    {
     "data": {
      "text/plain": [
       "<matplotlib.image.AxesImage at 0x7fd639e78d00>"
      ]
     },
     "execution_count": 35,
     "metadata": {},
     "output_type": "execute_result"
    },
    {
     "data": {
      "image/png": "[encoded data removed]",
      "text/plain": [
       "<Figure size 640x480 with 1 Axes>"
      ]
     },
     "metadata": {},
     "output_type": "display_data"
    }
   ],
   "source": [
    "image = np.array(images[6,0,:,:])\n",
    "plt.imshow(image, cmap=\"gray\")"
   ]
  },
  {
   "cell_type": "code",
   "execution_count": 36,
   "metadata": {
    "ExecuteTime": {
     "end_time": "2023-07-25T14:50:06.092931481Z",
     "start_time": "2023-07-25T14:50:06.083591749Z"
    },
    "execution": {
     "iopub.execute_input": "2023-07-24T00:10:05.748933Z",
     "iopub.status.busy": "2023-07-24T00:10:05.747938Z",
     "iopub.status.idle": "2023-07-24T00:10:05.755625Z",
     "shell.execute_reply": "2023-07-24T00:10:05.754655Z",
     "shell.execute_reply.started": "2023-07-24T00:10:05.748898Z"
    }
   },
   "outputs": [
    {
     "data": {
      "text/plain": [
       "tensor([1, 1, 0, 0, 0, 0])"
      ]
     },
     "execution_count": 36,
     "metadata": {},
     "output_type": "execute_result"
    }
   ],
   "source": [
    "labels[6]"
   ]
  },
  {
   "cell_type": "markdown",
   "metadata": {},
   "source": [
    "## 9. Modeling <a id=\"Modeling\"></a>"
   ]
  },
  {
   "cell_type": "markdown",
   "metadata": {},
   "source": [
    "### 9.1 Training <a id=\"Training\"></a>"
   ]
  },
  {
   "cell_type": "markdown",
   "metadata": {},
   "source": [
    "#### 9.1.1 Configure Model CheckPoint Callback <a id=\"Configure-Model-CheckPoint-Callback\"></a>"
   ]
  },
  {
   "cell_type": "code",
   "execution_count": 67,
   "metadata": {
    "ExecuteTime": {
     "end_time": "2023-07-25T20:00:27.412950661Z",
     "start_time": "2023-07-25T20:00:27.362078253Z"
    },
    "execution": {
     "iopub.execute_input": "2023-07-24T00:10:06.432060Z",
     "iopub.status.busy": "2023-07-24T00:10:06.431370Z",
     "iopub.status.idle": "2023-07-24T00:10:06.436973Z",
     "shell.execute_reply": "2023-07-24T00:10:06.435746Z",
     "shell.execute_reply.started": "2023-07-24T00:10:06.432025Z"
    }
   },
   "outputs": [],
   "source": [
    "from lightning.pytorch.callbacks import  ModelCheckpoint"
   ]
  },
  {
   "cell_type": "code",
   "execution_count": 68,
   "metadata": {
    "ExecuteTime": {
     "end_time": "2023-07-25T20:00:27.861954773Z",
     "start_time": "2023-07-25T20:00:27.841496724Z"
    },
    "execution": {
     "iopub.execute_input": "2023-07-24T00:10:06.495646Z",
     "iopub.status.busy": "2023-07-24T00:10:06.495053Z",
     "iopub.status.idle": "2023-07-24T00:10:06.502401Z",
     "shell.execute_reply": "2023-07-24T00:10:06.501440Z",
     "shell.execute_reply.started": "2023-07-24T00:10:06.495599Z"
    }
   },
   "outputs": [],
   "source": [
    "MODELS_PATH = CUR_PATH/\"models\"\n",
    "os.makedirs(MODELS_PATH, exist_ok=True)\n",
    "\n",
    "checkpoint_callback = ModelCheckpoint(\n",
    "        monitor='val_f1',\n",
    "        save_top_k=1,\n",
    "        mode='max',\n",
    "        dirpath=MODELS_PATH,\n",
    "        filename='model-{epoch:02d}-{val_f1:.2f}',\n",
    "        every_n_epochs=1\n",
    ")"
   ]
  },
  {
   "cell_type": "markdown",
   "metadata": {},
   "source": [
    "#### 9.1.2 Loss Functions <a id=\"Loss-Functions\"></a>"
   ]
  },
  {
   "cell_type": "markdown",
   "metadata": {},
   "source": [
    "**First we calculate the percentage for each class in the data to calculate the class weight**"
   ]
  },
  {
   "cell_type": "code",
   "execution_count": 70,
   "metadata": {
    "ExecuteTime": {
     "end_time": "2023-07-25T20:00:31.639215887Z",
     "start_time": "2023-07-25T20:00:31.595724545Z"
    },
    "execution": {
     "iopub.execute_input": "2023-07-24T00:10:06.626127Z",
     "iopub.status.busy": "2023-07-24T00:10:06.625855Z",
     "iopub.status.idle": "2023-07-24T00:10:06.664633Z",
     "shell.execute_reply": "2023-07-24T00:10:06.663715Z",
     "shell.execute_reply.started": "2023-07-24T00:10:06.626104Z"
    }
   },
   "outputs": [
    {
     "data": {
      "text/plain": [
       "{'any': 1.4142135623730951,\n",
       " 'epidural': 8.284776392445,\n",
       " 'intraparenchymal': 2.444737731600963,\n",
       " 'intraventricular': 2.8701132531420215,\n",
       " 'subarachnoid': 2.459852833719919,\n",
       " 'subdural': 2.139346824171592}"
      ]
     },
     "execution_count": 70,
     "metadata": {},
     "output_type": "execute_result"
    }
   ],
   "source": [
    "import torch.nn as nn\n",
    "class_size_dict = {}\n",
    "\n",
    "# Calculate each subtype size in the dataset\n",
    "for col in train_dataframe.columns[1:]:\n",
    "    class_size_dict[col] = train_dataframe[train_dataframe[col]==1].shape[0]\n",
    "\n",
    "# Calculating the size of whole data\n",
    "Total_size = train_dataframe.shape[0]\n",
    "\n",
    "# Calculate the weights of each category\n",
    "class_weight_dict = {k: np.sqrt(Total_size / v) for k, v in class_size_dict.items()}\n",
    "class_weight_dict"
   ]
  },
  {
   "cell_type": "code",
   "execution_count": 71,
   "metadata": {
    "ExecuteTime": {
     "end_time": "2023-07-25T20:00:34.078242238Z",
     "start_time": "2023-07-25T20:00:34.061922688Z"
    },
    "execution": {
     "iopub.execute_input": "2023-07-24T00:10:06.667305Z",
     "iopub.status.busy": "2023-07-24T00:10:06.666493Z",
     "iopub.status.idle": "2023-07-24T00:10:06.672158Z",
     "shell.execute_reply": "2023-07-24T00:10:06.671014Z",
     "shell.execute_reply.started": "2023-07-24T00:10:06.667276Z"
    }
   },
   "outputs": [],
   "source": [
    "pos_weights = torch.FloatTensor(list(class_weight_dict.values()))\n",
    "config['loss']['pos_weights'] = pos_weights"
   ]
  },
  {
   "cell_type": "markdown",
   "metadata": {},
   "source": [
    "##### 9.1.2.1 BCE Loss <a id=\"BCE-Loss\"></a>"
   ]
  },
  {
   "cell_type": "code",
   "execution_count": 72,
   "metadata": {
    "ExecuteTime": {
     "end_time": "2023-07-25T20:00:35.149312191Z",
     "start_time": "2023-07-25T20:00:35.131325090Z"
    },
    "execution": {
     "iopub.execute_input": "2023-07-24T00:10:06.772414Z",
     "iopub.status.busy": "2023-07-24T00:10:06.771859Z",
     "iopub.status.idle": "2023-07-24T00:10:06.777276Z",
     "shell.execute_reply": "2023-07-24T00:10:06.776150Z",
     "shell.execute_reply.started": "2023-07-24T00:10:06.772379Z"
    }
   },
   "outputs": [],
   "source": [
    "bce_loss_logits = nn.BCEWithLogitsLoss(pos_weight=pos_weights)"
   ]
  },
  {
   "cell_type": "markdown",
   "metadata": {
    "execution": {
     "iopub.execute_input": "2023-07-23T19:46:16.972467Z",
     "iopub.status.busy": "2023-07-23T19:46:16.972075Z",
     "iopub.status.idle": "2023-07-23T19:46:16.982213Z",
     "shell.execute_reply": "2023-07-23T19:46:16.980952Z",
     "shell.execute_reply.started": "2023-07-23T19:46:16.972437Z"
    }
   },
   "source": [
    "##### 9.1.2.2 Focal Loss <a id=\"Focal-Loss\"></a>"
   ]
  },
  {
   "cell_type": "code",
   "execution_count": 73,
   "metadata": {
    "ExecuteTime": {
     "end_time": "2023-07-25T20:00:36.488620666Z",
     "start_time": "2023-07-25T20:00:36.467290829Z"
    },
    "execution": {
     "iopub.execute_input": "2023-07-24T00:10:06.838280Z",
     "iopub.status.busy": "2023-07-24T00:10:06.837706Z",
     "iopub.status.idle": "2023-07-24T00:10:06.843520Z",
     "shell.execute_reply": "2023-07-24T00:10:06.842282Z",
     "shell.execute_reply.started": "2023-07-24T00:10:06.838247Z"
    }
   },
   "outputs": [],
   "source": [
    "from monai.losses import FocalLoss\n",
    "focal_loss = FocalLoss(weight = pos_weights)"
   ]
  },
  {
   "cell_type": "markdown",
   "metadata": {},
   "source": [
    "#### 9.1.3 Model Experiments <a id=\"Model-Experiments\"></a>"
   ]
  },
  {
   "cell_type": "markdown",
   "metadata": {},
   "source": [
    "#####  Declaring Model Class <a id=\"Declaring-Model-Class\"></a>"
   ]
  },
  {
   "cell_type": "code",
   "execution_count": 75,
   "metadata": {
    "ExecuteTime": {
     "end_time": "2023-07-25T20:00:41.759349619Z",
     "start_time": "2023-07-25T20:00:41.745583590Z"
    },
    "execution": {
     "iopub.execute_input": "2023-07-24T00:10:06.958183Z",
     "iopub.status.busy": "2023-07-24T00:10:06.957902Z",
     "iopub.status.idle": "2023-07-24T00:10:06.962574Z",
     "shell.execute_reply": "2023-07-24T00:10:06.961557Z",
     "shell.execute_reply.started": "2023-07-24T00:10:06.958159Z"
    }
   },
   "outputs": [],
   "source": [
    "import torchvision\n",
    "import torch.optim as optim\n",
    "from IPython.display import HTML, display"
   ]
  },
  {
   "cell_type": "code",
   "execution_count": 76,
   "metadata": {
    "ExecuteTime": {
     "end_time": "2023-07-25T20:00:54.090774112Z",
     "start_time": "2023-07-25T20:00:54.040765314Z"
    },
    "execution": {
     "iopub.execute_input": "2023-07-24T00:10:06.996573Z",
     "iopub.status.busy": "2023-07-24T00:10:06.996045Z",
     "iopub.status.idle": "2023-07-24T00:10:07.010154Z",
     "shell.execute_reply": "2023-07-24T00:10:07.009139Z",
     "shell.execute_reply.started": "2023-07-24T00:10:06.996539Z"
    }
   },
   "outputs": [],
   "source": [
    "class HemorrhageModel(pl.LightningModule):\n",
    "    def __init__(self, engine, loss, lr, num_classes):\n",
    "        \n",
    "        \"\"\"\n",
    "        \n",
    "        This class is used to define the model\n",
    "        \n",
    "        :param engine (model): the model module from monai.networks.nets\n",
    "        :param loss (loss object): loss function\n",
    "        :param num_classes (int): Number of classes\n",
    "        :param lr (float): learning rate value\n",
    "\n",
    "        \"\"\"\n",
    "        super().__init__()\n",
    "        self.engine = engine\n",
    "        self.lr = lr\n",
    "        self.loss_fn = loss\n",
    "        self.num_classes = num_classes\n",
    "        self.optimizer = optim.Adam(self.engine.parameters(), lr = self.lr)\n",
    "        self.train_f1 = torchmetrics.F1Score(task= 'binary', num_classes=self.num_classes)\n",
    "        self.val_f1 = torchmetrics.F1Score(task= 'binary', num_classes=self.num_classes)\n",
    "\n",
    "    def forward(self, data):\n",
    "        pred = self.engine(data)\n",
    "        return pred\n",
    "    \n",
    "    \n",
    "    def configure_optimizers(self):\n",
    "        return [self.optimizer]\n",
    "    \n",
    "    def training_step(self, batch, batch_idx):\n",
    "        \"\"\"\n",
    "        This function is used to define the training step\n",
    "        :param batch: the batch of data\n",
    "        :param batch_idx: the batch index\n",
    "        :return: the loss\n",
    "        \"\"\"\n",
    "        images, labels = batch\n",
    "        labels = labels.float()\n",
    "        pred = self(images)\n",
    "        loss = self.loss_fn(pred, labels)\n",
    "        self.log(\"train_loss\",\n",
    "                 loss,\n",
    "                 on_step=True,\n",
    "                 on_epoch=True,\n",
    "                 prog_bar=True,\n",
    "                 logger=True\n",
    "                )\n",
    "        self.log(\"train_f1\",\n",
    "                 self.train_f1(pred, labels.int()),\n",
    "                 on_step=True,\n",
    "                 on_epoch=True,\n",
    "                 prog_bar=True,\n",
    "                 logger=True\n",
    "                )\n",
    "        return loss\n",
    "    \n",
    "    def validation_step(self, batch, batch_idx):\n",
    "        \"\"\"\n",
    "        This function is used to define the validation step\n",
    "        :param batch: the batch of data\n",
    "        :param batch_idx: the batch index\n",
    "        :return: the loss\n",
    "        \n",
    "        \"\"\"\n",
    "        images, labels = batch\n",
    "        labels = labels.float()\n",
    "        pred = self(images)\n",
    "        loss = self.loss_fn(pred, labels)\n",
    "        self.log(\"val_loss\",\n",
    "                 loss,\n",
    "                 on_step=True,\n",
    "                 on_epoch=True,\n",
    "                 prog_bar=True,\n",
    "                 logger=True\n",
    "                )\n",
    "        self.log(\"val_f1\",\n",
    "                 self.val_f1(pred, labels.int()),\n",
    "                 on_step=True,\n",
    "                 on_epoch=True,\n",
    "                 prog_bar=True,\n",
    "                 logger=True\n",
    "                )\n"
   ]
  },
  {
   "cell_type": "markdown",
   "metadata": {},
   "source": [
    "##### 9.1.3.1 DenseNet201 Model with BCEWithLogits Loss <a id=\"DenseNet201-Model-with-BCEWithLogits-Loss\"></a>"
   ]
  },
  {
   "cell_type": "code",
   "execution_count": 47,
   "metadata": {
    "ExecuteTime": {
     "end_time": "2023-07-24T23:17:34.090322306Z",
     "start_time": "2023-07-24T23:17:33.394660745Z"
    },
    "execution": {
     "iopub.execute_input": "2023-07-24T00:10:07.014810Z",
     "iopub.status.busy": "2023-07-24T00:10:07.013535Z",
     "iopub.status.idle": "2023-07-24T00:10:07.545512Z",
     "shell.execute_reply": "2023-07-24T00:10:07.544507Z",
     "shell.execute_reply.started": "2023-07-24T00:10:07.014775Z"
    }
   },
   "outputs": [],
   "source": [
    "from monai.networks.nets import DenseNet201\n",
    "engine =  DenseNet201(spatial_dims = config['model']['spatial_dims'],\n",
    "                      in_channels = config['model']['in_channels'],\n",
    "                      out_channels = config['model']['num_classes'],\n",
    "                      pretrained=True\n",
    "                     )"
   ]
  },
  {
   "cell_type": "code",
   "execution_count": 48,
   "metadata": {
    "ExecuteTime": {
     "end_time": "2023-07-24T23:17:34.098480091Z",
     "start_time": "2023-07-24T23:17:34.096365050Z"
    },
    "execution": {
     "iopub.execute_input": "2023-07-24T00:10:07.548305Z",
     "iopub.status.busy": "2023-07-24T00:10:07.547939Z",
     "iopub.status.idle": "2023-07-24T00:10:07.561210Z",
     "shell.execute_reply": "2023-07-24T00:10:07.560280Z",
     "shell.execute_reply.started": "2023-07-24T00:10:07.548271Z"
    }
   },
   "outputs": [],
   "source": [
    "model = HemorrhageModel(engine = engine,\n",
    "                       loss=bce_loss_logits,\n",
    "                       lr=config['optimizer']['lr'],\n",
    "                       num_classes = config['model']['num_classes'] \n",
    "                       )"
   ]
  },
  {
   "cell_type": "markdown",
   "metadata": {
    "collapsed": false,
    "jupyter": {
     "outputs_hidden": false
    }
   },
   "source": [
    "**The model stopped training at epoch 3, so I loaded the last epoch checkpoint and trained it with another two epochs.**"
   ]
  },
  {
   "cell_type": "code",
   "execution_count": 55,
   "metadata": {
    "ExecuteTime": {
     "end_time": "2023-07-24T14:15:13.597218832Z",
     "start_time": "2023-07-24T14:15:13.162512387Z"
    },
    "collapsed": false,
    "jupyter": {
     "outputs_hidden": false
    }
   },
   "outputs": [
    {
     "data": {
      "text/plain": [
       "<All keys matched successfully>"
      ]
     },
     "execution_count": 55,
     "metadata": {},
     "output_type": "execute_result"
    }
   ],
   "source": [
    "checkpoint_dict = torch.load(\"models/model-epoch=02-val_f1=0.78.ckpt\")\n",
    "model_state_dict = checkpoint_dict['state_dict']\n",
    "model.load_state_dict(model_state_dict)"
   ]
  },
  {
   "cell_type": "code",
   "execution_count": 47,
   "metadata": {
    "ExecuteTime": {
     "end_time": "2023-07-25T14:50:06.450985327Z",
     "start_time": "2023-07-25T14:50:06.260731293Z"
    },
    "execution": {
     "iopub.execute_input": "2023-07-24T00:10:07.563287Z",
     "iopub.status.busy": "2023-07-24T00:10:07.562890Z",
     "iopub.status.idle": "2023-07-24T00:10:07.571103Z",
     "shell.execute_reply": "2023-07-24T00:10:07.570108Z",
     "shell.execute_reply.started": "2023-07-24T00:10:07.563256Z"
    }
   },
   "outputs": [],
   "source": [
    "# Creating folder for logs\n",
    "from pytorch_lightning.loggers import TensorBoardLogger\n",
    "LOGS_PATH = CUR_PATH/\"logs\"\n",
    "os.makedirs(LOGS_PATH, exist_ok = True)"
   ]
  },
  {
   "cell_type": "code",
   "execution_count": 57,
   "metadata": {
    "ExecuteTime": {
     "end_time": "2023-07-24T14:16:30.360490212Z",
     "start_time": "2023-07-24T14:16:30.298294728Z"
    },
    "execution": {
     "iopub.execute_input": "2023-07-24T00:10:07.575044Z",
     "iopub.status.busy": "2023-07-24T00:10:07.574775Z",
     "iopub.status.idle": "2023-07-24T00:10:07.648295Z",
     "shell.execute_reply": "2023-07-24T00:10:07.647423Z",
     "shell.execute_reply.started": "2023-07-24T00:10:07.575021Z"
    }
   },
   "outputs": [
    {
     "name": "stderr",
     "output_type": "stream",
     "text": [
      "GPU available: True (cuda), used: True\n",
      "TPU available: False, using: 0 TPU cores\n",
      "IPU available: False, using: 0 IPUs\n",
      "HPU available: False, using: 0 HPUs\n"
     ]
    }
   ],
   "source": [
    "trainer = pl.Trainer(devices = torch.cuda.device_count(),\n",
    "                     accelerator = \"auto\",\n",
    "                     max_epochs=config['model']['epochs'],\n",
    "                    logger= TensorBoardLogger(save_dir=LOGS_PATH, log_graph=True, name=\"densenet201_BCEWithLogitsLoss\"),\n",
    "                    log_every_n_steps = 1,\n",
    "                    callbacks = [checkpoint_callback],\n",
    "                    enable_progress_bar= True\n",
    ")"
   ]
  },
  {
   "cell_type": "code",
   "execution_count": 58,
   "metadata": {
    "ExecuteTime": {
     "end_time": "2023-07-24T16:23:10.559491072Z",
     "start_time": "2023-07-24T14:16:33.287150272Z"
    },
    "execution": {
     "iopub.execute_input": "2023-07-24T00:10:07.649900Z",
     "iopub.status.busy": "2023-07-24T00:10:07.649488Z"
    }
   },
   "outputs": [
    {
     "name": "stderr",
     "output_type": "stream",
     "text": [
      "You are using a CUDA device ('NVIDIA GeForce RTX 3070 Laptop GPU') that has Tensor Cores. To properly utilize them, you should set `torch.set_float32_matmul_precision('medium' | 'high')` which will trade-off precision for performance. For more details, read https://pytorch.org/docs/stable/generated/torch.set_float32_matmul_precision.html#torch.set_float32_matmul_precision\n",
      "LOCAL_RANK: 0 - CUDA_VISIBLE_DEVICES: [0]\n",
      "\n",
      "  | Name     | Type              | Params\n",
      "-----------------------------------------------\n",
      "0 | engine   | DenseNet201       | 18.1 M\n",
      "1 | loss_fn  | BCEWithLogitsLoss | 0     \n",
      "2 | train_f1 | BinaryF1Score     | 0     \n",
      "3 | val_f1   | BinaryF1Score     | 0     \n",
      "-----------------------------------------------\n",
      "18.1 M    Trainable params\n",
      "0         Non-trainable params\n",
      "18.1 M    Total params\n",
      "72.393    Total estimated model params size (MB)\n"
     ]
    },
    {
     "data": {
      "application/vnd.jupyter.widget-view+json": {
       "model_id": "c677f4433c3f48d1bd4704a195eb3d7a",
       "version_major": 2,
       "version_minor": 0
      },
      "text/plain": [
       "Sanity Checking: 0it [00:00, ?it/s]"
      ]
     },
     "metadata": {},
     "output_type": "display_data"
    },
    {
     "data": {
      "application/vnd.jupyter.widget-view+json": {
       "model_id": "62d28abbec4c4206b3982fa9391594e5",
       "version_major": 2,
       "version_minor": 0
      },
      "text/plain": [
       "Training: 0it [00:00, ?it/s]"
      ]
     },
     "metadata": {},
     "output_type": "display_data"
    },
    {
     "data": {
      "application/vnd.jupyter.widget-view+json": {
       "model_id": "9ac65b378de241dbba98ca3f71bcd8c8",
       "version_major": 2,
       "version_minor": 0
      },
      "text/plain": [
       "Validation: 0it [00:00, ?it/s]"
      ]
     },
     "metadata": {},
     "output_type": "display_data"
    },
    {
     "data": {
      "application/vnd.jupyter.widget-view+json": {
       "model_id": "64b12f720db545e0b30229f05df36865",
       "version_major": 2,
       "version_minor": 0
      },
      "text/plain": [
       "Validation: 0it [00:00, ?it/s]"
      ]
     },
     "metadata": {},
     "output_type": "display_data"
    },
    {
     "name": "stderr",
     "output_type": "stream",
     "text": [
      "`Trainer.fit` stopped: `max_epochs=2` reached.\n"
     ]
    }
   ],
   "source": [
    "trainer.fit(model, train_data_loader, val_data_loader)"
   ]
  },
  {
   "cell_type": "markdown",
   "metadata": {
    "collapsed": false,
    "jupyter": {
     "outputs_hidden": false
    }
   },
   "source": [
    "![training and evaluation losses](logs_img/BCE/DenseNetBCELoss.png)"
   ]
  },
  {
   "cell_type": "markdown",
   "metadata": {
    "collapsed": false,
    "jupyter": {
     "outputs_hidden": false
    }
   },
   "source": [
    "![f1 score for training and validation](logs_img/BCE/f1_DenseNetBCE.png)"
   ]
  },
  {
   "cell_type": "markdown",
   "metadata": {
    "collapsed": false,
    "jupyter": {
     "outputs_hidden": false
    }
   },
   "source": [
    "##### 9.1.3.2 DenseNet201 Model with Focal Loss <a id=\"DenseNet201-Model-with-Focal-Loss\"></a>"
   ]
  },
  {
   "cell_type": "code",
   "execution_count": 50,
   "metadata": {
    "ExecuteTime": {
     "end_time": "2023-07-24T22:39:24.272304022Z",
     "start_time": "2023-07-24T22:39:24.266354211Z"
    },
    "collapsed": false,
    "jupyter": {
     "outputs_hidden": false
    }
   },
   "outputs": [],
   "source": [
    "model = HemorrhageModel(engine = engine,\n",
    "                        loss=focal_loss,\n",
    "                       lr=config['optimizer']['lr'],\n",
    "                       num_classes = config['model']['num_classes']\n",
    "                       )"
   ]
  },
  {
   "cell_type": "code",
   "execution_count": 51,
   "metadata": {
    "ExecuteTime": {
     "end_time": "2023-07-24T22:39:24.837384299Z",
     "start_time": "2023-07-24T22:39:24.809197256Z"
    },
    "collapsed": false,
    "jupyter": {
     "outputs_hidden": false
    }
   },
   "outputs": [],
   "source": [
    "# Creating new folder for model\n",
    "MODEL_PATH = CUR_PATH/\"DenseNet201_FocalLoss\"\n",
    "os.makedirs(MODEL_PATH, exist_ok = True)\n",
    "checkpoint_callback.dirpath = MODEL_PATH"
   ]
  },
  {
   "cell_type": "code",
   "execution_count": 52,
   "metadata": {
    "ExecuteTime": {
     "end_time": "2023-07-24T22:39:25.616724923Z",
     "start_time": "2023-07-24T22:39:25.547863699Z"
    },
    "collapsed": false,
    "jupyter": {
     "outputs_hidden": false
    }
   },
   "outputs": [
    {
     "name": "stderr",
     "output_type": "stream",
     "text": [
      "GPU available: True (cuda), used: True\n",
      "TPU available: False, using: 0 TPU cores\n",
      "IPU available: False, using: 0 IPUs\n",
      "HPU available: False, using: 0 HPUs\n"
     ]
    }
   ],
   "source": [
    "trainer = pl.Trainer(devices = torch.cuda.device_count(),\n",
    "                     accelerator = \"auto\",\n",
    "                     max_epochs=config['model']['epochs'],\n",
    "                    logger= TensorBoardLogger(save_dir=LOGS_PATH, log_graph=True, name=\"densenet201_FocalLoss\"),\n",
    "                    log_every_n_steps = 1,\n",
    "                    callbacks = [checkpoint_callback],\n",
    "                    enable_progress_bar= True\n",
    ")"
   ]
  },
  {
   "cell_type": "code",
   "execution_count": 68,
   "metadata": {
    "ExecuteTime": {
     "end_time": "2023-07-24T21:45:46.163699421Z",
     "start_time": "2023-07-24T16:27:01.360354458Z"
    },
    "collapsed": false,
    "jupyter": {
     "outputs_hidden": false
    }
   },
   "outputs": [
    {
     "name": "stderr",
     "output_type": "stream",
     "text": [
      "LOCAL_RANK: 0 - CUDA_VISIBLE_DEVICES: [0]\n",
      "\n",
      "  | Name     | Type          | Params\n",
      "-------------------------------------------\n",
      "0 | engine   | DenseNet201   | 18.1 M\n",
      "1 | loss_fn  | FocalLoss     | 0     \n",
      "2 | train_f1 | BinaryF1Score | 0     \n",
      "3 | val_f1   | BinaryF1Score | 0     \n",
      "-------------------------------------------\n",
      "18.1 M    Trainable params\n",
      "0         Non-trainable params\n",
      "18.1 M    Total params\n",
      "72.393    Total estimated model params size (MB)\n"
     ]
    },
    {
     "data": {
      "application/vnd.jupyter.widget-view+json": {
       "model_id": "c76c978465c9429897b68df20198b2fc",
       "version_major": 2,
       "version_minor": 0
      },
      "text/plain": [
       "Sanity Checking: 0it [00:00, ?it/s]"
      ]
     },
     "metadata": {},
     "output_type": "display_data"
    },
    {
     "data": {
      "application/vnd.jupyter.widget-view+json": {
       "model_id": "d9af41cdf3a54409a6f7ffd283001006",
       "version_major": 2,
       "version_minor": 0
      },
      "text/plain": [
       "Training: 0it [00:00, ?it/s]"
      ]
     },
     "metadata": {},
     "output_type": "display_data"
    },
    {
     "data": {
      "application/vnd.jupyter.widget-view+json": {
       "model_id": "dbb82cfb2ea0474e97200832350b9c12",
       "version_major": 2,
       "version_minor": 0
      },
      "text/plain": [
       "Validation: 0it [00:00, ?it/s]"
      ]
     },
     "metadata": {},
     "output_type": "display_data"
    },
    {
     "data": {
      "application/vnd.jupyter.widget-view+json": {
       "model_id": "e2aca93afee74f3495a323c34c59a818",
       "version_major": 2,
       "version_minor": 0
      },
      "text/plain": [
       "Validation: 0it [00:00, ?it/s]"
      ]
     },
     "metadata": {},
     "output_type": "display_data"
    },
    {
     "data": {
      "application/vnd.jupyter.widget-view+json": {
       "model_id": "db44c2d323fb4c159bf5052ad7633535",
       "version_major": 2,
       "version_minor": 0
      },
      "text/plain": [
       "Validation: 0it [00:00, ?it/s]"
      ]
     },
     "metadata": {},
     "output_type": "display_data"
    },
    {
     "data": {
      "application/vnd.jupyter.widget-view+json": {
       "model_id": "f8930feb4ac94992bd9f65dbe8255224",
       "version_major": 2,
       "version_minor": 0
      },
      "text/plain": [
       "Validation: 0it [00:00, ?it/s]"
      ]
     },
     "metadata": {},
     "output_type": "display_data"
    },
    {
     "data": {
      "application/vnd.jupyter.widget-view+json": {
       "model_id": "51f9e2c16e0140cab7f355d411ad7ac7",
       "version_major": 2,
       "version_minor": 0
      },
      "text/plain": [
       "Validation: 0it [00:00, ?it/s]"
      ]
     },
     "metadata": {},
     "output_type": "display_data"
    },
    {
     "name": "stderr",
     "output_type": "stream",
     "text": [
      "`Trainer.fit` stopped: `max_epochs=5` reached.\n"
     ]
    }
   ],
   "source": [
    "trainer.fit(model, train_data_loader, val_data_loader)"
   ]
  },
  {
   "cell_type": "markdown",
   "metadata": {
    "collapsed": false,
    "jupyter": {
     "outputs_hidden": false
    }
   },
   "source": [
    "![](logs_img/dense_focal/DenseFocalLoss.png)"
   ]
  },
  {
   "cell_type": "markdown",
   "metadata": {
    "collapsed": false,
    "jupyter": {
     "outputs_hidden": false
    }
   },
   "source": [
    "![](logs_img/dense_focal/f1_Dense_focal.png)"
   ]
  },
  {
   "cell_type": "markdown",
   "metadata": {
    "collapsed": false,
    "jupyter": {
     "outputs_hidden": false
    }
   },
   "source": [
    "**After using BCE with Logits and Focal Loss function, We found that the model performance improved when using Focal Loss**\n",
    "**Let's do another experiment by using Focal loss with Different architectures to find a better model**"
   ]
  },
  {
   "cell_type": "markdown",
   "metadata": {
    "collapsed": false,
    "jupyter": {
     "outputs_hidden": false
    }
   },
   "source": [
    "##### 9.1.3.3 EfficientNetB0 with Focal Loss  <a id=\"EfficientNetB0-with-Focal-Loss\"></a>"
   ]
  },
  {
   "cell_type": "code",
   "execution_count": 83,
   "metadata": {
    "collapsed": false,
    "jupyter": {
     "outputs_hidden": false
    }
   },
   "outputs": [
    {
     "name": "stderr",
     "output_type": "stream",
     "text": [
      "Downloading: \"https://github.com/lukemelas/EfficientNet-PyTorch/releases/download/1.0/efficientnet-b0-355c32eb.pth\" to /home/kyrillos/.cache/torch/hub/checkpoints/efficientnet-b0-355c32eb.pth\n",
      "100%|██████████| 20.4M/20.4M [00:05<00:00, 3.61MB/s]\n"
     ]
    }
   ],
   "source": [
    "from monai.networks.nets import EfficientNetBN\n",
    "engine =  EfficientNetBN(model_name = \"efficientnet-b0\",\n",
    "                      spatial_dims = config['model']['spatial_dims'],\n",
    "                      in_channels = config['model']['in_channels'],\n",
    "                      num_classes = config['model']['num_classes'],\n",
    "                      pretrained=True\n",
    "                      )"
   ]
  },
  {
   "cell_type": "code",
   "execution_count": 84,
   "metadata": {
    "collapsed": false,
    "jupyter": {
     "outputs_hidden": false
    }
   },
   "outputs": [],
   "source": [
    "model = HemorrhageModel(engine = engine,\n",
    "                       loss=focal_loss,\n",
    "                       lr=config['optimizer']['lr'],\n",
    "                       num_classes = config['model']['num_classes']\n",
    "                       )"
   ]
  },
  {
   "cell_type": "code",
   "execution_count": 85,
   "metadata": {
    "collapsed": false,
    "jupyter": {
     "outputs_hidden": false
    }
   },
   "outputs": [],
   "source": [
    "# Creating new folder for model\n",
    "MODEL_PATH = CUR_PATH/\"EfficientNetB0_FocalLoss\"\n",
    "os.makedirs(MODEL_PATH, exist_ok = True)\n",
    "checkpoint_callback.dirpath = MODEL_PATH"
   ]
  },
  {
   "cell_type": "code",
   "execution_count": 86,
   "metadata": {
    "collapsed": false,
    "jupyter": {
     "outputs_hidden": false
    }
   },
   "outputs": [
    {
     "name": "stderr",
     "output_type": "stream",
     "text": [
      "GPU available: True (cuda), used: True\n",
      "TPU available: False, using: 0 TPU cores\n",
      "IPU available: False, using: 0 IPUs\n",
      "HPU available: False, using: 0 HPUs\n"
     ]
    }
   ],
   "source": [
    "trainer = pl.Trainer(devices = torch.cuda.device_count(),\n",
    "                     accelerator = \"auto\",\n",
    "                     max_epochs=config['model']['epochs'],\n",
    "                    logger= TensorBoardLogger(save_dir=LOGS_PATH, log_graph=True, name=\"EffiecientB0_FocalLoss\"),\n",
    "                    log_every_n_steps = 1,\n",
    "                    callbacks = [checkpoint_callback],\n",
    "                    enable_progress_bar= True\n",
    ")"
   ]
  },
  {
   "cell_type": "code",
   "execution_count": 87,
   "metadata": {
    "collapsed": false,
    "jupyter": {
     "outputs_hidden": false
    }
   },
   "outputs": [
    {
     "name": "stderr",
     "output_type": "stream",
     "text": [
      "LOCAL_RANK: 0 - CUDA_VISIBLE_DEVICES: [0]\n",
      "\n",
      "  | Name     | Type           | Params\n",
      "--------------------------------------------\n",
      "0 | engine   | EfficientNetBN | 4.0 M \n",
      "1 | loss_fn  | FocalLoss      | 0     \n",
      "2 | train_f1 | BinaryF1Score  | 0     \n",
      "3 | val_f1   | BinaryF1Score  | 0     \n",
      "--------------------------------------------\n",
      "4.0 M     Trainable params\n",
      "0         Non-trainable params\n",
      "4.0 M     Total params\n",
      "16.059    Total estimated model params size (MB)\n"
     ]
    },
    {
     "data": {
      "application/vnd.jupyter.widget-view+json": {
       "model_id": "456e4ce7e52e44e6b342b8958b6e8963",
       "version_major": 2,
       "version_minor": 0
      },
      "text/plain": [
       "Sanity Checking: 0it [00:00, ?it/s]"
      ]
     },
     "metadata": {},
     "output_type": "display_data"
    },
    {
     "data": {
      "application/vnd.jupyter.widget-view+json": {
       "model_id": "7a4517e8b7714a0b8b5447c0a80762cd",
       "version_major": 2,
       "version_minor": 0
      },
      "text/plain": [
       "Training: 0it [00:00, ?it/s]"
      ]
     },
     "metadata": {},
     "output_type": "display_data"
    },
    {
     "data": {
      "application/vnd.jupyter.widget-view+json": {
       "model_id": "de1cb7f775914f54adaf19bf9986ade1",
       "version_major": 2,
       "version_minor": 0
      },
      "text/plain": [
       "Validation: 0it [00:00, ?it/s]"
      ]
     },
     "metadata": {},
     "output_type": "display_data"
    },
    {
     "data": {
      "application/vnd.jupyter.widget-view+json": {
       "model_id": "1803ec585c524b8ea5672c9e67039ee8",
       "version_major": 2,
       "version_minor": 0
      },
      "text/plain": [
       "Validation: 0it [00:00, ?it/s]"
      ]
     },
     "metadata": {},
     "output_type": "display_data"
    },
    {
     "data": {
      "application/vnd.jupyter.widget-view+json": {
       "model_id": "4833093bec4e4d5d9a2e9e3fb31f0fb2",
       "version_major": 2,
       "version_minor": 0
      },
      "text/plain": [
       "Validation: 0it [00:00, ?it/s]"
      ]
     },
     "metadata": {},
     "output_type": "display_data"
    },
    {
     "data": {
      "application/vnd.jupyter.widget-view+json": {
       "model_id": "215e33836d134c999eaf07788558e095",
       "version_major": 2,
       "version_minor": 0
      },
      "text/plain": [
       "Validation: 0it [00:00, ?it/s]"
      ]
     },
     "metadata": {},
     "output_type": "display_data"
    },
    {
     "data": {
      "application/vnd.jupyter.widget-view+json": {
       "model_id": "80b4350f011745b28744e6635f80bc4f",
       "version_major": 2,
       "version_minor": 0
      },
      "text/plain": [
       "Validation: 0it [00:00, ?it/s]"
      ]
     },
     "metadata": {},
     "output_type": "display_data"
    },
    {
     "name": "stderr",
     "output_type": "stream",
     "text": [
      "`Trainer.fit` stopped: `max_epochs=5` reached.\n"
     ]
    }
   ],
   "source": [
    "trainer.fit(model, train_data_loader, val_data_loader)"
   ]
  },
  {
   "cell_type": "markdown",
   "metadata": {
    "collapsed": false,
    "jupyter": {
     "outputs_hidden": false
    }
   },
   "source": [
    "![](logs_img/EfficientB0_focal/EfficientB0Focalloss.png)"
   ]
  },
  {
   "cell_type": "markdown",
   "metadata": {
    "collapsed": false,
    "jupyter": {
     "outputs_hidden": false
    }
   },
   "source": [
    "![](logs_img/EfficientB0_focal/f1_EfficientB0Focalloss.png)"
   ]
  },
  {
   "cell_type": "markdown",
   "metadata": {
    "collapsed": false,
    "jupyter": {
     "outputs_hidden": false
    }
   },
   "source": [
    "##### 9.1.3.4 EfficientNetB3  Model with Focal Loss <a id=\"EfficientNetB3-Model-with-Focal-Loss\"></a>"
   ]
  },
  {
   "cell_type": "code",
   "execution_count": 50,
   "metadata": {
    "ExecuteTime": {
     "end_time": "2023-07-24T23:20:04.259275107Z",
     "start_time": "2023-07-24T23:19:21.449466018Z"
    },
    "collapsed": false,
    "jupyter": {
     "outputs_hidden": false
    }
   },
   "outputs": [
    {
     "name": "stderr",
     "output_type": "stream",
     "text": [
      "Downloading: \"https://github.com/lukemelas/EfficientNet-PyTorch/releases/download/1.0/efficientnet-b3-5fb5a3c3.pth\" to /home/kyrillos/.cache/torch/hub/checkpoints/efficientnet-b3-5fb5a3c3.pth\n",
      "100%|██████████| 47.1M/47.1M [00:41<00:00, 1.18MB/s]\n"
     ]
    }
   ],
   "source": [
    "from monai.networks.nets import EfficientNetBN\n",
    "engine =  EfficientNetBN(model_name = \"efficientnet-b3\",\n",
    "                      spatial_dims = config['model']['spatial_dims'],\n",
    "                      in_channels = config['model']['in_channels'],\n",
    "                      num_classes = config['model']['num_classes'],\n",
    "                      pretrained=True\n",
    "                      )"
   ]
  },
  {
   "cell_type": "code",
   "execution_count": 51,
   "metadata": {
    "ExecuteTime": {
     "end_time": "2023-07-24T23:20:04.306849118Z",
     "start_time": "2023-07-24T23:20:04.306310761Z"
    },
    "collapsed": false,
    "jupyter": {
     "outputs_hidden": false
    }
   },
   "outputs": [],
   "source": [
    "model = HemorrhageModel(engine = engine,\n",
    "                        loss=focal_loss,\n",
    "                       lr=config['optimizer']['lr'],\n",
    "                       num_classes = config['model']['num_classes']\n",
    "                       )"
   ]
  },
  {
   "cell_type": "code",
   "execution_count": 52,
   "metadata": {
    "ExecuteTime": {
     "end_time": "2023-07-24T23:20:04.309308045Z",
     "start_time": "2023-07-24T23:20:04.307246181Z"
    },
    "collapsed": false,
    "jupyter": {
     "outputs_hidden": false
    }
   },
   "outputs": [],
   "source": [
    "# Creating new folder for model\n",
    "MODEL_PATH = CUR_PATH/\"EfficientNetB3_FocalLoss\"\n",
    "os.makedirs(MODEL_PATH, exist_ok = True)\n",
    "checkpoint_callback.dirpath = MODEL_PATH"
   ]
  },
  {
   "cell_type": "code",
   "execution_count": 53,
   "metadata": {
    "ExecuteTime": {
     "end_time": "2023-07-24T23:20:24.193877050Z",
     "start_time": "2023-07-24T23:20:24.131837038Z"
    },
    "collapsed": false,
    "jupyter": {
     "outputs_hidden": false
    }
   },
   "outputs": [
    {
     "name": "stderr",
     "output_type": "stream",
     "text": [
      "GPU available: True (cuda), used: True\n",
      "TPU available: False, using: 0 TPU cores\n",
      "IPU available: False, using: 0 IPUs\n",
      "HPU available: False, using: 0 HPUs\n"
     ]
    }
   ],
   "source": [
    "trainer = pl.Trainer(devices = torch.cuda.device_count(),\n",
    "                     accelerator = \"auto\",\n",
    "                     max_epochs=config['model']['epochs'],\n",
    "                    logger= TensorBoardLogger(save_dir=LOGS_PATH, log_graph=True, name=\"EffiecientB3_FocalLoss\"),\n",
    "                    log_every_n_steps = 1,\n",
    "                    callbacks = [checkpoint_callback],\n",
    "                    enable_progress_bar= True\n",
    ")"
   ]
  },
  {
   "cell_type": "code",
   "execution_count": 54,
   "metadata": {
    "ExecuteTime": {
     "end_time": "2023-07-25T03:44:54.992690002Z",
     "start_time": "2023-07-24T23:20:25.704109866Z"
    },
    "collapsed": false,
    "jupyter": {
     "outputs_hidden": false
    }
   },
   "outputs": [
    {
     "name": "stderr",
     "output_type": "stream",
     "text": [
      "You are using a CUDA device ('NVIDIA GeForce RTX 3070 Laptop GPU') that has Tensor Cores. To properly utilize them, you should set `torch.set_float32_matmul_precision('medium' | 'high')` which will trade-off precision for performance. For more details, read https://pytorch.org/docs/stable/generated/torch.set_float32_matmul_precision.html#torch.set_float32_matmul_precision\n",
      "LOCAL_RANK: 0 - CUDA_VISIBLE_DEVICES: [0]\n",
      "\n",
      "  | Name     | Type           | Params\n",
      "--------------------------------------------\n",
      "0 | engine   | EfficientNetBN | 10.7 M\n",
      "1 | loss_fn  | FocalLoss      | 0     \n",
      "2 | train_f1 | BinaryF1Score  | 0     \n",
      "3 | val_f1   | BinaryF1Score  | 0     \n",
      "--------------------------------------------\n",
      "10.7 M    Trainable params\n",
      "0         Non-trainable params\n",
      "10.7 M    Total params\n",
      "42.819    Total estimated model params size (MB)\n"
     ]
    },
    {
     "data": {
      "application/vnd.jupyter.widget-view+json": {
       "model_id": "27fbffa093644300ab0df3e546399d0b",
       "version_major": 2,
       "version_minor": 0
      },
      "text/plain": [
       "Sanity Checking: 0it [00:00, ?it/s]"
      ]
     },
     "metadata": {},
     "output_type": "display_data"
    },
    {
     "data": {
      "application/vnd.jupyter.widget-view+json": {
       "model_id": "ada4b07f73024bd08d1a40e773f6c0b8",
       "version_major": 2,
       "version_minor": 0
      },
      "text/plain": [
       "Training: 0it [00:00, ?it/s]"
      ]
     },
     "metadata": {},
     "output_type": "display_data"
    },
    {
     "data": {
      "application/vnd.jupyter.widget-view+json": {
       "model_id": "80f4fe55404e40328b1c2542c8adb119",
       "version_major": 2,
       "version_minor": 0
      },
      "text/plain": [
       "Validation: 0it [00:00, ?it/s]"
      ]
     },
     "metadata": {},
     "output_type": "display_data"
    },
    {
     "data": {
      "application/vnd.jupyter.widget-view+json": {
       "model_id": "c84764fb67234a18a0baa6e2da3fe0aa",
       "version_major": 2,
       "version_minor": 0
      },
      "text/plain": [
       "Validation: 0it [00:00, ?it/s]"
      ]
     },
     "metadata": {},
     "output_type": "display_data"
    },
    {
     "data": {
      "application/vnd.jupyter.widget-view+json": {
       "model_id": "66150b8dac354f37b9761769e8ba9aea",
       "version_major": 2,
       "version_minor": 0
      },
      "text/plain": [
       "Validation: 0it [00:00, ?it/s]"
      ]
     },
     "metadata": {},
     "output_type": "display_data"
    },
    {
     "data": {
      "application/vnd.jupyter.widget-view+json": {
       "model_id": "26ca3abbe2d2446dbf4575b8677a6385",
       "version_major": 2,
       "version_minor": 0
      },
      "text/plain": [
       "Validation: 0it [00:00, ?it/s]"
      ]
     },
     "metadata": {},
     "output_type": "display_data"
    },
    {
     "data": {
      "application/vnd.jupyter.widget-view+json": {
       "model_id": "1cc438b0473b4bb387075a2bb4808389",
       "version_major": 2,
       "version_minor": 0
      },
      "text/plain": [
       "Validation: 0it [00:00, ?it/s]"
      ]
     },
     "metadata": {},
     "output_type": "display_data"
    },
    {
     "name": "stderr",
     "output_type": "stream",
     "text": [
      "`Trainer.fit` stopped: `max_epochs=5` reached.\n"
     ]
    }
   ],
   "source": [
    "trainer.fit(model, train_data_loader, val_data_loader)"
   ]
  },
  {
   "cell_type": "markdown",
   "metadata": {
    "collapsed": false,
    "jupyter": {
     "outputs_hidden": false
    }
   },
   "source": [
    "![](logs_img/EffiecientB3_focal/EfficientB3Focalloss.png)"
   ]
  },
  {
   "cell_type": "markdown",
   "metadata": {
    "collapsed": false,
    "jupyter": {
     "outputs_hidden": false
    }
   },
   "source": [
    "![](logs_img/EffiecientB3_focal/f1_EfficientB3Focalloss.png)"
   ]
  },
  {
   "cell_type": "markdown",
   "metadata": {
    "collapsed": false,
    "jupyter": {
     "outputs_hidden": false
    }
   },
   "source": [
    "**We used EfficientNetB0 and B3, but found that the performance of DenseNet201 has the best performance**\n",
    "\n",
    "**We will move to improve the preprocessing phase by stacking the images with different windows together in one image**"
   ]
  },
  {
   "cell_type": "markdown",
   "metadata": {
    "collapsed": false,
    "jupyter": {
     "outputs_hidden": false
    }
   },
   "source": [
    "##### 9.1.3.5 DenseNet201 with Focal Loss and 3 channels <a id=\"DenseNet201-with-Focal-Loss-and-3-channels\"></a>"
   ]
  },
  {
   "cell_type": "markdown",
   "metadata": {
    "collapsed": false,
    "jupyter": {
     "outputs_hidden": false
    }
   },
   "source": [
    "We will make changes in correcting window class to generate an image with 3 windows; brain, subdural and bone."
   ]
  },
  {
   "cell_type": "code",
   "execution_count": 48,
   "metadata": {
    "ExecuteTime": {
     "end_time": "2023-07-25T14:50:56.827155681Z",
     "start_time": "2023-07-25T14:50:56.810848219Z"
    },
    "collapsed": false,
    "jupyter": {
     "outputs_hidden": false
    }
   },
   "outputs": [],
   "source": [
    "class CorrectingWindow3windows(Transform):\n",
    "    \"\"\"\n",
    "    This class contains the helper functions needed to correct image windows\n",
    "\n",
    "    \"\"\"\n",
    "    def __init__(self, is_scale=False, scale_factor=1):\n",
    "        \"\"\"\n",
    "         Args:\n",
    "            scale(bool): to scale the image\n",
    "            scale_factor(float): scaling image with this number if is_scale = True\n",
    "\n",
    "        \"\"\"\n",
    "        self.is_scale = is_scale\n",
    "        self.scale_factor = scale_factor\n",
    "    def get_first_dicom_field_int(self, value):\n",
    "        \"\"\"\n",
    "\n",
    "        This function is used to get the first value of multiple values of DICOM metadata fields and convert it into integer\n",
    "\n",
    "            Parameters:\n",
    "                value ([float, pydicom multival.MultiValue, pydicom.valuerep.DSfloat]): Metadata field value\n",
    "\n",
    "            Returns:\n",
    "                value(int): Converted value into integer\n",
    "\n",
    "        \"\"\"\n",
    "        if type(value) == pydicom.multival.MultiValue:\n",
    "            return int(value[0])\n",
    "        else:\n",
    "            return int(value)\n",
    "\n",
    "\n",
    "    def transform_hu(self, image, intercept, slope):\n",
    "        \"\"\"\n",
    "\n",
    "        This function is used to transfer the image pixel values to Hounisfield Unit (HU)\n",
    "\n",
    "            Parameters:\n",
    "                image(np.array): It's a DICOM image\n",
    "\n",
    "            Returns:\n",
    "                HU_image(np.array): A new image with HU transformation\n",
    "\n",
    "        \"\"\"\n",
    "        hu_image = image* slope + intercept\n",
    "\n",
    "        return hu_image\n",
    "\n",
    "    def window_image(self, image, window_level, window_width, is_scale=False, scale_factor= 1):\n",
    "        \"\"\"\n",
    "\n",
    "        This function is used to adjust an image containing HU values with a certain range of gray shades density\n",
    "\n",
    "            Parameters:\n",
    "                image (np.array): An image with HU values\n",
    "                window_level(int): The centre of the grayscale range\n",
    "                window_width(int): The range of grayscale\n",
    "\n",
    "            Returns:\n",
    "                window_image(np.array): A new image adjusted with window leval and window width\n",
    "\n",
    "        \"\"\"\n",
    "        lowest_value = window_level - window_width // 2\n",
    "        highest_value = window_level + window_width // 2\n",
    "\n",
    "        window_image = image.copy()\n",
    "\n",
    "        window_image[window_image < lowest_value] = lowest_value\n",
    "        window_image[window_image > highest_value] = highest_value\n",
    "\n",
    "        return window_image\n",
    "\n",
    "    def window_hu_image(self, dcm_file, is_scale=False, scale_factor=1):\n",
    "        \"\"\"\n",
    "\n",
    "        This function is used to view the adjusted image by transform_HU and window_image functions\n",
    "\n",
    "            Parameters:\n",
    "                dcm_file(DICOM): It's a DICOM file\n",
    "            Returns:\n",
    "                adjusted_image(np.array): An adjusted image after applying HU, window level and window width\n",
    "\n",
    "        \"\"\"\n",
    "\n",
    "        fields_list = [\n",
    "                       dcm_file.RescaleIntercept,\n",
    "                       dcm_file.RescaleSlope\n",
    "                      ]\n",
    "\n",
    "        intercept, slope = [self.get_first_dicom_field_int(value) for value in fields_list]\n",
    "        image = dcm_file.pixel_array\n",
    "        hu_image = self.transform_hu(image, intercept, slope)\n",
    "        brain_window = self.window_image(hu_image, window_level=40, window_width= 80)\n",
    "        subdural_window = self.window_image(hu_image, window_level=80, window_width= 200)\n",
    "        bone_window = self.window_image(hu_image, window_level=600, window_width= 2800)\n",
    "\n",
    "        adjusted_image = np.concatenate([brain_window[..., np.newaxis],\n",
    "                                         subdural_window[..., np.newaxis],\n",
    "                                         bone_window[..., np.newaxis]], axis = -1)\n",
    "        if is_scale:\n",
    "            return adjusted_image.astype(np.float32) * scale_factor\n",
    "        else:\n",
    "            adjusted_image\n",
    "\n",
    "    def __call__(self, dcm_obj):\n",
    "        \"\"\"\n",
    "        Executing window_hu_image function with required arguments\n",
    "\n",
    "            Args:\n",
    "                dcm_obj: DICOM Object\n",
    "\n",
    "            Returns:\n",
    "                np.array()\n",
    "\n",
    "        \"\"\"\n",
    "        return self.window_hu_image(dcm_obj, self.is_scale, self.scale_factor)"
   ]
  },
  {
   "cell_type": "code",
   "execution_count": 49,
   "metadata": {
    "ExecuteTime": {
     "end_time": "2023-07-25T14:51:14.017696311Z",
     "start_time": "2023-07-25T14:51:14.003992506Z"
    },
    "collapsed": false,
    "jupyter": {
     "outputs_hidden": false
    }
   },
   "outputs": [],
   "source": [
    "train_transform_3channels = Compose(\n",
    "    [\n",
    "        LoadDcm(),\n",
    "        CorrectingWindow3windows(is_scale=True, scale_factor=1/3071),\n",
    "        ToTensor(),\n",
    "        EnsureChannelFirst(channel_dim=-1),\n",
    "        Resize(config[\"image_shape\"]),\n",
    "        RandZoom(min_zoom = 0.9, max_zoom = 1.1),\n",
    "        RandAffine(rotate_range=(-5,5), translate_range=(0,0.05))\n",
    "     ]\n",
    ")"
   ]
  },
  {
   "cell_type": "code",
   "execution_count": 50,
   "metadata": {
    "ExecuteTime": {
     "end_time": "2023-07-25T14:51:18.073305866Z",
     "start_time": "2023-07-25T14:51:18.046937439Z"
    },
    "collapsed": false,
    "jupyter": {
     "outputs_hidden": false
    }
   },
   "outputs": [],
   "source": [
    "test_transform_3channels = Compose(\n",
    "    [\n",
    "        LoadDcm(),\n",
    "        CorrectingWindow3windows(is_scale=True, scale_factor=1/3071),\n",
    "        ToTensor(),\n",
    "        EnsureChannelFirst(channel_dim=-1),\n",
    "        Resize(config[\"image_shape\"]),\n",
    "    ]\n",
    ")"
   ]
  },
  {
   "cell_type": "code",
   "execution_count": 51,
   "metadata": {
    "ExecuteTime": {
     "end_time": "2023-07-25T14:51:34.981665871Z",
     "start_time": "2023-07-25T14:51:34.933342028Z"
    },
    "collapsed": false,
    "jupyter": {
     "outputs_hidden": false
    }
   },
   "outputs": [],
   "source": [
    "train_dataset = CustomDataset(dataframe = train_dataframe,\n",
    "                              root_dir = ROOT_DATA_DIR/TRAINING_IMAGES_PATH,\n",
    "                              path_col = \"ID\",\n",
    "                              transform = train_transform_3channels\n",
    "                             )\n",
    "\n",
    "train_data_loader = DataLoader(dataset = train_dataset,\n",
    "                              batch_size=config[\"batch_size\"],\n",
    "                              shuffle=False\n",
    "                               )"
   ]
  },
  {
   "cell_type": "code",
   "execution_count": 52,
   "metadata": {
    "ExecuteTime": {
     "end_time": "2023-07-25T14:51:50.285781511Z",
     "start_time": "2023-07-25T14:51:50.204165498Z"
    },
    "collapsed": false,
    "jupyter": {
     "outputs_hidden": false
    }
   },
   "outputs": [],
   "source": [
    "val_dataset = CustomDataset(dataframe = val_dataframe,\n",
    "                              root_dir = ROOT_DATA_DIR/TRAINING_IMAGES_PATH,\n",
    "                              path_col = \"ID\",\n",
    "                              transform = test_transform_3channels\n",
    "                             )\n",
    "\n",
    "val_data_loader = DataLoader(dataset = val_dataset,\n",
    "                              batch_size=config[\"batch_size\"],\n",
    "                              shuffle=False\n",
    "                             )"
   ]
  },
  {
   "cell_type": "code",
   "execution_count": 53,
   "metadata": {
    "ExecuteTime": {
     "end_time": "2023-07-25T14:51:59.437971674Z",
     "start_time": "2023-07-25T14:51:59.429750201Z"
    },
    "collapsed": false,
    "jupyter": {
     "outputs_hidden": false
    }
   },
   "outputs": [],
   "source": [
    "test_dataset = CustomDataset(dataframe = test_dataframe,\n",
    "                              root_dir = ROOT_DATA_DIR/TRAINING_IMAGES_PATH,\n",
    "                              path_col = \"ID\",\n",
    "                              transform = test_transform_3channels\n",
    "                             )\n",
    "\n",
    "test_data_loader = DataLoader(dataset = test_dataset,\n",
    "                              batch_size=config[\"batch_size\"],\n",
    "                              shuffle=False\n",
    "                              )"
   ]
  },
  {
   "cell_type": "code",
   "execution_count": 55,
   "metadata": {
    "ExecuteTime": {
     "end_time": "2023-07-25T14:52:27.838985419Z",
     "start_time": "2023-07-25T14:52:27.262459392Z"
    },
    "collapsed": false,
    "jupyter": {
     "outputs_hidden": false
    }
   },
   "outputs": [],
   "source": [
    "from monai.networks.nets import DenseNet201\n",
    "engine =  DenseNet201(spatial_dims = config['model']['spatial_dims'],\n",
    "                      in_channels = 3,\n",
    "                      out_channels = config['model']['num_classes'],\n",
    "                      pretrained=True\n",
    "                     )"
   ]
  },
  {
   "cell_type": "code",
   "execution_count": 59,
   "metadata": {
    "ExecuteTime": {
     "end_time": "2023-07-25T14:53:10.704036592Z",
     "start_time": "2023-07-25T14:53:10.694565543Z"
    },
    "collapsed": false,
    "jupyter": {
     "outputs_hidden": false
    }
   },
   "outputs": [],
   "source": [
    "model_3channels = HemorrhageModel(engine = engine,\n",
    "                        loss=focal_loss,\n",
    "                       lr=config['optimizer']['lr'],\n",
    "                       num_classes = config['model']['num_classes']\n",
    "                       )"
   ]
  },
  {
   "cell_type": "code",
   "execution_count": 60,
   "metadata": {
    "ExecuteTime": {
     "end_time": "2023-07-25T14:53:11.597356419Z",
     "start_time": "2023-07-25T14:53:11.566199835Z"
    },
    "collapsed": false,
    "jupyter": {
     "outputs_hidden": false
    }
   },
   "outputs": [],
   "source": [
    "# Creating new folder for model\n",
    "MODEL_PATH = CUR_PATH/\"DenseNet201_3channels_FocalLoss\"\n",
    "os.makedirs(MODEL_PATH, exist_ok = True)\n",
    "checkpoint_callback.dirpath = MODEL_PATH"
   ]
  },
  {
   "cell_type": "code",
   "execution_count": 61,
   "metadata": {
    "ExecuteTime": {
     "end_time": "2023-07-25T14:53:12.800730263Z",
     "start_time": "2023-07-25T14:53:12.766266455Z"
    },
    "collapsed": false,
    "jupyter": {
     "outputs_hidden": false
    }
   },
   "outputs": [
    {
     "name": "stderr",
     "output_type": "stream",
     "text": [
      "GPU available: True (cuda), used: True\n",
      "TPU available: False, using: 0 TPU cores\n",
      "IPU available: False, using: 0 IPUs\n",
      "HPU available: False, using: 0 HPUs\n"
     ]
    }
   ],
   "source": [
    "trainer = pl.Trainer(devices = torch.cuda.device_count(),\n",
    "                     accelerator = \"auto\",\n",
    "                     max_epochs=config['model']['epochs'],\n",
    "                    logger= TensorBoardLogger(save_dir=LOGS_PATH, log_graph=True, name=\"densenet201_3channels_FocalLoss\"),\n",
    "                    log_every_n_steps = 1,\n",
    "                    callbacks = [checkpoint_callback],\n",
    "                    enable_progress_bar= True\n",
    ")"
   ]
  },
  {
   "cell_type": "code",
   "execution_count": 62,
   "metadata": {
    "ExecuteTime": {
     "end_time": "2023-07-25T19:56:54.204897978Z",
     "start_time": "2023-07-25T14:53:13.729573610Z"
    },
    "collapsed": false,
    "jupyter": {
     "outputs_hidden": false
    }
   },
   "outputs": [
    {
     "name": "stderr",
     "output_type": "stream",
     "text": [
      "You are using a CUDA device ('NVIDIA GeForce RTX 3070 Laptop GPU') that has Tensor Cores. To properly utilize them, you should set `torch.set_float32_matmul_precision('medium' | 'high')` which will trade-off precision for performance. For more details, read https://pytorch.org/docs/stable/generated/torch.set_float32_matmul_precision.html#torch.set_float32_matmul_precision\n",
      "LOCAL_RANK: 0 - CUDA_VISIBLE_DEVICES: [0]\n",
      "\n",
      "  | Name     | Type          | Params\n",
      "-------------------------------------------\n",
      "0 | engine   | DenseNet201   | 18.1 M\n",
      "1 | loss_fn  | FocalLoss     | 0     \n",
      "2 | train_f1 | BinaryF1Score | 0     \n",
      "3 | val_f1   | BinaryF1Score | 0     \n",
      "-------------------------------------------\n",
      "18.1 M    Trainable params\n",
      "0         Non-trainable params\n",
      "18.1 M    Total params\n",
      "72.418    Total estimated model params size (MB)\n"
     ]
    },
    {
     "data": {
      "application/vnd.jupyter.widget-view+json": {
       "model_id": "62af4296b0d842ecbeecb8786adf2d4c",
       "version_major": 2,
       "version_minor": 0
      },
      "text/plain": [
       "Sanity Checking: 0it [00:00, ?it/s]"
      ]
     },
     "metadata": {},
     "output_type": "display_data"
    },
    {
     "data": {
      "application/vnd.jupyter.widget-view+json": {
       "model_id": "efcc6a1a454c4ecfbf4245578fe227ae",
       "version_major": 2,
       "version_minor": 0
      },
      "text/plain": [
       "Training: 0it [00:00, ?it/s]"
      ]
     },
     "metadata": {},
     "output_type": "display_data"
    },
    {
     "data": {
      "application/vnd.jupyter.widget-view+json": {
       "model_id": "4552e27d8a814794843ffc109e8df159",
       "version_major": 2,
       "version_minor": 0
      },
      "text/plain": [
       "Validation: 0it [00:00, ?it/s]"
      ]
     },
     "metadata": {},
     "output_type": "display_data"
    },
    {
     "data": {
      "application/vnd.jupyter.widget-view+json": {
       "model_id": "95d9f36ac35c4d5fb115b8c96c0f2ee4",
       "version_major": 2,
       "version_minor": 0
      },
      "text/plain": [
       "Validation: 0it [00:00, ?it/s]"
      ]
     },
     "metadata": {},
     "output_type": "display_data"
    },
    {
     "data": {
      "application/vnd.jupyter.widget-view+json": {
       "model_id": "1126748f9e8949cc9b0da0bc6d925c49",
       "version_major": 2,
       "version_minor": 0
      },
      "text/plain": [
       "Validation: 0it [00:00, ?it/s]"
      ]
     },
     "metadata": {},
     "output_type": "display_data"
    },
    {
     "data": {
      "application/vnd.jupyter.widget-view+json": {
       "model_id": "416e3c667605476f8e0719d84009ccc2",
       "version_major": 2,
       "version_minor": 0
      },
      "text/plain": [
       "Validation: 0it [00:00, ?it/s]"
      ]
     },
     "metadata": {},
     "output_type": "display_data"
    },
    {
     "data": {
      "application/vnd.jupyter.widget-view+json": {
       "model_id": "6f90794d46094f6992d52e4a139de670",
       "version_major": 2,
       "version_minor": 0
      },
      "text/plain": [
       "Validation: 0it [00:00, ?it/s]"
      ]
     },
     "metadata": {},
     "output_type": "display_data"
    },
    {
     "name": "stderr",
     "output_type": "stream",
     "text": [
      "`Trainer.fit` stopped: `max_epochs=5` reached.\n"
     ]
    }
   ],
   "source": [
    "trainer.fit(model_3channels, train_data_loader, val_data_loader)"
   ]
  },
  {
   "cell_type": "markdown",
   "metadata": {
    "collapsed": false,
    "jupyter": {
     "outputs_hidden": false
    }
   },
   "source": [
    "![](logs_img/Densenet3channels_focal/Dense3channelsFocal.png)"
   ]
  },
  {
   "cell_type": "markdown",
   "metadata": {
    "collapsed": false,
    "jupyter": {
     "outputs_hidden": false
    }
   },
   "source": [
    "![](logs_img/Densenet3channels_focal/f1_Dense3channelsFocal.png)"
   ]
  },
  {
   "cell_type": "markdown",
   "metadata": {
    "collapsed": false,
    "jupyter": {
     "outputs_hidden": false
    }
   },
   "source": [
    "**The model of Densenet201 with focal loss on one channel (brain window) has better performance than 3 channels**"
   ]
  },
  {
   "cell_type": "markdown",
   "metadata": {
    "collapsed": false,
    "jupyter": {
     "outputs_hidden": false
    }
   },
   "source": [
    "#### 9.1.4 The Winner Model <a id=\"The-Winner-Model\"> </a>\n"
   ]
  },
  {
   "cell_type": "markdown",
   "metadata": {
    "collapsed": false,
    "jupyter": {
     "outputs_hidden": false
    }
   },
   "source": [
    "![](logs_img/all.png)\n",
    "![](logs_img/labels.png)"
   ]
  },
  {
   "cell_type": "markdown",
   "metadata": {
    "collapsed": false,
    "jupyter": {
     "outputs_hidden": false
    }
   },
   "source": [
    "**As we can see the winner model is Densenet201 with FocalLoss on one channel**"
   ]
  },
  {
   "cell_type": "markdown",
   "metadata": {
    "collapsed": false,
    "jupyter": {
     "outputs_hidden": false
    }
   },
   "source": [
    "### 9.2 Evaluation  <a id=\"Evaluation\"></a>\n"
   ]
  },
  {
   "cell_type": "markdown",
   "metadata": {
    "collapsed": false,
    "jupyter": {
     "outputs_hidden": false
    }
   },
   "source": [
    "Due to the Densenet201 model with Focal Loss has the best performance, we will use it for evaluation."
   ]
  },
  {
   "cell_type": "code",
   "execution_count": 104,
   "metadata": {
    "ExecuteTime": {
     "end_time": "2023-07-26T08:59:36.514441878Z",
     "start_time": "2023-07-26T08:59:35.873445104Z"
    },
    "collapsed": false,
    "jupyter": {
     "outputs_hidden": false
    }
   },
   "outputs": [],
   "source": [
    "from monai.networks.nets import DenseNet201\n",
    "engine =  DenseNet201(spatial_dims = config['model']['spatial_dims'],\n",
    "                      in_channels = config['model']['in_channels'],\n",
    "                      out_channels = config['model']['num_classes'],\n",
    "                      pretrained=True\n",
    "                     )"
   ]
  },
  {
   "cell_type": "code",
   "execution_count": 105,
   "metadata": {
    "ExecuteTime": {
     "end_time": "2023-07-26T08:59:38.764725204Z",
     "start_time": "2023-07-26T08:59:38.762599767Z"
    },
    "collapsed": false,
    "jupyter": {
     "outputs_hidden": false
    }
   },
   "outputs": [],
   "source": [
    "model = HemorrhageModel(engine = engine,\n",
    "                       loss=focal_loss,\n",
    "                       lr=config['optimizer']['lr'],\n",
    "                       num_classes = config['model']['num_classes']\n",
    "                       )"
   ]
  },
  {
   "cell_type": "code",
   "execution_count": 117,
   "metadata": {
    "ExecuteTime": {
     "end_time": "2023-07-26T09:22:31.068856892Z",
     "start_time": "2023-07-26T09:22:30.592184177Z"
    },
    "collapsed": false,
    "jupyter": {
     "outputs_hidden": false
    },
    "scrolled": true
   },
   "outputs": [
    {
     "data": {
      "text/plain": [
       "HemorrhageModel(\n",
       "  (engine): DenseNet201(\n",
       "    (features): Sequential(\n",
       "      (conv0): Conv2d(1, 64, kernel_size=(7, 7), stride=(2, 2), padding=(3, 3), bias=False)\n",
       "      (norm0): BatchNorm2d(64, eps=1e-05, momentum=0.1, affine=True, track_running_stats=True)\n",
       "      (relu0): ReLU(inplace=True)\n",
       "      (pool0): MaxPool2d(kernel_size=3, stride=2, padding=1, dilation=1, ceil_mode=False)\n",
       "      (denseblock1): _DenseBlock(\n",
       "        (denselayer1): _DenseLayer(\n",
       "          (layers): Sequential(\n",
       "            (norm1): BatchNorm2d(64, eps=1e-05, momentum=0.1, affine=True, track_running_stats=True)\n",
       "            (relu1): ReLU(inplace=True)\n",
       "            (conv1): Conv2d(64, 128, kernel_size=(1, 1), stride=(1, 1), bias=False)\n",
       "            (norm2): BatchNorm2d(128, eps=1e-05, momentum=0.1, affine=True, track_running_stats=True)\n",
       "            (relu2): ReLU(inplace=True)\n",
       "            (conv2): Conv2d(128, 32, kernel_size=(3, 3), stride=(1, 1), padding=(1, 1), bias=False)\n",
       "          )\n",
       "        )\n",
       "        (denselayer2): _DenseLayer(\n",
       "          (layers): Sequential(\n",
       "            (norm1): BatchNorm2d(96, eps=1e-05, momentum=0.1, affine=True, track_running_stats=True)\n",
       "            (relu1): ReLU(inplace=True)\n",
       "            (conv1): Conv2d(96, 128, kernel_size=(1, 1), stride=(1, 1), bias=False)\n",
       "            (norm2): BatchNorm2d(128, eps=1e-05, momentum=0.1, affine=True, track_running_stats=True)\n",
       "            (relu2): ReLU(inplace=True)\n",
       "            (conv2): Conv2d(128, 32, kernel_size=(3, 3), stride=(1, 1), padding=(1, 1), bias=False)\n",
       "          )\n",
       "        )\n",
       "        (denselayer3): _DenseLayer(\n",
       "          (layers): Sequential(\n",
       "            (norm1): BatchNorm2d(128, eps=1e-05, momentum=0.1, affine=True, track_running_stats=True)\n",
       "            (relu1): ReLU(inplace=True)\n",
       "            (conv1): Conv2d(128, 128, kernel_size=(1, 1), stride=(1, 1), bias=False)\n",
       "            (norm2): BatchNorm2d(128, eps=1e-05, momentum=0.1, affine=True, track_running_stats=True)\n",
       "            (relu2): ReLU(inplace=True)\n",
       "            (conv2): Conv2d(128, 32, kernel_size=(3, 3), stride=(1, 1), padding=(1, 1), bias=False)\n",
       "          )\n",
       "        )\n",
       "        (denselayer4): _DenseLayer(\n",
       "          (layers): Sequential(\n",
       "            (norm1): BatchNorm2d(160, eps=1e-05, momentum=0.1, affine=True, track_running_stats=True)\n",
       "            (relu1): ReLU(inplace=True)\n",
       "            (conv1): Conv2d(160, 128, kernel_size=(1, 1), stride=(1, 1), bias=False)\n",
       "            (norm2): BatchNorm2d(128, eps=1e-05, momentum=0.1, affine=True, track_running_stats=True)\n",
       "            (relu2): ReLU(inplace=True)\n",
       "            (conv2): Conv2d(128, 32, kernel_size=(3, 3), stride=(1, 1), padding=(1, 1), bias=False)\n",
       "          )\n",
       "        )\n",
       "        (denselayer5): _DenseLayer(\n",
       "          (layers): Sequential(\n",
       "            (norm1): BatchNorm2d(192, eps=1e-05, momentum=0.1, affine=True, track_running_stats=True)\n",
       "            (relu1): ReLU(inplace=True)\n",
       "            (conv1): Conv2d(192, 128, kernel_size=(1, 1), stride=(1, 1), bias=False)\n",
       "            (norm2): BatchNorm2d(128, eps=1e-05, momentum=0.1, affine=True, track_running_stats=True)\n",
       "            (relu2): ReLU(inplace=True)\n",
       "            (conv2): Conv2d(128, 32, kernel_size=(3, 3), stride=(1, 1), padding=(1, 1), bias=False)\n",
       "          )\n",
       "        )\n",
       "        (denselayer6): _DenseLayer(\n",
       "          (layers): Sequential(\n",
       "            (norm1): BatchNorm2d(224, eps=1e-05, momentum=0.1, affine=True, track_running_stats=True)\n",
       "            (relu1): ReLU(inplace=True)\n",
       "            (conv1): Conv2d(224, 128, kernel_size=(1, 1), stride=(1, 1), bias=False)\n",
       "            (norm2): BatchNorm2d(128, eps=1e-05, momentum=0.1, affine=True, track_running_stats=True)\n",
       "            (relu2): ReLU(inplace=True)\n",
       "            (conv2): Conv2d(128, 32, kernel_size=(3, 3), stride=(1, 1), padding=(1, 1), bias=False)\n",
       "          )\n",
       "        )\n",
       "      )\n",
       "      (transition1): _Transition(\n",
       "        (norm): BatchNorm2d(256, eps=1e-05, momentum=0.1, affine=True, track_running_stats=True)\n",
       "        (relu): ReLU(inplace=True)\n",
       "        (conv): Conv2d(256, 128, kernel_size=(1, 1), stride=(1, 1), bias=False)\n",
       "        (pool): AvgPool2d(kernel_size=2, stride=2, padding=0)\n",
       "      )\n",
       "      (denseblock2): _DenseBlock(\n",
       "        (denselayer1): _DenseLayer(\n",
       "          (layers): Sequential(\n",
       "            (norm1): BatchNorm2d(128, eps=1e-05, momentum=0.1, affine=True, track_running_stats=True)\n",
       "            (relu1): ReLU(inplace=True)\n",
       "            (conv1): Conv2d(128, 128, kernel_size=(1, 1), stride=(1, 1), bias=False)\n",
       "            (norm2): BatchNorm2d(128, eps=1e-05, momentum=0.1, affine=True, track_running_stats=True)\n",
       "            (relu2): ReLU(inplace=True)\n",
       "            (conv2): Conv2d(128, 32, kernel_size=(3, 3), stride=(1, 1), padding=(1, 1), bias=False)\n",
       "          )\n",
       "        )\n",
       "        (denselayer2): _DenseLayer(\n",
       "          (layers): Sequential(\n",
       "            (norm1): BatchNorm2d(160, eps=1e-05, momentum=0.1, affine=True, track_running_stats=True)\n",
       "            (relu1): ReLU(inplace=True)\n",
       "            (conv1): Conv2d(160, 128, kernel_size=(1, 1), stride=(1, 1), bias=False)\n",
       "            (norm2): BatchNorm2d(128, eps=1e-05, momentum=0.1, affine=True, track_running_stats=True)\n",
       "            (relu2): ReLU(inplace=True)\n",
       "            (conv2): Conv2d(128, 32, kernel_size=(3, 3), stride=(1, 1), padding=(1, 1), bias=False)\n",
       "          )\n",
       "        )\n",
       "        (denselayer3): _DenseLayer(\n",
       "          (layers): Sequential(\n",
       "            (norm1): BatchNorm2d(192, eps=1e-05, momentum=0.1, affine=True, track_running_stats=True)\n",
       "            (relu1): ReLU(inplace=True)\n",
       "            (conv1): Conv2d(192, 128, kernel_size=(1, 1), stride=(1, 1), bias=False)\n",
       "            (norm2): BatchNorm2d(128, eps=1e-05, momentum=0.1, affine=True, track_running_stats=True)\n",
       "            (relu2): ReLU(inplace=True)\n",
       "            (conv2): Conv2d(128, 32, kernel_size=(3, 3), stride=(1, 1), padding=(1, 1), bias=False)\n",
       "          )\n",
       "        )\n",
       "        (denselayer4): _DenseLayer(\n",
       "          (layers): Sequential(\n",
       "            (norm1): BatchNorm2d(224, eps=1e-05, momentum=0.1, affine=True, track_running_stats=True)\n",
       "            (relu1): ReLU(inplace=True)\n",
       "            (conv1): Conv2d(224, 128, kernel_size=(1, 1), stride=(1, 1), bias=False)\n",
       "            (norm2): BatchNorm2d(128, eps=1e-05, momentum=0.1, affine=True, track_running_stats=True)\n",
       "            (relu2): ReLU(inplace=True)\n",
       "            (conv2): Conv2d(128, 32, kernel_size=(3, 3), stride=(1, 1), padding=(1, 1), bias=False)\n",
       "          )\n",
       "        )\n",
       "        (denselayer5): _DenseLayer(\n",
       "          (layers): Sequential(\n",
       "            (norm1): BatchNorm2d(256, eps=1e-05, momentum=0.1, affine=True, track_running_stats=True)\n",
       "            (relu1): ReLU(inplace=True)\n",
       "            (conv1): Conv2d(256, 128, kernel_size=(1, 1), stride=(1, 1), bias=False)\n",
       "            (norm2): BatchNorm2d(128, eps=1e-05, momentum=0.1, affine=True, track_running_stats=True)\n",
       "            (relu2): ReLU(inplace=True)\n",
       "            (conv2): Conv2d(128, 32, kernel_size=(3, 3), stride=(1, 1), padding=(1, 1), bias=False)\n",
       "          )\n",
       "        )\n",
       "        (denselayer6): _DenseLayer(\n",
       "          (layers): Sequential(\n",
       "            (norm1): BatchNorm2d(288, eps=1e-05, momentum=0.1, affine=True, track_running_stats=True)\n",
       "            (relu1): ReLU(inplace=True)\n",
       "            (conv1): Conv2d(288, 128, kernel_size=(1, 1), stride=(1, 1), bias=False)\n",
       "            (norm2): BatchNorm2d(128, eps=1e-05, momentum=0.1, affine=True, track_running_stats=True)\n",
       "            (relu2): ReLU(inplace=True)\n",
       "            (conv2): Conv2d(128, 32, kernel_size=(3, 3), stride=(1, 1), padding=(1, 1), bias=False)\n",
       "          )\n",
       "        )\n",
       "        (denselayer7): _DenseLayer(\n",
       "          (layers): Sequential(\n",
       "            (norm1): BatchNorm2d(320, eps=1e-05, momentum=0.1, affine=True, track_running_stats=True)\n",
       "            (relu1): ReLU(inplace=True)\n",
       "            (conv1): Conv2d(320, 128, kernel_size=(1, 1), stride=(1, 1), bias=False)\n",
       "            (norm2): BatchNorm2d(128, eps=1e-05, momentum=0.1, affine=True, track_running_stats=True)\n",
       "            (relu2): ReLU(inplace=True)\n",
       "            (conv2): Conv2d(128, 32, kernel_size=(3, 3), stride=(1, 1), padding=(1, 1), bias=False)\n",
       "          )\n",
       "        )\n",
       "        (denselayer8): _DenseLayer(\n",
       "          (layers): Sequential(\n",
       "            (norm1): BatchNorm2d(352, eps=1e-05, momentum=0.1, affine=True, track_running_stats=True)\n",
       "            (relu1): ReLU(inplace=True)\n",
       "            (conv1): Conv2d(352, 128, kernel_size=(1, 1), stride=(1, 1), bias=False)\n",
       "            (norm2): BatchNorm2d(128, eps=1e-05, momentum=0.1, affine=True, track_running_stats=True)\n",
       "            (relu2): ReLU(inplace=True)\n",
       "            (conv2): Conv2d(128, 32, kernel_size=(3, 3), stride=(1, 1), padding=(1, 1), bias=False)\n",
       "          )\n",
       "        )\n",
       "        (denselayer9): _DenseLayer(\n",
       "          (layers): Sequential(\n",
       "            (norm1): BatchNorm2d(384, eps=1e-05, momentum=0.1, affine=True, track_running_stats=True)\n",
       "            (relu1): ReLU(inplace=True)\n",
       "            (conv1): Conv2d(384, 128, kernel_size=(1, 1), stride=(1, 1), bias=False)\n",
       "            (norm2): BatchNorm2d(128, eps=1e-05, momentum=0.1, affine=True, track_running_stats=True)\n",
       "            (relu2): ReLU(inplace=True)\n",
       "            (conv2): Conv2d(128, 32, kernel_size=(3, 3), stride=(1, 1), padding=(1, 1), bias=False)\n",
       "          )\n",
       "        )\n",
       "        (denselayer10): _DenseLayer(\n",
       "          (layers): Sequential(\n",
       "            (norm1): BatchNorm2d(416, eps=1e-05, momentum=0.1, affine=True, track_running_stats=True)\n",
       "            (relu1): ReLU(inplace=True)\n",
       "            (conv1): Conv2d(416, 128, kernel_size=(1, 1), stride=(1, 1), bias=False)\n",
       "            (norm2): BatchNorm2d(128, eps=1e-05, momentum=0.1, affine=True, track_running_stats=True)\n",
       "            (relu2): ReLU(inplace=True)\n",
       "            (conv2): Conv2d(128, 32, kernel_size=(3, 3), stride=(1, 1), padding=(1, 1), bias=False)\n",
       "          )\n",
       "        )\n",
       "        (denselayer11): _DenseLayer(\n",
       "          (layers): Sequential(\n",
       "            (norm1): BatchNorm2d(448, eps=1e-05, momentum=0.1, affine=True, track_running_stats=True)\n",
       "            (relu1): ReLU(inplace=True)\n",
       "            (conv1): Conv2d(448, 128, kernel_size=(1, 1), stride=(1, 1), bias=False)\n",
       "            (norm2): BatchNorm2d(128, eps=1e-05, momentum=0.1, affine=True, track_running_stats=True)\n",
       "            (relu2): ReLU(inplace=True)\n",
       "            (conv2): Conv2d(128, 32, kernel_size=(3, 3), stride=(1, 1), padding=(1, 1), bias=False)\n",
       "          )\n",
       "        )\n",
       "        (denselayer12): _DenseLayer(\n",
       "          (layers): Sequential(\n",
       "            (norm1): BatchNorm2d(480, eps=1e-05, momentum=0.1, affine=True, track_running_stats=True)\n",
       "            (relu1): ReLU(inplace=True)\n",
       "            (conv1): Conv2d(480, 128, kernel_size=(1, 1), stride=(1, 1), bias=False)\n",
       "            (norm2): BatchNorm2d(128, eps=1e-05, momentum=0.1, affine=True, track_running_stats=True)\n",
       "            (relu2): ReLU(inplace=True)\n",
       "            (conv2): Conv2d(128, 32, kernel_size=(3, 3), stride=(1, 1), padding=(1, 1), bias=False)\n",
       "          )\n",
       "        )\n",
       "      )\n",
       "      (transition2): _Transition(\n",
       "        (norm): BatchNorm2d(512, eps=1e-05, momentum=0.1, affine=True, track_running_stats=True)\n",
       "        (relu): ReLU(inplace=True)\n",
       "        (conv): Conv2d(512, 256, kernel_size=(1, 1), stride=(1, 1), bias=False)\n",
       "        (pool): AvgPool2d(kernel_size=2, stride=2, padding=0)\n",
       "      )\n",
       "      (denseblock3): _DenseBlock(\n",
       "        (denselayer1): _DenseLayer(\n",
       "          (layers): Sequential(\n",
       "            (norm1): BatchNorm2d(256, eps=1e-05, momentum=0.1, affine=True, track_running_stats=True)\n",
       "            (relu1): ReLU(inplace=True)\n",
       "            (conv1): Conv2d(256, 128, kernel_size=(1, 1), stride=(1, 1), bias=False)\n",
       "            (norm2): BatchNorm2d(128, eps=1e-05, momentum=0.1, affine=True, track_running_stats=True)\n",
       "            (relu2): ReLU(inplace=True)\n",
       "            (conv2): Conv2d(128, 32, kernel_size=(3, 3), stride=(1, 1), padding=(1, 1), bias=False)\n",
       "          )\n",
       "        )\n",
       "        (denselayer2): _DenseLayer(\n",
       "          (layers): Sequential(\n",
       "            (norm1): BatchNorm2d(288, eps=1e-05, momentum=0.1, affine=True, track_running_stats=True)\n",
       "            (relu1): ReLU(inplace=True)\n",
       "            (conv1): Conv2d(288, 128, kernel_size=(1, 1), stride=(1, 1), bias=False)\n",
       "            (norm2): BatchNorm2d(128, eps=1e-05, momentum=0.1, affine=True, track_running_stats=True)\n",
       "            (relu2): ReLU(inplace=True)\n",
       "            (conv2): Conv2d(128, 32, kernel_size=(3, 3), stride=(1, 1), padding=(1, 1), bias=False)\n",
       "          )\n",
       "        )\n",
       "        (denselayer3): _DenseLayer(\n",
       "          (layers): Sequential(\n",
       "            (norm1): BatchNorm2d(320, eps=1e-05, momentum=0.1, affine=True, track_running_stats=True)\n",
       "            (relu1): ReLU(inplace=True)\n",
       "            (conv1): Conv2d(320, 128, kernel_size=(1, 1), stride=(1, 1), bias=False)\n",
       "            (norm2): BatchNorm2d(128, eps=1e-05, momentum=0.1, affine=True, track_running_stats=True)\n",
       "            (relu2): ReLU(inplace=True)\n",
       "            (conv2): Conv2d(128, 32, kernel_size=(3, 3), stride=(1, 1), padding=(1, 1), bias=False)\n",
       "          )\n",
       "        )\n",
       "        (denselayer4): _DenseLayer(\n",
       "          (layers): Sequential(\n",
       "            (norm1): BatchNorm2d(352, eps=1e-05, momentum=0.1, affine=True, track_running_stats=True)\n",
       "            (relu1): ReLU(inplace=True)\n",
       "            (conv1): Conv2d(352, 128, kernel_size=(1, 1), stride=(1, 1), bias=False)\n",
       "            (norm2): BatchNorm2d(128, eps=1e-05, momentum=0.1, affine=True, track_running_stats=True)\n",
       "            (relu2): ReLU(inplace=True)\n",
       "            (conv2): Conv2d(128, 32, kernel_size=(3, 3), stride=(1, 1), padding=(1, 1), bias=False)\n",
       "          )\n",
       "        )\n",
       "        (denselayer5): _DenseLayer(\n",
       "          (layers): Sequential(\n",
       "            (norm1): BatchNorm2d(384, eps=1e-05, momentum=0.1, affine=True, track_running_stats=True)\n",
       "            (relu1): ReLU(inplace=True)\n",
       "            (conv1): Conv2d(384, 128, kernel_size=(1, 1), stride=(1, 1), bias=False)\n",
       "            (norm2): BatchNorm2d(128, eps=1e-05, momentum=0.1, affine=True, track_running_stats=True)\n",
       "            (relu2): ReLU(inplace=True)\n",
       "            (conv2): Conv2d(128, 32, kernel_size=(3, 3), stride=(1, 1), padding=(1, 1), bias=False)\n",
       "          )\n",
       "        )\n",
       "        (denselayer6): _DenseLayer(\n",
       "          (layers): Sequential(\n",
       "            (norm1): BatchNorm2d(416, eps=1e-05, momentum=0.1, affine=True, track_running_stats=True)\n",
       "            (relu1): ReLU(inplace=True)\n",
       "            (conv1): Conv2d(416, 128, kernel_size=(1, 1), stride=(1, 1), bias=False)\n",
       "            (norm2): BatchNorm2d(128, eps=1e-05, momentum=0.1, affine=True, track_running_stats=True)\n",
       "            (relu2): ReLU(inplace=True)\n",
       "            (conv2): Conv2d(128, 32, kernel_size=(3, 3), stride=(1, 1), padding=(1, 1), bias=False)\n",
       "          )\n",
       "        )\n",
       "        (denselayer7): _DenseLayer(\n",
       "          (layers): Sequential(\n",
       "            (norm1): BatchNorm2d(448, eps=1e-05, momentum=0.1, affine=True, track_running_stats=True)\n",
       "            (relu1): ReLU(inplace=True)\n",
       "            (conv1): Conv2d(448, 128, kernel_size=(1, 1), stride=(1, 1), bias=False)\n",
       "            (norm2): BatchNorm2d(128, eps=1e-05, momentum=0.1, affine=True, track_running_stats=True)\n",
       "            (relu2): ReLU(inplace=True)\n",
       "            (conv2): Conv2d(128, 32, kernel_size=(3, 3), stride=(1, 1), padding=(1, 1), bias=False)\n",
       "          )\n",
       "        )\n",
       "        (denselayer8): _DenseLayer(\n",
       "          (layers): Sequential(\n",
       "            (norm1): BatchNorm2d(480, eps=1e-05, momentum=0.1, affine=True, track_running_stats=True)\n",
       "            (relu1): ReLU(inplace=True)\n",
       "            (conv1): Conv2d(480, 128, kernel_size=(1, 1), stride=(1, 1), bias=False)\n",
       "            (norm2): BatchNorm2d(128, eps=1e-05, momentum=0.1, affine=True, track_running_stats=True)\n",
       "            (relu2): ReLU(inplace=True)\n",
       "            (conv2): Conv2d(128, 32, kernel_size=(3, 3), stride=(1, 1), padding=(1, 1), bias=False)\n",
       "          )\n",
       "        )\n",
       "        (denselayer9): _DenseLayer(\n",
       "          (layers): Sequential(\n",
       "            (norm1): BatchNorm2d(512, eps=1e-05, momentum=0.1, affine=True, track_running_stats=True)\n",
       "            (relu1): ReLU(inplace=True)\n",
       "            (conv1): Conv2d(512, 128, kernel_size=(1, 1), stride=(1, 1), bias=False)\n",
       "            (norm2): BatchNorm2d(128, eps=1e-05, momentum=0.1, affine=True, track_running_stats=True)\n",
       "            (relu2): ReLU(inplace=True)\n",
       "            (conv2): Conv2d(128, 32, kernel_size=(3, 3), stride=(1, 1), padding=(1, 1), bias=False)\n",
       "          )\n",
       "        )\n",
       "        (denselayer10): _DenseLayer(\n",
       "          (layers): Sequential(\n",
       "            (norm1): BatchNorm2d(544, eps=1e-05, momentum=0.1, affine=True, track_running_stats=True)\n",
       "            (relu1): ReLU(inplace=True)\n",
       "            (conv1): Conv2d(544, 128, kernel_size=(1, 1), stride=(1, 1), bias=False)\n",
       "            (norm2): BatchNorm2d(128, eps=1e-05, momentum=0.1, affine=True, track_running_stats=True)\n",
       "            (relu2): ReLU(inplace=True)\n",
       "            (conv2): Conv2d(128, 32, kernel_size=(3, 3), stride=(1, 1), padding=(1, 1), bias=False)\n",
       "          )\n",
       "        )\n",
       "        (denselayer11): _DenseLayer(\n",
       "          (layers): Sequential(\n",
       "            (norm1): BatchNorm2d(576, eps=1e-05, momentum=0.1, affine=True, track_running_stats=True)\n",
       "            (relu1): ReLU(inplace=True)\n",
       "            (conv1): Conv2d(576, 128, kernel_size=(1, 1), stride=(1, 1), bias=False)\n",
       "            (norm2): BatchNorm2d(128, eps=1e-05, momentum=0.1, affine=True, track_running_stats=True)\n",
       "            (relu2): ReLU(inplace=True)\n",
       "            (conv2): Conv2d(128, 32, kernel_size=(3, 3), stride=(1, 1), padding=(1, 1), bias=False)\n",
       "          )\n",
       "        )\n",
       "        (denselayer12): _DenseLayer(\n",
       "          (layers): Sequential(\n",
       "            (norm1): BatchNorm2d(608, eps=1e-05, momentum=0.1, affine=True, track_running_stats=True)\n",
       "            (relu1): ReLU(inplace=True)\n",
       "            (conv1): Conv2d(608, 128, kernel_size=(1, 1), stride=(1, 1), bias=False)\n",
       "            (norm2): BatchNorm2d(128, eps=1e-05, momentum=0.1, affine=True, track_running_stats=True)\n",
       "            (relu2): ReLU(inplace=True)\n",
       "            (conv2): Conv2d(128, 32, kernel_size=(3, 3), stride=(1, 1), padding=(1, 1), bias=False)\n",
       "          )\n",
       "        )\n",
       "        (denselayer13): _DenseLayer(\n",
       "          (layers): Sequential(\n",
       "            (norm1): BatchNorm2d(640, eps=1e-05, momentum=0.1, affine=True, track_running_stats=True)\n",
       "            (relu1): ReLU(inplace=True)\n",
       "            (conv1): Conv2d(640, 128, kernel_size=(1, 1), stride=(1, 1), bias=False)\n",
       "            (norm2): BatchNorm2d(128, eps=1e-05, momentum=0.1, affine=True, track_running_stats=True)\n",
       "            (relu2): ReLU(inplace=True)\n",
       "            (conv2): Conv2d(128, 32, kernel_size=(3, 3), stride=(1, 1), padding=(1, 1), bias=False)\n",
       "          )\n",
       "        )\n",
       "        (denselayer14): _DenseLayer(\n",
       "          (layers): Sequential(\n",
       "            (norm1): BatchNorm2d(672, eps=1e-05, momentum=0.1, affine=True, track_running_stats=True)\n",
       "            (relu1): ReLU(inplace=True)\n",
       "            (conv1): Conv2d(672, 128, kernel_size=(1, 1), stride=(1, 1), bias=False)\n",
       "            (norm2): BatchNorm2d(128, eps=1e-05, momentum=0.1, affine=True, track_running_stats=True)\n",
       "            (relu2): ReLU(inplace=True)\n",
       "            (conv2): Conv2d(128, 32, kernel_size=(3, 3), stride=(1, 1), padding=(1, 1), bias=False)\n",
       "          )\n",
       "        )\n",
       "        (denselayer15): _DenseLayer(\n",
       "          (layers): Sequential(\n",
       "            (norm1): BatchNorm2d(704, eps=1e-05, momentum=0.1, affine=True, track_running_stats=True)\n",
       "            (relu1): ReLU(inplace=True)\n",
       "            (conv1): Conv2d(704, 128, kernel_size=(1, 1), stride=(1, 1), bias=False)\n",
       "            (norm2): BatchNorm2d(128, eps=1e-05, momentum=0.1, affine=True, track_running_stats=True)\n",
       "            (relu2): ReLU(inplace=True)\n",
       "            (conv2): Conv2d(128, 32, kernel_size=(3, 3), stride=(1, 1), padding=(1, 1), bias=False)\n",
       "          )\n",
       "        )\n",
       "        (denselayer16): _DenseLayer(\n",
       "          (layers): Sequential(\n",
       "            (norm1): BatchNorm2d(736, eps=1e-05, momentum=0.1, affine=True, track_running_stats=True)\n",
       "            (relu1): ReLU(inplace=True)\n",
       "            (conv1): Conv2d(736, 128, kernel_size=(1, 1), stride=(1, 1), bias=False)\n",
       "            (norm2): BatchNorm2d(128, eps=1e-05, momentum=0.1, affine=True, track_running_stats=True)\n",
       "            (relu2): ReLU(inplace=True)\n",
       "            (conv2): Conv2d(128, 32, kernel_size=(3, 3), stride=(1, 1), padding=(1, 1), bias=False)\n",
       "          )\n",
       "        )\n",
       "        (denselayer17): _DenseLayer(\n",
       "          (layers): Sequential(\n",
       "            (norm1): BatchNorm2d(768, eps=1e-05, momentum=0.1, affine=True, track_running_stats=True)\n",
       "            (relu1): ReLU(inplace=True)\n",
       "            (conv1): Conv2d(768, 128, kernel_size=(1, 1), stride=(1, 1), bias=False)\n",
       "            (norm2): BatchNorm2d(128, eps=1e-05, momentum=0.1, affine=True, track_running_stats=True)\n",
       "            (relu2): ReLU(inplace=True)\n",
       "            (conv2): Conv2d(128, 32, kernel_size=(3, 3), stride=(1, 1), padding=(1, 1), bias=False)\n",
       "          )\n",
       "        )\n",
       "        (denselayer18): _DenseLayer(\n",
       "          (layers): Sequential(\n",
       "            (norm1): BatchNorm2d(800, eps=1e-05, momentum=0.1, affine=True, track_running_stats=True)\n",
       "            (relu1): ReLU(inplace=True)\n",
       "            (conv1): Conv2d(800, 128, kernel_size=(1, 1), stride=(1, 1), bias=False)\n",
       "            (norm2): BatchNorm2d(128, eps=1e-05, momentum=0.1, affine=True, track_running_stats=True)\n",
       "            (relu2): ReLU(inplace=True)\n",
       "            (conv2): Conv2d(128, 32, kernel_size=(3, 3), stride=(1, 1), padding=(1, 1), bias=False)\n",
       "          )\n",
       "        )\n",
       "        (denselayer19): _DenseLayer(\n",
       "          (layers): Sequential(\n",
       "            (norm1): BatchNorm2d(832, eps=1e-05, momentum=0.1, affine=True, track_running_stats=True)\n",
       "            (relu1): ReLU(inplace=True)\n",
       "            (conv1): Conv2d(832, 128, kernel_size=(1, 1), stride=(1, 1), bias=False)\n",
       "            (norm2): BatchNorm2d(128, eps=1e-05, momentum=0.1, affine=True, track_running_stats=True)\n",
       "            (relu2): ReLU(inplace=True)\n",
       "            (conv2): Conv2d(128, 32, kernel_size=(3, 3), stride=(1, 1), padding=(1, 1), bias=False)\n",
       "          )\n",
       "        )\n",
       "        (denselayer20): _DenseLayer(\n",
       "          (layers): Sequential(\n",
       "            (norm1): BatchNorm2d(864, eps=1e-05, momentum=0.1, affine=True, track_running_stats=True)\n",
       "            (relu1): ReLU(inplace=True)\n",
       "            (conv1): Conv2d(864, 128, kernel_size=(1, 1), stride=(1, 1), bias=False)\n",
       "            (norm2): BatchNorm2d(128, eps=1e-05, momentum=0.1, affine=True, track_running_stats=True)\n",
       "            (relu2): ReLU(inplace=True)\n",
       "            (conv2): Conv2d(128, 32, kernel_size=(3, 3), stride=(1, 1), padding=(1, 1), bias=False)\n",
       "          )\n",
       "        )\n",
       "        (denselayer21): _DenseLayer(\n",
       "          (layers): Sequential(\n",
       "            (norm1): BatchNorm2d(896, eps=1e-05, momentum=0.1, affine=True, track_running_stats=True)\n",
       "            (relu1): ReLU(inplace=True)\n",
       "            (conv1): Conv2d(896, 128, kernel_size=(1, 1), stride=(1, 1), bias=False)\n",
       "            (norm2): BatchNorm2d(128, eps=1e-05, momentum=0.1, affine=True, track_running_stats=True)\n",
       "            (relu2): ReLU(inplace=True)\n",
       "            (conv2): Conv2d(128, 32, kernel_size=(3, 3), stride=(1, 1), padding=(1, 1), bias=False)\n",
       "          )\n",
       "        )\n",
       "        (denselayer22): _DenseLayer(\n",
       "          (layers): Sequential(\n",
       "            (norm1): BatchNorm2d(928, eps=1e-05, momentum=0.1, affine=True, track_running_stats=True)\n",
       "            (relu1): ReLU(inplace=True)\n",
       "            (conv1): Conv2d(928, 128, kernel_size=(1, 1), stride=(1, 1), bias=False)\n",
       "            (norm2): BatchNorm2d(128, eps=1e-05, momentum=0.1, affine=True, track_running_stats=True)\n",
       "            (relu2): ReLU(inplace=True)\n",
       "            (conv2): Conv2d(128, 32, kernel_size=(3, 3), stride=(1, 1), padding=(1, 1), bias=False)\n",
       "          )\n",
       "        )\n",
       "        (denselayer23): _DenseLayer(\n",
       "          (layers): Sequential(\n",
       "            (norm1): BatchNorm2d(960, eps=1e-05, momentum=0.1, affine=True, track_running_stats=True)\n",
       "            (relu1): ReLU(inplace=True)\n",
       "            (conv1): Conv2d(960, 128, kernel_size=(1, 1), stride=(1, 1), bias=False)\n",
       "            (norm2): BatchNorm2d(128, eps=1e-05, momentum=0.1, affine=True, track_running_stats=True)\n",
       "            (relu2): ReLU(inplace=True)\n",
       "            (conv2): Conv2d(128, 32, kernel_size=(3, 3), stride=(1, 1), padding=(1, 1), bias=False)\n",
       "          )\n",
       "        )\n",
       "        (denselayer24): _DenseLayer(\n",
       "          (layers): Sequential(\n",
       "            (norm1): BatchNorm2d(992, eps=1e-05, momentum=0.1, affine=True, track_running_stats=True)\n",
       "            (relu1): ReLU(inplace=True)\n",
       "            (conv1): Conv2d(992, 128, kernel_size=(1, 1), stride=(1, 1), bias=False)\n",
       "            (norm2): BatchNorm2d(128, eps=1e-05, momentum=0.1, affine=True, track_running_stats=True)\n",
       "            (relu2): ReLU(inplace=True)\n",
       "            (conv2): Conv2d(128, 32, kernel_size=(3, 3), stride=(1, 1), padding=(1, 1), bias=False)\n",
       "          )\n",
       "        )\n",
       "        (denselayer25): _DenseLayer(\n",
       "          (layers): Sequential(\n",
       "            (norm1): BatchNorm2d(1024, eps=1e-05, momentum=0.1, affine=True, track_running_stats=True)\n",
       "            (relu1): ReLU(inplace=True)\n",
       "            (conv1): Conv2d(1024, 128, kernel_size=(1, 1), stride=(1, 1), bias=False)\n",
       "            (norm2): BatchNorm2d(128, eps=1e-05, momentum=0.1, affine=True, track_running_stats=True)\n",
       "            (relu2): ReLU(inplace=True)\n",
       "            (conv2): Conv2d(128, 32, kernel_size=(3, 3), stride=(1, 1), padding=(1, 1), bias=False)\n",
       "          )\n",
       "        )\n",
       "        (denselayer26): _DenseLayer(\n",
       "          (layers): Sequential(\n",
       "            (norm1): BatchNorm2d(1056, eps=1e-05, momentum=0.1, affine=True, track_running_stats=True)\n",
       "            (relu1): ReLU(inplace=True)\n",
       "            (conv1): Conv2d(1056, 128, kernel_size=(1, 1), stride=(1, 1), bias=False)\n",
       "            (norm2): BatchNorm2d(128, eps=1e-05, momentum=0.1, affine=True, track_running_stats=True)\n",
       "            (relu2): ReLU(inplace=True)\n",
       "            (conv2): Conv2d(128, 32, kernel_size=(3, 3), stride=(1, 1), padding=(1, 1), bias=False)\n",
       "          )\n",
       "        )\n",
       "        (denselayer27): _DenseLayer(\n",
       "          (layers): Sequential(\n",
       "            (norm1): BatchNorm2d(1088, eps=1e-05, momentum=0.1, affine=True, track_running_stats=True)\n",
       "            (relu1): ReLU(inplace=True)\n",
       "            (conv1): Conv2d(1088, 128, kernel_size=(1, 1), stride=(1, 1), bias=False)\n",
       "            (norm2): BatchNorm2d(128, eps=1e-05, momentum=0.1, affine=True, track_running_stats=True)\n",
       "            (relu2): ReLU(inplace=True)\n",
       "            (conv2): Conv2d(128, 32, kernel_size=(3, 3), stride=(1, 1), padding=(1, 1), bias=False)\n",
       "          )\n",
       "        )\n",
       "        (denselayer28): _DenseLayer(\n",
       "          (layers): Sequential(\n",
       "            (norm1): BatchNorm2d(1120, eps=1e-05, momentum=0.1, affine=True, track_running_stats=True)\n",
       "            (relu1): ReLU(inplace=True)\n",
       "            (conv1): Conv2d(1120, 128, kernel_size=(1, 1), stride=(1, 1), bias=False)\n",
       "            (norm2): BatchNorm2d(128, eps=1e-05, momentum=0.1, affine=True, track_running_stats=True)\n",
       "            (relu2): ReLU(inplace=True)\n",
       "            (conv2): Conv2d(128, 32, kernel_size=(3, 3), stride=(1, 1), padding=(1, 1), bias=False)\n",
       "          )\n",
       "        )\n",
       "        (denselayer29): _DenseLayer(\n",
       "          (layers): Sequential(\n",
       "            (norm1): BatchNorm2d(1152, eps=1e-05, momentum=0.1, affine=True, track_running_stats=True)\n",
       "            (relu1): ReLU(inplace=True)\n",
       "            (conv1): Conv2d(1152, 128, kernel_size=(1, 1), stride=(1, 1), bias=False)\n",
       "            (norm2): BatchNorm2d(128, eps=1e-05, momentum=0.1, affine=True, track_running_stats=True)\n",
       "            (relu2): ReLU(inplace=True)\n",
       "            (conv2): Conv2d(128, 32, kernel_size=(3, 3), stride=(1, 1), padding=(1, 1), bias=False)\n",
       "          )\n",
       "        )\n",
       "        (denselayer30): _DenseLayer(\n",
       "          (layers): Sequential(\n",
       "            (norm1): BatchNorm2d(1184, eps=1e-05, momentum=0.1, affine=True, track_running_stats=True)\n",
       "            (relu1): ReLU(inplace=True)\n",
       "            (conv1): Conv2d(1184, 128, kernel_size=(1, 1), stride=(1, 1), bias=False)\n",
       "            (norm2): BatchNorm2d(128, eps=1e-05, momentum=0.1, affine=True, track_running_stats=True)\n",
       "            (relu2): ReLU(inplace=True)\n",
       "            (conv2): Conv2d(128, 32, kernel_size=(3, 3), stride=(1, 1), padding=(1, 1), bias=False)\n",
       "          )\n",
       "        )\n",
       "        (denselayer31): _DenseLayer(\n",
       "          (layers): Sequential(\n",
       "            (norm1): BatchNorm2d(1216, eps=1e-05, momentum=0.1, affine=True, track_running_stats=True)\n",
       "            (relu1): ReLU(inplace=True)\n",
       "            (conv1): Conv2d(1216, 128, kernel_size=(1, 1), stride=(1, 1), bias=False)\n",
       "            (norm2): BatchNorm2d(128, eps=1e-05, momentum=0.1, affine=True, track_running_stats=True)\n",
       "            (relu2): ReLU(inplace=True)\n",
       "            (conv2): Conv2d(128, 32, kernel_size=(3, 3), stride=(1, 1), padding=(1, 1), bias=False)\n",
       "          )\n",
       "        )\n",
       "        (denselayer32): _DenseLayer(\n",
       "          (layers): Sequential(\n",
       "            (norm1): BatchNorm2d(1248, eps=1e-05, momentum=0.1, affine=True, track_running_stats=True)\n",
       "            (relu1): ReLU(inplace=True)\n",
       "            (conv1): Conv2d(1248, 128, kernel_size=(1, 1), stride=(1, 1), bias=False)\n",
       "            (norm2): BatchNorm2d(128, eps=1e-05, momentum=0.1, affine=True, track_running_stats=True)\n",
       "            (relu2): ReLU(inplace=True)\n",
       "            (conv2): Conv2d(128, 32, kernel_size=(3, 3), stride=(1, 1), padding=(1, 1), bias=False)\n",
       "          )\n",
       "        )\n",
       "        (denselayer33): _DenseLayer(\n",
       "          (layers): Sequential(\n",
       "            (norm1): BatchNorm2d(1280, eps=1e-05, momentum=0.1, affine=True, track_running_stats=True)\n",
       "            (relu1): ReLU(inplace=True)\n",
       "            (conv1): Conv2d(1280, 128, kernel_size=(1, 1), stride=(1, 1), bias=False)\n",
       "            (norm2): BatchNorm2d(128, eps=1e-05, momentum=0.1, affine=True, track_running_stats=True)\n",
       "            (relu2): ReLU(inplace=True)\n",
       "            (conv2): Conv2d(128, 32, kernel_size=(3, 3), stride=(1, 1), padding=(1, 1), bias=False)\n",
       "          )\n",
       "        )\n",
       "        (denselayer34): _DenseLayer(\n",
       "          (layers): Sequential(\n",
       "            (norm1): BatchNorm2d(1312, eps=1e-05, momentum=0.1, affine=True, track_running_stats=True)\n",
       "            (relu1): ReLU(inplace=True)\n",
       "            (conv1): Conv2d(1312, 128, kernel_size=(1, 1), stride=(1, 1), bias=False)\n",
       "            (norm2): BatchNorm2d(128, eps=1e-05, momentum=0.1, affine=True, track_running_stats=True)\n",
       "            (relu2): ReLU(inplace=True)\n",
       "            (conv2): Conv2d(128, 32, kernel_size=(3, 3), stride=(1, 1), padding=(1, 1), bias=False)\n",
       "          )\n",
       "        )\n",
       "        (denselayer35): _DenseLayer(\n",
       "          (layers): Sequential(\n",
       "            (norm1): BatchNorm2d(1344, eps=1e-05, momentum=0.1, affine=True, track_running_stats=True)\n",
       "            (relu1): ReLU(inplace=True)\n",
       "            (conv1): Conv2d(1344, 128, kernel_size=(1, 1), stride=(1, 1), bias=False)\n",
       "            (norm2): BatchNorm2d(128, eps=1e-05, momentum=0.1, affine=True, track_running_stats=True)\n",
       "            (relu2): ReLU(inplace=True)\n",
       "            (conv2): Conv2d(128, 32, kernel_size=(3, 3), stride=(1, 1), padding=(1, 1), bias=False)\n",
       "          )\n",
       "        )\n",
       "        (denselayer36): _DenseLayer(\n",
       "          (layers): Sequential(\n",
       "            (norm1): BatchNorm2d(1376, eps=1e-05, momentum=0.1, affine=True, track_running_stats=True)\n",
       "            (relu1): ReLU(inplace=True)\n",
       "            (conv1): Conv2d(1376, 128, kernel_size=(1, 1), stride=(1, 1), bias=False)\n",
       "            (norm2): BatchNorm2d(128, eps=1e-05, momentum=0.1, affine=True, track_running_stats=True)\n",
       "            (relu2): ReLU(inplace=True)\n",
       "            (conv2): Conv2d(128, 32, kernel_size=(3, 3), stride=(1, 1), padding=(1, 1), bias=False)\n",
       "          )\n",
       "        )\n",
       "        (denselayer37): _DenseLayer(\n",
       "          (layers): Sequential(\n",
       "            (norm1): BatchNorm2d(1408, eps=1e-05, momentum=0.1, affine=True, track_running_stats=True)\n",
       "            (relu1): ReLU(inplace=True)\n",
       "            (conv1): Conv2d(1408, 128, kernel_size=(1, 1), stride=(1, 1), bias=False)\n",
       "            (norm2): BatchNorm2d(128, eps=1e-05, momentum=0.1, affine=True, track_running_stats=True)\n",
       "            (relu2): ReLU(inplace=True)\n",
       "            (conv2): Conv2d(128, 32, kernel_size=(3, 3), stride=(1, 1), padding=(1, 1), bias=False)\n",
       "          )\n",
       "        )\n",
       "        (denselayer38): _DenseLayer(\n",
       "          (layers): Sequential(\n",
       "            (norm1): BatchNorm2d(1440, eps=1e-05, momentum=0.1, affine=True, track_running_stats=True)\n",
       "            (relu1): ReLU(inplace=True)\n",
       "            (conv1): Conv2d(1440, 128, kernel_size=(1, 1), stride=(1, 1), bias=False)\n",
       "            (norm2): BatchNorm2d(128, eps=1e-05, momentum=0.1, affine=True, track_running_stats=True)\n",
       "            (relu2): ReLU(inplace=True)\n",
       "            (conv2): Conv2d(128, 32, kernel_size=(3, 3), stride=(1, 1), padding=(1, 1), bias=False)\n",
       "          )\n",
       "        )\n",
       "        (denselayer39): _DenseLayer(\n",
       "          (layers): Sequential(\n",
       "            (norm1): BatchNorm2d(1472, eps=1e-05, momentum=0.1, affine=True, track_running_stats=True)\n",
       "            (relu1): ReLU(inplace=True)\n",
       "            (conv1): Conv2d(1472, 128, kernel_size=(1, 1), stride=(1, 1), bias=False)\n",
       "            (norm2): BatchNorm2d(128, eps=1e-05, momentum=0.1, affine=True, track_running_stats=True)\n",
       "            (relu2): ReLU(inplace=True)\n",
       "            (conv2): Conv2d(128, 32, kernel_size=(3, 3), stride=(1, 1), padding=(1, 1), bias=False)\n",
       "          )\n",
       "        )\n",
       "        (denselayer40): _DenseLayer(\n",
       "          (layers): Sequential(\n",
       "            (norm1): BatchNorm2d(1504, eps=1e-05, momentum=0.1, affine=True, track_running_stats=True)\n",
       "            (relu1): ReLU(inplace=True)\n",
       "            (conv1): Conv2d(1504, 128, kernel_size=(1, 1), stride=(1, 1), bias=False)\n",
       "            (norm2): BatchNorm2d(128, eps=1e-05, momentum=0.1, affine=True, track_running_stats=True)\n",
       "            (relu2): ReLU(inplace=True)\n",
       "            (conv2): Conv2d(128, 32, kernel_size=(3, 3), stride=(1, 1), padding=(1, 1), bias=False)\n",
       "          )\n",
       "        )\n",
       "        (denselayer41): _DenseLayer(\n",
       "          (layers): Sequential(\n",
       "            (norm1): BatchNorm2d(1536, eps=1e-05, momentum=0.1, affine=True, track_running_stats=True)\n",
       "            (relu1): ReLU(inplace=True)\n",
       "            (conv1): Conv2d(1536, 128, kernel_size=(1, 1), stride=(1, 1), bias=False)\n",
       "            (norm2): BatchNorm2d(128, eps=1e-05, momentum=0.1, affine=True, track_running_stats=True)\n",
       "            (relu2): ReLU(inplace=True)\n",
       "            (conv2): Conv2d(128, 32, kernel_size=(3, 3), stride=(1, 1), padding=(1, 1), bias=False)\n",
       "          )\n",
       "        )\n",
       "        (denselayer42): _DenseLayer(\n",
       "          (layers): Sequential(\n",
       "            (norm1): BatchNorm2d(1568, eps=1e-05, momentum=0.1, affine=True, track_running_stats=True)\n",
       "            (relu1): ReLU(inplace=True)\n",
       "            (conv1): Conv2d(1568, 128, kernel_size=(1, 1), stride=(1, 1), bias=False)\n",
       "            (norm2): BatchNorm2d(128, eps=1e-05, momentum=0.1, affine=True, track_running_stats=True)\n",
       "            (relu2): ReLU(inplace=True)\n",
       "            (conv2): Conv2d(128, 32, kernel_size=(3, 3), stride=(1, 1), padding=(1, 1), bias=False)\n",
       "          )\n",
       "        )\n",
       "        (denselayer43): _DenseLayer(\n",
       "          (layers): Sequential(\n",
       "            (norm1): BatchNorm2d(1600, eps=1e-05, momentum=0.1, affine=True, track_running_stats=True)\n",
       "            (relu1): ReLU(inplace=True)\n",
       "            (conv1): Conv2d(1600, 128, kernel_size=(1, 1), stride=(1, 1), bias=False)\n",
       "            (norm2): BatchNorm2d(128, eps=1e-05, momentum=0.1, affine=True, track_running_stats=True)\n",
       "            (relu2): ReLU(inplace=True)\n",
       "            (conv2): Conv2d(128, 32, kernel_size=(3, 3), stride=(1, 1), padding=(1, 1), bias=False)\n",
       "          )\n",
       "        )\n",
       "        (denselayer44): _DenseLayer(\n",
       "          (layers): Sequential(\n",
       "            (norm1): BatchNorm2d(1632, eps=1e-05, momentum=0.1, affine=True, track_running_stats=True)\n",
       "            (relu1): ReLU(inplace=True)\n",
       "            (conv1): Conv2d(1632, 128, kernel_size=(1, 1), stride=(1, 1), bias=False)\n",
       "            (norm2): BatchNorm2d(128, eps=1e-05, momentum=0.1, affine=True, track_running_stats=True)\n",
       "            (relu2): ReLU(inplace=True)\n",
       "            (conv2): Conv2d(128, 32, kernel_size=(3, 3), stride=(1, 1), padding=(1, 1), bias=False)\n",
       "          )\n",
       "        )\n",
       "        (denselayer45): _DenseLayer(\n",
       "          (layers): Sequential(\n",
       "            (norm1): BatchNorm2d(1664, eps=1e-05, momentum=0.1, affine=True, track_running_stats=True)\n",
       "            (relu1): ReLU(inplace=True)\n",
       "            (conv1): Conv2d(1664, 128, kernel_size=(1, 1), stride=(1, 1), bias=False)\n",
       "            (norm2): BatchNorm2d(128, eps=1e-05, momentum=0.1, affine=True, track_running_stats=True)\n",
       "            (relu2): ReLU(inplace=True)\n",
       "            (conv2): Conv2d(128, 32, kernel_size=(3, 3), stride=(1, 1), padding=(1, 1), bias=False)\n",
       "          )\n",
       "        )\n",
       "        (denselayer46): _DenseLayer(\n",
       "          (layers): Sequential(\n",
       "            (norm1): BatchNorm2d(1696, eps=1e-05, momentum=0.1, affine=True, track_running_stats=True)\n",
       "            (relu1): ReLU(inplace=True)\n",
       "            (conv1): Conv2d(1696, 128, kernel_size=(1, 1), stride=(1, 1), bias=False)\n",
       "            (norm2): BatchNorm2d(128, eps=1e-05, momentum=0.1, affine=True, track_running_stats=True)\n",
       "            (relu2): ReLU(inplace=True)\n",
       "            (conv2): Conv2d(128, 32, kernel_size=(3, 3), stride=(1, 1), padding=(1, 1), bias=False)\n",
       "          )\n",
       "        )\n",
       "        (denselayer47): _DenseLayer(\n",
       "          (layers): Sequential(\n",
       "            (norm1): BatchNorm2d(1728, eps=1e-05, momentum=0.1, affine=True, track_running_stats=True)\n",
       "            (relu1): ReLU(inplace=True)\n",
       "            (conv1): Conv2d(1728, 128, kernel_size=(1, 1), stride=(1, 1), bias=False)\n",
       "            (norm2): BatchNorm2d(128, eps=1e-05, momentum=0.1, affine=True, track_running_stats=True)\n",
       "            (relu2): ReLU(inplace=True)\n",
       "            (conv2): Conv2d(128, 32, kernel_size=(3, 3), stride=(1, 1), padding=(1, 1), bias=False)\n",
       "          )\n",
       "        )\n",
       "        (denselayer48): _DenseLayer(\n",
       "          (layers): Sequential(\n",
       "            (norm1): BatchNorm2d(1760, eps=1e-05, momentum=0.1, affine=True, track_running_stats=True)\n",
       "            (relu1): ReLU(inplace=True)\n",
       "            (conv1): Conv2d(1760, 128, kernel_size=(1, 1), stride=(1, 1), bias=False)\n",
       "            (norm2): BatchNorm2d(128, eps=1e-05, momentum=0.1, affine=True, track_running_stats=True)\n",
       "            (relu2): ReLU(inplace=True)\n",
       "            (conv2): Conv2d(128, 32, kernel_size=(3, 3), stride=(1, 1), padding=(1, 1), bias=False)\n",
       "          )\n",
       "        )\n",
       "      )\n",
       "      (transition3): _Transition(\n",
       "        (norm): BatchNorm2d(1792, eps=1e-05, momentum=0.1, affine=True, track_running_stats=True)\n",
       "        (relu): ReLU(inplace=True)\n",
       "        (conv): Conv2d(1792, 896, kernel_size=(1, 1), stride=(1, 1), bias=False)\n",
       "        (pool): AvgPool2d(kernel_size=2, stride=2, padding=0)\n",
       "      )\n",
       "      (denseblock4): _DenseBlock(\n",
       "        (denselayer1): _DenseLayer(\n",
       "          (layers): Sequential(\n",
       "            (norm1): BatchNorm2d(896, eps=1e-05, momentum=0.1, affine=True, track_running_stats=True)\n",
       "            (relu1): ReLU(inplace=True)\n",
       "            (conv1): Conv2d(896, 128, kernel_size=(1, 1), stride=(1, 1), bias=False)\n",
       "            (norm2): BatchNorm2d(128, eps=1e-05, momentum=0.1, affine=True, track_running_stats=True)\n",
       "            (relu2): ReLU(inplace=True)\n",
       "            (conv2): Conv2d(128, 32, kernel_size=(3, 3), stride=(1, 1), padding=(1, 1), bias=False)\n",
       "          )\n",
       "        )\n",
       "        (denselayer2): _DenseLayer(\n",
       "          (layers): Sequential(\n",
       "            (norm1): BatchNorm2d(928, eps=1e-05, momentum=0.1, affine=True, track_running_stats=True)\n",
       "            (relu1): ReLU(inplace=True)\n",
       "            (conv1): Conv2d(928, 128, kernel_size=(1, 1), stride=(1, 1), bias=False)\n",
       "            (norm2): BatchNorm2d(128, eps=1e-05, momentum=0.1, affine=True, track_running_stats=True)\n",
       "            (relu2): ReLU(inplace=True)\n",
       "            (conv2): Conv2d(128, 32, kernel_size=(3, 3), stride=(1, 1), padding=(1, 1), bias=False)\n",
       "          )\n",
       "        )\n",
       "        (denselayer3): _DenseLayer(\n",
       "          (layers): Sequential(\n",
       "            (norm1): BatchNorm2d(960, eps=1e-05, momentum=0.1, affine=True, track_running_stats=True)\n",
       "            (relu1): ReLU(inplace=True)\n",
       "            (conv1): Conv2d(960, 128, kernel_size=(1, 1), stride=(1, 1), bias=False)\n",
       "            (norm2): BatchNorm2d(128, eps=1e-05, momentum=0.1, affine=True, track_running_stats=True)\n",
       "            (relu2): ReLU(inplace=True)\n",
       "            (conv2): Conv2d(128, 32, kernel_size=(3, 3), stride=(1, 1), padding=(1, 1), bias=False)\n",
       "          )\n",
       "        )\n",
       "        (denselayer4): _DenseLayer(\n",
       "          (layers): Sequential(\n",
       "            (norm1): BatchNorm2d(992, eps=1e-05, momentum=0.1, affine=True, track_running_stats=True)\n",
       "            (relu1): ReLU(inplace=True)\n",
       "            (conv1): Conv2d(992, 128, kernel_size=(1, 1), stride=(1, 1), bias=False)\n",
       "            (norm2): BatchNorm2d(128, eps=1e-05, momentum=0.1, affine=True, track_running_stats=True)\n",
       "            (relu2): ReLU(inplace=True)\n",
       "            (conv2): Conv2d(128, 32, kernel_size=(3, 3), stride=(1, 1), padding=(1, 1), bias=False)\n",
       "          )\n",
       "        )\n",
       "        (denselayer5): _DenseLayer(\n",
       "          (layers): Sequential(\n",
       "            (norm1): BatchNorm2d(1024, eps=1e-05, momentum=0.1, affine=True, track_running_stats=True)\n",
       "            (relu1): ReLU(inplace=True)\n",
       "            (conv1): Conv2d(1024, 128, kernel_size=(1, 1), stride=(1, 1), bias=False)\n",
       "            (norm2): BatchNorm2d(128, eps=1e-05, momentum=0.1, affine=True, track_running_stats=True)\n",
       "            (relu2): ReLU(inplace=True)\n",
       "            (conv2): Conv2d(128, 32, kernel_size=(3, 3), stride=(1, 1), padding=(1, 1), bias=False)\n",
       "          )\n",
       "        )\n",
       "        (denselayer6): _DenseLayer(\n",
       "          (layers): Sequential(\n",
       "            (norm1): BatchNorm2d(1056, eps=1e-05, momentum=0.1, affine=True, track_running_stats=True)\n",
       "            (relu1): ReLU(inplace=True)\n",
       "            (conv1): Conv2d(1056, 128, kernel_size=(1, 1), stride=(1, 1), bias=False)\n",
       "            (norm2): BatchNorm2d(128, eps=1e-05, momentum=0.1, affine=True, track_running_stats=True)\n",
       "            (relu2): ReLU(inplace=True)\n",
       "            (conv2): Conv2d(128, 32, kernel_size=(3, 3), stride=(1, 1), padding=(1, 1), bias=False)\n",
       "          )\n",
       "        )\n",
       "        (denselayer7): _DenseLayer(\n",
       "          (layers): Sequential(\n",
       "            (norm1): BatchNorm2d(1088, eps=1e-05, momentum=0.1, affine=True, track_running_stats=True)\n",
       "            (relu1): ReLU(inplace=True)\n",
       "            (conv1): Conv2d(1088, 128, kernel_size=(1, 1), stride=(1, 1), bias=False)\n",
       "            (norm2): BatchNorm2d(128, eps=1e-05, momentum=0.1, affine=True, track_running_stats=True)\n",
       "            (relu2): ReLU(inplace=True)\n",
       "            (conv2): Conv2d(128, 32, kernel_size=(3, 3), stride=(1, 1), padding=(1, 1), bias=False)\n",
       "          )\n",
       "        )\n",
       "        (denselayer8): _DenseLayer(\n",
       "          (layers): Sequential(\n",
       "            (norm1): BatchNorm2d(1120, eps=1e-05, momentum=0.1, affine=True, track_running_stats=True)\n",
       "            (relu1): ReLU(inplace=True)\n",
       "            (conv1): Conv2d(1120, 128, kernel_size=(1, 1), stride=(1, 1), bias=False)\n",
       "            (norm2): BatchNorm2d(128, eps=1e-05, momentum=0.1, affine=True, track_running_stats=True)\n",
       "            (relu2): ReLU(inplace=True)\n",
       "            (conv2): Conv2d(128, 32, kernel_size=(3, 3), stride=(1, 1), padding=(1, 1), bias=False)\n",
       "          )\n",
       "        )\n",
       "        (denselayer9): _DenseLayer(\n",
       "          (layers): Sequential(\n",
       "            (norm1): BatchNorm2d(1152, eps=1e-05, momentum=0.1, affine=True, track_running_stats=True)\n",
       "            (relu1): ReLU(inplace=True)\n",
       "            (conv1): Conv2d(1152, 128, kernel_size=(1, 1), stride=(1, 1), bias=False)\n",
       "            (norm2): BatchNorm2d(128, eps=1e-05, momentum=0.1, affine=True, track_running_stats=True)\n",
       "            (relu2): ReLU(inplace=True)\n",
       "            (conv2): Conv2d(128, 32, kernel_size=(3, 3), stride=(1, 1), padding=(1, 1), bias=False)\n",
       "          )\n",
       "        )\n",
       "        (denselayer10): _DenseLayer(\n",
       "          (layers): Sequential(\n",
       "            (norm1): BatchNorm2d(1184, eps=1e-05, momentum=0.1, affine=True, track_running_stats=True)\n",
       "            (relu1): ReLU(inplace=True)\n",
       "            (conv1): Conv2d(1184, 128, kernel_size=(1, 1), stride=(1, 1), bias=False)\n",
       "            (norm2): BatchNorm2d(128, eps=1e-05, momentum=0.1, affine=True, track_running_stats=True)\n",
       "            (relu2): ReLU(inplace=True)\n",
       "            (conv2): Conv2d(128, 32, kernel_size=(3, 3), stride=(1, 1), padding=(1, 1), bias=False)\n",
       "          )\n",
       "        )\n",
       "        (denselayer11): _DenseLayer(\n",
       "          (layers): Sequential(\n",
       "            (norm1): BatchNorm2d(1216, eps=1e-05, momentum=0.1, affine=True, track_running_stats=True)\n",
       "            (relu1): ReLU(inplace=True)\n",
       "            (conv1): Conv2d(1216, 128, kernel_size=(1, 1), stride=(1, 1), bias=False)\n",
       "            (norm2): BatchNorm2d(128, eps=1e-05, momentum=0.1, affine=True, track_running_stats=True)\n",
       "            (relu2): ReLU(inplace=True)\n",
       "            (conv2): Conv2d(128, 32, kernel_size=(3, 3), stride=(1, 1), padding=(1, 1), bias=False)\n",
       "          )\n",
       "        )\n",
       "        (denselayer12): _DenseLayer(\n",
       "          (layers): Sequential(\n",
       "            (norm1): BatchNorm2d(1248, eps=1e-05, momentum=0.1, affine=True, track_running_stats=True)\n",
       "            (relu1): ReLU(inplace=True)\n",
       "            (conv1): Conv2d(1248, 128, kernel_size=(1, 1), stride=(1, 1), bias=False)\n",
       "            (norm2): BatchNorm2d(128, eps=1e-05, momentum=0.1, affine=True, track_running_stats=True)\n",
       "            (relu2): ReLU(inplace=True)\n",
       "            (conv2): Conv2d(128, 32, kernel_size=(3, 3), stride=(1, 1), padding=(1, 1), bias=False)\n",
       "          )\n",
       "        )\n",
       "        (denselayer13): _DenseLayer(\n",
       "          (layers): Sequential(\n",
       "            (norm1): BatchNorm2d(1280, eps=1e-05, momentum=0.1, affine=True, track_running_stats=True)\n",
       "            (relu1): ReLU(inplace=True)\n",
       "            (conv1): Conv2d(1280, 128, kernel_size=(1, 1), stride=(1, 1), bias=False)\n",
       "            (norm2): BatchNorm2d(128, eps=1e-05, momentum=0.1, affine=True, track_running_stats=True)\n",
       "            (relu2): ReLU(inplace=True)\n",
       "            (conv2): Conv2d(128, 32, kernel_size=(3, 3), stride=(1, 1), padding=(1, 1), bias=False)\n",
       "          )\n",
       "        )\n",
       "        (denselayer14): _DenseLayer(\n",
       "          (layers): Sequential(\n",
       "            (norm1): BatchNorm2d(1312, eps=1e-05, momentum=0.1, affine=True, track_running_stats=True)\n",
       "            (relu1): ReLU(inplace=True)\n",
       "            (conv1): Conv2d(1312, 128, kernel_size=(1, 1), stride=(1, 1), bias=False)\n",
       "            (norm2): BatchNorm2d(128, eps=1e-05, momentum=0.1, affine=True, track_running_stats=True)\n",
       "            (relu2): ReLU(inplace=True)\n",
       "            (conv2): Conv2d(128, 32, kernel_size=(3, 3), stride=(1, 1), padding=(1, 1), bias=False)\n",
       "          )\n",
       "        )\n",
       "        (denselayer15): _DenseLayer(\n",
       "          (layers): Sequential(\n",
       "            (norm1): BatchNorm2d(1344, eps=1e-05, momentum=0.1, affine=True, track_running_stats=True)\n",
       "            (relu1): ReLU(inplace=True)\n",
       "            (conv1): Conv2d(1344, 128, kernel_size=(1, 1), stride=(1, 1), bias=False)\n",
       "            (norm2): BatchNorm2d(128, eps=1e-05, momentum=0.1, affine=True, track_running_stats=True)\n",
       "            (relu2): ReLU(inplace=True)\n",
       "            (conv2): Conv2d(128, 32, kernel_size=(3, 3), stride=(1, 1), padding=(1, 1), bias=False)\n",
       "          )\n",
       "        )\n",
       "        (denselayer16): _DenseLayer(\n",
       "          (layers): Sequential(\n",
       "            (norm1): BatchNorm2d(1376, eps=1e-05, momentum=0.1, affine=True, track_running_stats=True)\n",
       "            (relu1): ReLU(inplace=True)\n",
       "            (conv1): Conv2d(1376, 128, kernel_size=(1, 1), stride=(1, 1), bias=False)\n",
       "            (norm2): BatchNorm2d(128, eps=1e-05, momentum=0.1, affine=True, track_running_stats=True)\n",
       "            (relu2): ReLU(inplace=True)\n",
       "            (conv2): Conv2d(128, 32, kernel_size=(3, 3), stride=(1, 1), padding=(1, 1), bias=False)\n",
       "          )\n",
       "        )\n",
       "        (denselayer17): _DenseLayer(\n",
       "          (layers): Sequential(\n",
       "            (norm1): BatchNorm2d(1408, eps=1e-05, momentum=0.1, affine=True, track_running_stats=True)\n",
       "            (relu1): ReLU(inplace=True)\n",
       "            (conv1): Conv2d(1408, 128, kernel_size=(1, 1), stride=(1, 1), bias=False)\n",
       "            (norm2): BatchNorm2d(128, eps=1e-05, momentum=0.1, affine=True, track_running_stats=True)\n",
       "            (relu2): ReLU(inplace=True)\n",
       "            (conv2): Conv2d(128, 32, kernel_size=(3, 3), stride=(1, 1), padding=(1, 1), bias=False)\n",
       "          )\n",
       "        )\n",
       "        (denselayer18): _DenseLayer(\n",
       "          (layers): Sequential(\n",
       "            (norm1): BatchNorm2d(1440, eps=1e-05, momentum=0.1, affine=True, track_running_stats=True)\n",
       "            (relu1): ReLU(inplace=True)\n",
       "            (conv1): Conv2d(1440, 128, kernel_size=(1, 1), stride=(1, 1), bias=False)\n",
       "            (norm2): BatchNorm2d(128, eps=1e-05, momentum=0.1, affine=True, track_running_stats=True)\n",
       "            (relu2): ReLU(inplace=True)\n",
       "            (conv2): Conv2d(128, 32, kernel_size=(3, 3), stride=(1, 1), padding=(1, 1), bias=False)\n",
       "          )\n",
       "        )\n",
       "        (denselayer19): _DenseLayer(\n",
       "          (layers): Sequential(\n",
       "            (norm1): BatchNorm2d(1472, eps=1e-05, momentum=0.1, affine=True, track_running_stats=True)\n",
       "            (relu1): ReLU(inplace=True)\n",
       "            (conv1): Conv2d(1472, 128, kernel_size=(1, 1), stride=(1, 1), bias=False)\n",
       "            (norm2): BatchNorm2d(128, eps=1e-05, momentum=0.1, affine=True, track_running_stats=True)\n",
       "            (relu2): ReLU(inplace=True)\n",
       "            (conv2): Conv2d(128, 32, kernel_size=(3, 3), stride=(1, 1), padding=(1, 1), bias=False)\n",
       "          )\n",
       "        )\n",
       "        (denselayer20): _DenseLayer(\n",
       "          (layers): Sequential(\n",
       "            (norm1): BatchNorm2d(1504, eps=1e-05, momentum=0.1, affine=True, track_running_stats=True)\n",
       "            (relu1): ReLU(inplace=True)\n",
       "            (conv1): Conv2d(1504, 128, kernel_size=(1, 1), stride=(1, 1), bias=False)\n",
       "            (norm2): BatchNorm2d(128, eps=1e-05, momentum=0.1, affine=True, track_running_stats=True)\n",
       "            (relu2): ReLU(inplace=True)\n",
       "            (conv2): Conv2d(128, 32, kernel_size=(3, 3), stride=(1, 1), padding=(1, 1), bias=False)\n",
       "          )\n",
       "        )\n",
       "        (denselayer21): _DenseLayer(\n",
       "          (layers): Sequential(\n",
       "            (norm1): BatchNorm2d(1536, eps=1e-05, momentum=0.1, affine=True, track_running_stats=True)\n",
       "            (relu1): ReLU(inplace=True)\n",
       "            (conv1): Conv2d(1536, 128, kernel_size=(1, 1), stride=(1, 1), bias=False)\n",
       "            (norm2): BatchNorm2d(128, eps=1e-05, momentum=0.1, affine=True, track_running_stats=True)\n",
       "            (relu2): ReLU(inplace=True)\n",
       "            (conv2): Conv2d(128, 32, kernel_size=(3, 3), stride=(1, 1), padding=(1, 1), bias=False)\n",
       "          )\n",
       "        )\n",
       "        (denselayer22): _DenseLayer(\n",
       "          (layers): Sequential(\n",
       "            (norm1): BatchNorm2d(1568, eps=1e-05, momentum=0.1, affine=True, track_running_stats=True)\n",
       "            (relu1): ReLU(inplace=True)\n",
       "            (conv1): Conv2d(1568, 128, kernel_size=(1, 1), stride=(1, 1), bias=False)\n",
       "            (norm2): BatchNorm2d(128, eps=1e-05, momentum=0.1, affine=True, track_running_stats=True)\n",
       "            (relu2): ReLU(inplace=True)\n",
       "            (conv2): Conv2d(128, 32, kernel_size=(3, 3), stride=(1, 1), padding=(1, 1), bias=False)\n",
       "          )\n",
       "        )\n",
       "        (denselayer23): _DenseLayer(\n",
       "          (layers): Sequential(\n",
       "            (norm1): BatchNorm2d(1600, eps=1e-05, momentum=0.1, affine=True, track_running_stats=True)\n",
       "            (relu1): ReLU(inplace=True)\n",
       "            (conv1): Conv2d(1600, 128, kernel_size=(1, 1), stride=(1, 1), bias=False)\n",
       "            (norm2): BatchNorm2d(128, eps=1e-05, momentum=0.1, affine=True, track_running_stats=True)\n",
       "            (relu2): ReLU(inplace=True)\n",
       "            (conv2): Conv2d(128, 32, kernel_size=(3, 3), stride=(1, 1), padding=(1, 1), bias=False)\n",
       "          )\n",
       "        )\n",
       "        (denselayer24): _DenseLayer(\n",
       "          (layers): Sequential(\n",
       "            (norm1): BatchNorm2d(1632, eps=1e-05, momentum=0.1, affine=True, track_running_stats=True)\n",
       "            (relu1): ReLU(inplace=True)\n",
       "            (conv1): Conv2d(1632, 128, kernel_size=(1, 1), stride=(1, 1), bias=False)\n",
       "            (norm2): BatchNorm2d(128, eps=1e-05, momentum=0.1, affine=True, track_running_stats=True)\n",
       "            (relu2): ReLU(inplace=True)\n",
       "            (conv2): Conv2d(128, 32, kernel_size=(3, 3), stride=(1, 1), padding=(1, 1), bias=False)\n",
       "          )\n",
       "        )\n",
       "        (denselayer25): _DenseLayer(\n",
       "          (layers): Sequential(\n",
       "            (norm1): BatchNorm2d(1664, eps=1e-05, momentum=0.1, affine=True, track_running_stats=True)\n",
       "            (relu1): ReLU(inplace=True)\n",
       "            (conv1): Conv2d(1664, 128, kernel_size=(1, 1), stride=(1, 1), bias=False)\n",
       "            (norm2): BatchNorm2d(128, eps=1e-05, momentum=0.1, affine=True, track_running_stats=True)\n",
       "            (relu2): ReLU(inplace=True)\n",
       "            (conv2): Conv2d(128, 32, kernel_size=(3, 3), stride=(1, 1), padding=(1, 1), bias=False)\n",
       "          )\n",
       "        )\n",
       "        (denselayer26): _DenseLayer(\n",
       "          (layers): Sequential(\n",
       "            (norm1): BatchNorm2d(1696, eps=1e-05, momentum=0.1, affine=True, track_running_stats=True)\n",
       "            (relu1): ReLU(inplace=True)\n",
       "            (conv1): Conv2d(1696, 128, kernel_size=(1, 1), stride=(1, 1), bias=False)\n",
       "            (norm2): BatchNorm2d(128, eps=1e-05, momentum=0.1, affine=True, track_running_stats=True)\n",
       "            (relu2): ReLU(inplace=True)\n",
       "            (conv2): Conv2d(128, 32, kernel_size=(3, 3), stride=(1, 1), padding=(1, 1), bias=False)\n",
       "          )\n",
       "        )\n",
       "        (denselayer27): _DenseLayer(\n",
       "          (layers): Sequential(\n",
       "            (norm1): BatchNorm2d(1728, eps=1e-05, momentum=0.1, affine=True, track_running_stats=True)\n",
       "            (relu1): ReLU(inplace=True)\n",
       "            (conv1): Conv2d(1728, 128, kernel_size=(1, 1), stride=(1, 1), bias=False)\n",
       "            (norm2): BatchNorm2d(128, eps=1e-05, momentum=0.1, affine=True, track_running_stats=True)\n",
       "            (relu2): ReLU(inplace=True)\n",
       "            (conv2): Conv2d(128, 32, kernel_size=(3, 3), stride=(1, 1), padding=(1, 1), bias=False)\n",
       "          )\n",
       "        )\n",
       "        (denselayer28): _DenseLayer(\n",
       "          (layers): Sequential(\n",
       "            (norm1): BatchNorm2d(1760, eps=1e-05, momentum=0.1, affine=True, track_running_stats=True)\n",
       "            (relu1): ReLU(inplace=True)\n",
       "            (conv1): Conv2d(1760, 128, kernel_size=(1, 1), stride=(1, 1), bias=False)\n",
       "            (norm2): BatchNorm2d(128, eps=1e-05, momentum=0.1, affine=True, track_running_stats=True)\n",
       "            (relu2): ReLU(inplace=True)\n",
       "            (conv2): Conv2d(128, 32, kernel_size=(3, 3), stride=(1, 1), padding=(1, 1), bias=False)\n",
       "          )\n",
       "        )\n",
       "        (denselayer29): _DenseLayer(\n",
       "          (layers): Sequential(\n",
       "            (norm1): BatchNorm2d(1792, eps=1e-05, momentum=0.1, affine=True, track_running_stats=True)\n",
       "            (relu1): ReLU(inplace=True)\n",
       "            (conv1): Conv2d(1792, 128, kernel_size=(1, 1), stride=(1, 1), bias=False)\n",
       "            (norm2): BatchNorm2d(128, eps=1e-05, momentum=0.1, affine=True, track_running_stats=True)\n",
       "            (relu2): ReLU(inplace=True)\n",
       "            (conv2): Conv2d(128, 32, kernel_size=(3, 3), stride=(1, 1), padding=(1, 1), bias=False)\n",
       "          )\n",
       "        )\n",
       "        (denselayer30): _DenseLayer(\n",
       "          (layers): Sequential(\n",
       "            (norm1): BatchNorm2d(1824, eps=1e-05, momentum=0.1, affine=True, track_running_stats=True)\n",
       "            (relu1): ReLU(inplace=True)\n",
       "            (conv1): Conv2d(1824, 128, kernel_size=(1, 1), stride=(1, 1), bias=False)\n",
       "            (norm2): BatchNorm2d(128, eps=1e-05, momentum=0.1, affine=True, track_running_stats=True)\n",
       "            (relu2): ReLU(inplace=True)\n",
       "            (conv2): Conv2d(128, 32, kernel_size=(3, 3), stride=(1, 1), padding=(1, 1), bias=False)\n",
       "          )\n",
       "        )\n",
       "        (denselayer31): _DenseLayer(\n",
       "          (layers): Sequential(\n",
       "            (norm1): BatchNorm2d(1856, eps=1e-05, momentum=0.1, affine=True, track_running_stats=True)\n",
       "            (relu1): ReLU(inplace=True)\n",
       "            (conv1): Conv2d(1856, 128, kernel_size=(1, 1), stride=(1, 1), bias=False)\n",
       "            (norm2): BatchNorm2d(128, eps=1e-05, momentum=0.1, affine=True, track_running_stats=True)\n",
       "            (relu2): ReLU(inplace=True)\n",
       "            (conv2): Conv2d(128, 32, kernel_size=(3, 3), stride=(1, 1), padding=(1, 1), bias=False)\n",
       "          )\n",
       "        )\n",
       "        (denselayer32): _DenseLayer(\n",
       "          (layers): Sequential(\n",
       "            (norm1): BatchNorm2d(1888, eps=1e-05, momentum=0.1, affine=True, track_running_stats=True)\n",
       "            (relu1): ReLU(inplace=True)\n",
       "            (conv1): Conv2d(1888, 128, kernel_size=(1, 1), stride=(1, 1), bias=False)\n",
       "            (norm2): BatchNorm2d(128, eps=1e-05, momentum=0.1, affine=True, track_running_stats=True)\n",
       "            (relu2): ReLU(inplace=True)\n",
       "            (conv2): Conv2d(128, 32, kernel_size=(3, 3), stride=(1, 1), padding=(1, 1), bias=False)\n",
       "          )\n",
       "        )\n",
       "      )\n",
       "      (norm5): BatchNorm2d(1920, eps=1e-05, momentum=0.1, affine=True, track_running_stats=True)\n",
       "    )\n",
       "    (class_layers): Sequential(\n",
       "      (relu): ReLU(inplace=True)\n",
       "      (pool): AdaptiveAvgPool2d(output_size=1)\n",
       "      (flatten): Flatten(start_dim=1, end_dim=-1)\n",
       "      (out): Linear(in_features=1920, out_features=6, bias=True)\n",
       "    )\n",
       "  )\n",
       "  (loss_fn): FocalLoss()\n",
       "  (train_f1): BinaryF1Score()\n",
       "  (val_f1): BinaryF1Score()\n",
       ")"
      ]
     },
     "execution_count": 117,
     "metadata": {},
     "output_type": "execute_result"
    }
   ],
   "source": [
    "checkpoint_dict = torch.load(\"DenseNet201_FocalLoss/model-epoch=03-val_f1=0.82.ckpt\")\n",
    "model_state_dict = checkpoint_dict['state_dict']\n",
    "model.load_state_dict(model_state_dict)\n",
    "model.to(\"cuda\")"
   ]
  },
  {
   "cell_type": "code",
   "execution_count": 127,
   "metadata": {
    "ExecuteTime": {
     "end_time": "2023-07-26T09:55:41.702875093Z",
     "start_time": "2023-07-26T09:50:16.493343815Z"
    },
    "collapsed": false,
    "jupyter": {
     "outputs_hidden": false
    }
   },
   "outputs": [
    {
     "data": {
      "application/vnd.jupyter.widget-view+json": {
       "model_id": "e32e1b4e3fb8484d80e06a249dca2f55",
       "version_major": 2,
       "version_minor": 0
      },
      "text/plain": [
       "  0%|          | 0/675 [00:00<?, ?it/s]"
      ]
     },
     "metadata": {},
     "output_type": "display_data"
    }
   ],
   "source": [
    "from tqdm.notebook import tqdm\n",
    "from monai.transforms import Activations\n",
    "model.eval()\n",
    "predictions_list = []\n",
    "labels_list = []\n",
    "with torch.no_grad():\n",
    "    for images, labels in tqdm(test_data_loader):\n",
    "        preds = model(images.to(\"cuda\"))\n",
    "        preds = Activations(sigmoid=True)(preds)\n",
    "        preds = preds.cpu().numpy() >= 0.5\n",
    "        predictions_list.extend(preds.astype(int))\n",
    "        labels_list.extend(labels.cpu().numpy())"
   ]
  },
  {
   "cell_type": "markdown",
   "metadata": {
    "collapsed": false,
    "jupyter": {
     "outputs_hidden": false
    }
   },
   "source": [
    "**Using F1 Metric to evaluate the model**"
   ]
  },
  {
   "cell_type": "code",
   "execution_count": 145,
   "metadata": {
    "ExecuteTime": {
     "end_time": "2023-07-26T10:39:49.891212196Z",
     "start_time": "2023-07-26T10:39:49.689816493Z"
    },
    "collapsed": false,
    "jupyter": {
     "outputs_hidden": false
    }
   },
   "outputs": [
    {
     "data": {
      "text/plain": [
       "tensor(0.8192)"
      ]
     },
     "execution_count": 145,
     "metadata": {},
     "output_type": "execute_result"
    }
   ],
   "source": [
    "f1_metric = torchmetrics.F1Score(task=\"binary\", num_classes=6)\n",
    "f1_metric(torch.tensor(predictions_list), torch.tensor(labels_list))"
   ]
  },
  {
   "cell_type": "markdown",
   "metadata": {
    "collapsed": false,
    "jupyter": {
     "outputs_hidden": false
    }
   },
   "source": [
    "**Using Classification Report to evaluate the model**"
   ]
  },
  {
   "cell_type": "code",
   "execution_count": 133,
   "metadata": {
    "ExecuteTime": {
     "end_time": "2023-07-26T10:02:03.998578982Z",
     "start_time": "2023-07-26T10:02:03.947384605Z"
    },
    "collapsed": false,
    "jupyter": {
     "outputs_hidden": false
    }
   },
   "outputs": [
    {
     "name": "stdout",
     "output_type": "stream",
     "text": [
      "                  precision    recall  f1-score   support\n",
      "\n",
      "             any       0.92      0.90      0.91     10793\n",
      "        epidural       0.56      0.50      0.52       314\n",
      "intraparenchymal       0.89      0.73      0.80      3612\n",
      "intraventricular       0.90      0.76      0.83      2621\n",
      "    subarachnoid       0.71      0.68      0.70      3567\n",
      "        subdural       0.72      0.76      0.74      4717\n",
      "\n",
      "       micro avg       0.84      0.80      0.82     25624\n",
      "       macro avg       0.78      0.72      0.75     25624\n",
      "    weighted avg       0.84      0.80      0.82     25624\n",
      "     samples avg       0.41      0.40      0.40     25624\n",
      "\n"
     ]
    }
   ],
   "source": [
    "from sklearn.metrics import classification_report\n",
    "print(classification_report(labels_list, predictions_list, target_names = test_dataframe.columns[1:]))"
   ]
  },
  {
   "cell_type": "code",
   "execution_count": 160,
   "metadata": {
    "ExecuteTime": {
     "end_time": "2023-07-26T11:00:14.413310556Z",
     "start_time": "2023-07-26T11:00:13.307006376Z"
    },
    "collapsed": false,
    "jupyter": {
     "outputs_hidden": false
    }
   },
   "outputs": [
    {
     "data": {
      "image/png": "[encoded data removed]",
      "text/plain": [
       "<Figure size 1500x1000 with 6 Axes>"
      ]
     },
     "metadata": {},
     "output_type": "display_data"
    }
   ],
   "source": [
    "from sklearn.metrics import multilabel_confusion_matrix\n",
    "import seaborn as sns\n",
    "conf_matrix = multilabel_confusion_matrix(labels_list, predictions_list)\n",
    "labels = test_dataframe.columns[1:]\n",
    "fig, axes = plt.subplots(2,3, figsize=(15, 10))\n",
    "axes = axes.flatten()\n",
    "for i, class_conf in enumerate(conf_matrix):\n",
    "    sns.heatmap(class_conf, annot=True, fmt=\"d\", cbar=False, cmap=\"Blues\", xticklabels=[\"Neg\", \"Pos\"], yticklabels=[\"Neg\", \"Pos\"], ax=axes[i])\n",
    "    axes[i].set_xlabel(\"Predicted Labels\")\n",
    "    axes[i].set_ylabel(\"True Labels\")\n",
    "    axes[i].set_title(f\"{labels[i]}\")\n",
    "    axes[i].xaxis.set_ticklabels([\"Neg\", \"Pos\"])\n",
    "    axes[i].yaxis.set_ticklabels([\"Neg\", \"Pos\"])\n"
   ]
  },
  {
   "cell_type": "markdown",
   "metadata": {
    "collapsed": false,
    "jupyter": {
     "outputs_hidden": false
    }
   },
   "source": [
    "### 9.3 Error Analysis  <a id=\"Error-Analysis\"></a>"
   ]
  },
  {
   "cell_type": "markdown",
   "metadata": {
    "collapsed": false,
    "jupyter": {
     "outputs_hidden": false
    }
   },
   "source": [
    "**Getting a random example from subdural type that the model failed to detect**"
   ]
  },
  {
   "cell_type": "code",
   "execution_count": 194,
   "metadata": {
    "ExecuteTime": {
     "end_time": "2023-07-26T11:23:06.900269349Z",
     "start_time": "2023-07-26T11:23:06.884539368Z"
    },
    "collapsed": false,
    "jupyter": {
     "outputs_hidden": false
    }
   },
   "outputs": [],
   "source": [
    "subdural_idx = np.where((np.array(labels_list)[:, -1] == 1) & (np.array(predictions_list)[:, -1] == 0))[0]\n",
    "subdural_random_idx = np.random.choice(subdural_idx, 1)[0]"
   ]
  },
  {
   "cell_type": "code",
   "execution_count": 195,
   "metadata": {
    "ExecuteTime": {
     "end_time": "2023-07-26T11:23:10.419374465Z",
     "start_time": "2023-07-26T11:23:10.416050701Z"
    },
    "collapsed": false,
    "jupyter": {
     "outputs_hidden": false
    }
   },
   "outputs": [
    {
     "data": {
      "text/plain": [
       "21330"
      ]
     },
     "execution_count": 195,
     "metadata": {},
     "output_type": "execute_result"
    }
   ],
   "source": [
    "subdural_random_idx"
   ]
  },
  {
   "cell_type": "markdown",
   "metadata": {
    "collapsed": false,
    "jupyter": {
     "outputs_hidden": false
    }
   },
   "source": [
    "**Getting the predictions**"
   ]
  },
  {
   "cell_type": "code",
   "execution_count": 196,
   "metadata": {
    "ExecuteTime": {
     "end_time": "2023-07-26T11:23:13.862361932Z",
     "start_time": "2023-07-26T11:23:13.853524784Z"
    },
    "collapsed": false,
    "jupyter": {
     "outputs_hidden": false
    }
   },
   "outputs": [
    {
     "data": {
      "text/plain": [
       "array([1, 0, 0, 1, 0, 0])"
      ]
     },
     "execution_count": 196,
     "metadata": {},
     "output_type": "execute_result"
    }
   ],
   "source": [
    "subdural_prediction = np.array(predictions_list)[subdural_random_idx]\n",
    "subdural_prediction"
   ]
  },
  {
   "cell_type": "markdown",
   "metadata": {
    "collapsed": false,
    "jupyter": {
     "outputs_hidden": false
    }
   },
   "source": [
    "**Getting the true labels**"
   ]
  },
  {
   "cell_type": "code",
   "execution_count": 197,
   "metadata": {
    "ExecuteTime": {
     "end_time": "2023-07-26T11:23:34.004708625Z",
     "start_time": "2023-07-26T11:23:33.957899739Z"
    },
    "collapsed": false,
    "jupyter": {
     "outputs_hidden": false
    }
   },
   "outputs": [
    {
     "data": {
      "text/plain": [
       "array([1, 0, 0, 1, 0, 1])"
      ]
     },
     "execution_count": 197,
     "metadata": {},
     "output_type": "execute_result"
    }
   ],
   "source": [
    "subdural_label = np.array(labels_list)[subdural_random_idx]\n",
    "subdural_label"
   ]
  },
  {
   "cell_type": "markdown",
   "metadata": {
    "collapsed": false,
    "jupyter": {
     "outputs_hidden": false
    }
   },
   "source": [
    "**The model predicts this image as only intraparenchymal but its labels are subdural and intraparenchymal**"
   ]
  },
  {
   "cell_type": "code",
   "execution_count": 198,
   "metadata": {
    "ExecuteTime": {
     "end_time": "2023-07-26T11:23:51.506281138Z",
     "start_time": "2023-07-26T11:23:51.493341956Z"
    },
    "collapsed": false,
    "jupyter": {
     "outputs_hidden": false
    }
   },
   "outputs": [],
   "source": [
    "subdural_file_path = ROOT_DATA_DIR/TRAINING_IMAGES_PATH /test_dataframe.iloc[subdural_random_idx]['ID']\n",
    "img = test_transform(subdural_file_path)"
   ]
  },
  {
   "cell_type": "code",
   "execution_count": 203,
   "metadata": {
    "ExecuteTime": {
     "end_time": "2023-07-26T11:38:04.720859219Z",
     "start_time": "2023-07-26T11:38:04.462976190Z"
    },
    "collapsed": false,
    "jupyter": {
     "outputs_hidden": false
    }
   },
   "outputs": [
    {
     "data": {
      "image/png": "[encoded data removed]",
      "text/plain": [
       "<Figure size 640x480 with 1 Axes>"
      ]
     },
     "metadata": {},
     "output_type": "display_data"
    }
   ],
   "source": [
    "plt.imshow(np.array(img)[0], cmap=\"gray\")\n",
    "plt.grid(False)"
   ]
  },
  {
   "cell_type": "markdown",
   "metadata": {
    "collapsed": false,
    "jupyter": {
     "outputs_hidden": false
    }
   },
   "source": [
    "**From the image above, it's shown that, this patient had two subtypes of Hemorrhage.**"
   ]
  }
 ],
 "metadata": {
  "kernelspec": {
   "display_name": "Python 3 (ipykernel)",
   "language": "python",
   "name": "python3"
  },
  "language_info": {
   "codemirror_mode": {
    "name": "ipython",
    "version": 3
   },
   "file_extension": ".py",
   "mimetype": "text/x-python",
   "name": "python",
   "nbconvert_exporter": "python",
   "pygments_lexer": "ipython3",
   "version": "3.10.13"
  },
  "widgets": {
   "application/vnd.jupyter.widget-state+json": {
    "state": {},
    "version_major": 2,
    "version_minor": 0
   }
  }
 },
 "nbformat": 4,
 "nbformat_minor": 4
}
